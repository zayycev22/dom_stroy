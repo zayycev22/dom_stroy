{
 "cells": [
  {
   "cell_type": "code",
   "execution_count": 1,
   "metadata": {
    "collapsed": true
   },
   "outputs": [],
   "source": [
    "import tensorflow as tf\n",
    "import numpy as np\n",
    "import pandas as pd\n",
    "from sklearn.model_selection import train_test_split\n",
    "import sklearn as sk"
   ]
  },
  {
   "cell_type": "code",
   "execution_count": 2,
   "outputs": [
    {
     "data": {
      "text/plain": "       obj_key  obj_subprg Кодзадачи  ДатаНачалаЗадачи  Статуспоэкспертизе  \\\n0     017-0520           1         1            736999                   0   \n1     017-0520           1     1.4.2            738139                   0   \n2     017-0520           1         3            737841                   0   \n3     017-0520           1       3.1            737841                   0   \n4     017-0520           1      3.11            737900                   0   \n...        ...         ...       ...               ...                 ...   \n1840  022-0631           3      5.11            739160                   0   \n1841  022-0631           3       7.1            739160                   0   \n1842  022-0631           3     7.1.8            739201                   0   \n1843  022-0631           3       7.4            739202                   0   \n1844  022-0631           3         8            739222                   0   \n\n      Экспертиза  season  Скорость  Кол-во рабочих  Генподрядчик  ...  \\\n0              0       4  0.757576               0             5  ...   \n1              0       1  0.757576               0             5  ...   \n2              0       2  0.083333               0             5  ...   \n3              0       2  0.681818               0             5  ...   \n4              0       2  0.000000               0             5  ...   \n...          ...     ...       ...             ...           ...  ...   \n1840           0       4  0.000000               0             2  ...   \n1841           0       3  0.000000               0             2  ...   \n1842           0       4  0.000000               0             2  ...   \n1843           0       4  0.000000               0             2  ...   \n1844           0       1  0.000000               0             2  ...   \n\n      2023-04-03  2023-04-10  2023-04-17  2023-04-24  2023-05-02  2023-05-10  \\\n0            100         100         100         100         100         100   \n1            100         100         100         100         100         100   \n2             11          11          11          11          11          11   \n3             38          38          38          38          38          38   \n4              0           0           0           0           0           0   \n...          ...         ...         ...         ...         ...         ...   \n1840           0           0           0           0           0           0   \n1841           0           0           0           0           0           0   \n1842           0           0           0           0           0           0   \n1843           0           0           0           0           0           0   \n1844           0           0           0           0           0           0   \n\n      2023-05-15  2023-05-22  2023-05-29     y  \n0            100         100         100  1202  \n1            100         100         100    62  \n2             11          11          11   373  \n3             38          38          38   220  \n4              0           0           0   314  \n...          ...         ...         ...   ...  \n1840           0           0           0     4  \n1841           0           0           0    44  \n1842           0           0           0     3  \n1843           0           0           0    28  \n1844           0           0           0   221  \n\n[1845 rows x 32 columns]",
      "text/html": "<div>\n<style scoped>\n    .dataframe tbody tr th:only-of-type {\n        vertical-align: middle;\n    }\n\n    .dataframe tbody tr th {\n        vertical-align: top;\n    }\n\n    .dataframe thead th {\n        text-align: right;\n    }\n</style>\n<table border=\"1\" class=\"dataframe\">\n  <thead>\n    <tr style=\"text-align: right;\">\n      <th></th>\n      <th>obj_key</th>\n      <th>obj_subprg</th>\n      <th>Кодзадачи</th>\n      <th>ДатаНачалаЗадачи</th>\n      <th>Статуспоэкспертизе</th>\n      <th>Экспертиза</th>\n      <th>season</th>\n      <th>Скорость</th>\n      <th>Кол-во рабочих</th>\n      <th>Генподрядчик</th>\n      <th>...</th>\n      <th>2023-04-03</th>\n      <th>2023-04-10</th>\n      <th>2023-04-17</th>\n      <th>2023-04-24</th>\n      <th>2023-05-02</th>\n      <th>2023-05-10</th>\n      <th>2023-05-15</th>\n      <th>2023-05-22</th>\n      <th>2023-05-29</th>\n      <th>y</th>\n    </tr>\n  </thead>\n  <tbody>\n    <tr>\n      <th>0</th>\n      <td>017-0520</td>\n      <td>1</td>\n      <td>1</td>\n      <td>736999</td>\n      <td>0</td>\n      <td>0</td>\n      <td>4</td>\n      <td>0.757576</td>\n      <td>0</td>\n      <td>5</td>\n      <td>...</td>\n      <td>100</td>\n      <td>100</td>\n      <td>100</td>\n      <td>100</td>\n      <td>100</td>\n      <td>100</td>\n      <td>100</td>\n      <td>100</td>\n      <td>100</td>\n      <td>1202</td>\n    </tr>\n    <tr>\n      <th>1</th>\n      <td>017-0520</td>\n      <td>1</td>\n      <td>1.4.2</td>\n      <td>738139</td>\n      <td>0</td>\n      <td>0</td>\n      <td>1</td>\n      <td>0.757576</td>\n      <td>0</td>\n      <td>5</td>\n      <td>...</td>\n      <td>100</td>\n      <td>100</td>\n      <td>100</td>\n      <td>100</td>\n      <td>100</td>\n      <td>100</td>\n      <td>100</td>\n      <td>100</td>\n      <td>100</td>\n      <td>62</td>\n    </tr>\n    <tr>\n      <th>2</th>\n      <td>017-0520</td>\n      <td>1</td>\n      <td>3</td>\n      <td>737841</td>\n      <td>0</td>\n      <td>0</td>\n      <td>2</td>\n      <td>0.083333</td>\n      <td>0</td>\n      <td>5</td>\n      <td>...</td>\n      <td>11</td>\n      <td>11</td>\n      <td>11</td>\n      <td>11</td>\n      <td>11</td>\n      <td>11</td>\n      <td>11</td>\n      <td>11</td>\n      <td>11</td>\n      <td>373</td>\n    </tr>\n    <tr>\n      <th>3</th>\n      <td>017-0520</td>\n      <td>1</td>\n      <td>3.1</td>\n      <td>737841</td>\n      <td>0</td>\n      <td>0</td>\n      <td>2</td>\n      <td>0.681818</td>\n      <td>0</td>\n      <td>5</td>\n      <td>...</td>\n      <td>38</td>\n      <td>38</td>\n      <td>38</td>\n      <td>38</td>\n      <td>38</td>\n      <td>38</td>\n      <td>38</td>\n      <td>38</td>\n      <td>38</td>\n      <td>220</td>\n    </tr>\n    <tr>\n      <th>4</th>\n      <td>017-0520</td>\n      <td>1</td>\n      <td>3.11</td>\n      <td>737900</td>\n      <td>0</td>\n      <td>0</td>\n      <td>2</td>\n      <td>0.000000</td>\n      <td>0</td>\n      <td>5</td>\n      <td>...</td>\n      <td>0</td>\n      <td>0</td>\n      <td>0</td>\n      <td>0</td>\n      <td>0</td>\n      <td>0</td>\n      <td>0</td>\n      <td>0</td>\n      <td>0</td>\n      <td>314</td>\n    </tr>\n    <tr>\n      <th>...</th>\n      <td>...</td>\n      <td>...</td>\n      <td>...</td>\n      <td>...</td>\n      <td>...</td>\n      <td>...</td>\n      <td>...</td>\n      <td>...</td>\n      <td>...</td>\n      <td>...</td>\n      <td>...</td>\n      <td>...</td>\n      <td>...</td>\n      <td>...</td>\n      <td>...</td>\n      <td>...</td>\n      <td>...</td>\n      <td>...</td>\n      <td>...</td>\n      <td>...</td>\n      <td>...</td>\n    </tr>\n    <tr>\n      <th>1840</th>\n      <td>022-0631</td>\n      <td>3</td>\n      <td>5.11</td>\n      <td>739160</td>\n      <td>0</td>\n      <td>0</td>\n      <td>4</td>\n      <td>0.000000</td>\n      <td>0</td>\n      <td>2</td>\n      <td>...</td>\n      <td>0</td>\n      <td>0</td>\n      <td>0</td>\n      <td>0</td>\n      <td>0</td>\n      <td>0</td>\n      <td>0</td>\n      <td>0</td>\n      <td>0</td>\n      <td>4</td>\n    </tr>\n    <tr>\n      <th>1841</th>\n      <td>022-0631</td>\n      <td>3</td>\n      <td>7.1</td>\n      <td>739160</td>\n      <td>0</td>\n      <td>0</td>\n      <td>3</td>\n      <td>0.000000</td>\n      <td>0</td>\n      <td>2</td>\n      <td>...</td>\n      <td>0</td>\n      <td>0</td>\n      <td>0</td>\n      <td>0</td>\n      <td>0</td>\n      <td>0</td>\n      <td>0</td>\n      <td>0</td>\n      <td>0</td>\n      <td>44</td>\n    </tr>\n    <tr>\n      <th>1842</th>\n      <td>022-0631</td>\n      <td>3</td>\n      <td>7.1.8</td>\n      <td>739201</td>\n      <td>0</td>\n      <td>0</td>\n      <td>4</td>\n      <td>0.000000</td>\n      <td>0</td>\n      <td>2</td>\n      <td>...</td>\n      <td>0</td>\n      <td>0</td>\n      <td>0</td>\n      <td>0</td>\n      <td>0</td>\n      <td>0</td>\n      <td>0</td>\n      <td>0</td>\n      <td>0</td>\n      <td>3</td>\n    </tr>\n    <tr>\n      <th>1843</th>\n      <td>022-0631</td>\n      <td>3</td>\n      <td>7.4</td>\n      <td>739202</td>\n      <td>0</td>\n      <td>0</td>\n      <td>4</td>\n      <td>0.000000</td>\n      <td>0</td>\n      <td>2</td>\n      <td>...</td>\n      <td>0</td>\n      <td>0</td>\n      <td>0</td>\n      <td>0</td>\n      <td>0</td>\n      <td>0</td>\n      <td>0</td>\n      <td>0</td>\n      <td>0</td>\n      <td>28</td>\n    </tr>\n    <tr>\n      <th>1844</th>\n      <td>022-0631</td>\n      <td>3</td>\n      <td>8</td>\n      <td>739222</td>\n      <td>0</td>\n      <td>0</td>\n      <td>1</td>\n      <td>0.000000</td>\n      <td>0</td>\n      <td>2</td>\n      <td>...</td>\n      <td>0</td>\n      <td>0</td>\n      <td>0</td>\n      <td>0</td>\n      <td>0</td>\n      <td>0</td>\n      <td>0</td>\n      <td>0</td>\n      <td>0</td>\n      <td>221</td>\n    </tr>\n  </tbody>\n</table>\n<p>1845 rows × 32 columns</p>\n</div>"
     },
     "execution_count": 2,
     "metadata": {},
     "output_type": "execute_result"
    }
   ],
   "source": [
    "df = pd.read_csv(\"files//times.csv\")\n",
    "df"
   ],
   "metadata": {
    "collapsed": false,
    "pycharm": {
     "name": "#%%\n"
    }
   }
  },
  {
   "cell_type": "code",
   "execution_count": null,
   "outputs": [],
   "source": [],
   "metadata": {
    "collapsed": false,
    "pycharm": {
     "name": "#%%\n"
    }
   }
  }
 ],
 "metadata": {
  "kernelspec": {
   "display_name": "Python 3",
   "language": "python",
   "name": "python3"
  },
  "language_info": {
   "codemirror_mode": {
    "name": "ipython",
    "version": 2
   },
   "file_extension": ".py",
   "mimetype": "text/x-python",
   "name": "python",
   "nbconvert_exporter": "python",
   "pygments_lexer": "ipython2",
   "version": "2.7.6"
  }
 },
 "nbformat": 4,
 "nbformat_minor": 0
}