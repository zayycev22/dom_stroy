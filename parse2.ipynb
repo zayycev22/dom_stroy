{
 "cells": [
  {
   "cell_type": "code",
   "execution_count": null,
   "metadata": {
    "collapsed": true
   },
   "outputs": [],
   "source": [
    "import pandas as pd\n",
    "from tqdm import tqdm\n",
    "import warnings\n",
    "import numpy as np\n",
    "from sklearn.model_selection import train_test_split\n",
    "from catboost import CatBoostRegressor\n",
    "import sklearn as sk\n",
    "\n",
    "warnings.filterwarnings('ignore')"
   ]
  },
  {
   "cell_type": "code",
   "execution_count": null,
   "outputs": [],
   "source": [
    "df = pd.read_csv(\"files\\\\pred_final.csv\")\n",
    "df"
   ],
   "metadata": {
    "collapsed": false
   }
  },
  {
   "cell_type": "code",
   "execution_count": null,
   "outputs": [],
   "source": [
    "date_reports = df['date_report'].unique()\n",
    "columns = ['obj_key', 'obj_subprg', 'Кодзадачи', 'ДатаНачалаЗадачи', 'Статуспоэкспертизе', 'Экспертиза', 'season',\n",
    "           'Скорость', 'Кол-во рабочих', 'Генподрядчик', 'Генпроектировщик', 'Площадь', *date_reports, 'y']\n",
    "columns"
   ],
   "metadata": {
    "collapsed": false
   }
  },
  {
   "cell_type": "code",
   "execution_count": null,
   "outputs": [],
   "source": [
    "df = df.sort_values(['obj_key', 'Кодзадачи', 'ПроцентЗавершенияЗадачи', 'date_report'])"
   ],
   "metadata": {
    "collapsed": false
   }
  },
  {
   "cell_type": "code",
   "execution_count": null,
   "outputs": [],
   "source": [
    "len(date_reports)"
   ],
   "metadata": {
    "collapsed": false
   }
  },
  {
   "cell_type": "code",
   "execution_count": null,
   "outputs": [],
   "source": [
    "d_dates = {key: np.nan for key in date_reports}\n",
    "list(d_dates.values())"
   ],
   "metadata": {
    "collapsed": false
   }
  },
  {
   "cell_type": "code",
   "execution_count": null,
   "outputs": [],
   "source": [
    "new_df = pd.DataFrame(columns=columns)\n",
    "keys = df['obj_key'].unique()\n",
    "keys.sort()\n",
    "# pd.Series(row_data, index=columns\n",
    "for key in tqdm(keys):\n",
    "    codes = df[df['obj_key'] == key]['Кодзадачи'].unique()\n",
    "    for code in codes:\n",
    "        objects = df[(df['obj_key'] == key) & (df['Кодзадачи'] == code)]\n",
    "        start = objects.head(1)\n",
    "        last = objects.tail(1)\n",
    "        obj_key = key\n",
    "        obj_subprg = last['obj_subprg'].values[0]\n",
    "        obj_code = code\n",
    "        start_date = start['ДатаНачалаЗадачи'].values[0]\n",
    "        status_exp = last['Статуспоэкспертизе'].values[0]\n",
    "        exp = last['Экспертиза'].values[0]\n",
    "        season = last['season'].values[0]\n",
    "        speed = last['Скорость'].values[0]\n",
    "        rab_count = start['Кол-во рабочих'].values[0]\n",
    "        gen_pod = last['Генподрядчик'].values[0]\n",
    "        gen_proc = last['Генпроектировщик'].values[0]\n",
    "        square = last['Площадь'].values[0]\n",
    "        y_value = last['Время на выполнение'].values[0]\n",
    "        dates = objects['date_report'].unique()\n",
    "        d_dates = {key: np.nan for key in date_reports}\n",
    "        row_data = [obj_key, obj_subprg, obj_code, start_date, status_exp, exp, season, speed, rab_count, gen_pod,\n",
    "                    gen_proc, square]\n",
    "        for date in dates:\n",
    "            prc = objects[objects['date_report'] == date].head(1)['ПроцентЗавершенияЗадачи'].values[0]\n",
    "            d_dates[date] = prc\n",
    "        row_data.extend(list(d_dates.values()))\n",
    "        row_data.append(y_value)\n",
    "        new_df = new_df.append(pd.Series(row_data, index=columns), ignore_index=True)\n",
    "new_df"
   ],
   "metadata": {
    "collapsed": false
   }
  },
  {
   "cell_type": "code",
   "execution_count": null,
   "outputs": [],
   "source": [
    "def find_good_idx(vals: np.ndarray, start_index: int = 12) -> tuple[int, bool]:\n",
    "    good_idx = 0\n",
    "    for i in range(start_index, len(vals) - 2):\n",
    "        if not np.isnan(vals[i]):\n",
    "            good_idx = i\n",
    "    if good_idx == 0:\n",
    "        return 0, False\n",
    "    else:\n",
    "        return good_idx, True"
   ],
   "metadata": {
    "collapsed": false
   }
  },
  {
   "cell_type": "code",
   "execution_count": null,
   "outputs": [],
   "source": [
    "for i, row in new_df.iterrows():\n",
    "    has_nan = row.isna().any()\n",
    "    if has_nan:\n",
    "        vals = row.values\n",
    "        for j in range(12, len(vals) - 1):\n",
    "            if np.isnan(vals[j]):\n",
    "                good_idx, ans = find_good_idx(vals, i)\n",
    "                if ans:\n",
    "                    vals[j] = vals[good_idx]\n",
    "                else:\n",
    "                    good_idx, ans = find_good_idx(vals, 12)\n",
    "                    vals[j] = vals[good_idx]\n",
    "        new_df.loc[i] = vals"
   ],
   "metadata": {
    "collapsed": false
   }
  },
  {
   "cell_type": "code",
   "execution_count": null,
   "outputs": [],
   "source": [
    "new_df['Генпроектировщик'] = new_df['Генпроектировщик'].astype(int)\n",
    "new_df['Генподрядчик'] = new_df['Генподрядчик'].astype(int)\n",
    "new_df['Кол-во рабочих'] = new_df['Кол-во рабочих'].astype(int)\n",
    "new_df['ДатаНачалаЗадачи'] = pd.to_datetime(new_df['ДатаНачалаЗадачи']).apply(lambda x: x.toordinal())\n",
    "new_df['obj_subprg'] = new_df['obj_subprg'].astype(int)\n",
    "new_df['Статуспоэкспертизе'] = new_df['Статуспоэкспертизе'].astype(int)\n",
    "new_df['Экспертиза'] = new_df['Экспертиза'].astype(int)\n",
    "new_df['season'] = new_df['season'].astype(int)\n",
    "new_df['y'] = new_df['y'].astype(int)\n",
    "for column in date_reports:\n",
    "    new_df[column] = new_df[column].astype(int)\n",
    "new_df.dtypes"
   ],
   "metadata": {
    "collapsed": false
   }
  },
  {
   "cell_type": "code",
   "execution_count": null,
   "outputs": [],
   "source": [
    "cat_features = [\"Кодзадачи\", 'obj_subprg', 'Статуспоэкспертизе', 'Экспертиза', 'season', 'Генподрядчик',\n",
    "                'Генпроектировщик']"
   ],
   "metadata": {
    "collapsed": false
   }
  },
  {
   "cell_type": "code",
   "execution_count": null,
   "outputs": [],
   "source": [
    "new_df.to_csv(\"files\\\\times.csv\", index=False)"
   ],
   "metadata": {
    "collapsed": false
   }
  },
  {
   "cell_type": "code",
   "execution_count": null,
   "outputs": [],
   "source": [
    "import pickle\n",
    "\n",
    "encoder = sk.preprocessing.OneHotEncoder()\n",
    "encoded_features = encoder.fit_transform(new_df[cat_features])\n",
    "with open(\"encoder.pkl\", \"wb\") as f:\n",
    "    pickle.dump(encoder, f)\n",
    "encoded_df = pd.DataFrame(encoded_features.toarray()).reset_index(drop=True)\n",
    "df_no_cat = new_df.drop(cat_features, axis=1).reset_index(drop=True)\n",
    "new_data = pd.concat([encoded_df, df_no_cat], axis=1)\n",
    "\n",
    "new_data"
   ],
   "metadata": {
    "collapsed": false
   }
  },
  {
   "cell_type": "code",
   "execution_count": null,
   "outputs": [],
   "source": [
    "new_df3 = new_df.copy()\n",
    "new_df.drop(cat_features, inplace=True, axis=1)\n",
    "new_data.columns = [str(col) for col in\n",
    "                    new_data.columns]  # добавляем префикс к имени каждой колонки, чтобы избежать дубликатов\n",
    "new_df2 = new_data.copy()\n",
    "new_df2"
   ],
   "metadata": {
    "collapsed": false
   }
  },
  {
   "cell_type": "code",
   "execution_count": null,
   "outputs": [],
   "source": [
    "len(new_df)"
   ],
   "metadata": {
    "collapsed": false
   }
  },
  {
   "cell_type": "code",
   "execution_count": null,
   "outputs": [],
   "source": [
    "x_train, x_test, y_train, y_test = train_test_split(new_df2.drop(['obj_key', 'y'], axis=1), new_df2['y'],\n",
    "                                                    test_size=0.28,\n",
    "                                                    random_state=228)"
   ],
   "metadata": {
    "collapsed": false
   }
  },
  {
   "cell_type": "code",
   "execution_count": null,
   "outputs": [],
   "source": [
    "# leaf_estimation_backtracking=\"AnyImprovement\"\n",
    "model = CatBoostRegressor(iterations=15000, loss_function='MAE', learning_rate=0.05, max_depth=5, eval_metric=\"MAE\",\n",
    "                          leaf_estimation_backtracking=\"AnyImprovement\", subsample=0.7, bagging_temperature=0.3,\n",
    "                          langevin=True)"
   ],
   "metadata": {
    "collapsed": false
   }
  },
  {
   "cell_type": "code",
   "execution_count": null,
   "outputs": [],
   "source": [
    "model.fit(x_train, y_train, use_best_model=True, eval_set=(x_test, y_test))"
   ],
   "metadata": {
    "collapsed": false
   }
  },
  {
   "cell_type": "code",
   "execution_count": null,
   "outputs": [],
   "source": [
    "model.get_feature_importance(prettified=True)"
   ],
   "metadata": {
    "collapsed": false
   }
  },
  {
   "cell_type": "code",
   "execution_count": null,
   "outputs": [],
   "source": [
    "from sklearn.metrics import mean_absolute_error\n",
    "\n",
    "mean_absolute_error(y_test, model.predict(x_test))"
   ],
   "metadata": {
    "collapsed": false
   }
  },
  {
   "cell_type": "code",
   "execution_count": null,
   "outputs": [],
   "source": [
    "vals = new_df['y'].unique()\n",
    "vals.sort()\n",
    "print(min(vals), max(vals))\n"
   ],
   "metadata": {
    "collapsed": false
   }
  },
  {
   "cell_type": "code",
   "execution_count": null,
   "outputs": [],
   "source": [
    "len(new_df)\n",
    "model.save_model('cat_model')"
   ],
   "metadata": {
    "collapsed": false
   }
  },
  {
   "cell_type": "code",
   "execution_count": null,
   "outputs": [],
   "source": [],
   "metadata": {
    "collapsed": false
   }
  },
  {
   "cell_type": "code",
   "execution_count": null,
   "outputs": [],
   "source": [
    "len(model.predict(x_test))"
   ],
   "metadata": {
    "collapsed": false
   }
  },
  {
   "cell_type": "code",
   "execution_count": null,
   "outputs": [],
   "source": [
    "new_df3 = new_df3[:517]\n",
    "new_df3['yy'] = model.predict(x_test)\n"
   ],
   "metadata": {
    "collapsed": false
   }
  },
  {
   "cell_type": "code",
   "execution_count": null,
   "outputs": [],
   "source": [
    "new_df3['yy'] = new_df3['yy'].apply(lambda x: 0 if x < 0 else x)\n",
    "new_df3['yy'] = new_df3['yy'].round().astype(int)\n",
    "new_df3"
   ],
   "metadata": {
    "collapsed": false
   }
  },
  {
   "cell_type": "code",
   "execution_count": null,
   "outputs": [],
   "source": [
    "import datetime\n",
    "\n",
    "\n",
    "new_df3['ДатаНачалаЗадачи'] = new_df3['ДатаНачалаЗадачи'].apply(lambda x: datetime.date.fromordinal(x))\n",
    "new_df3"
   ],
   "metadata": {
    "collapsed": false
   }
  },
  {
   "cell_type": "code",
   "execution_count": null,
   "outputs": [],
   "source": [
    "new_df3['kkk'] = new_df3['ДатаНачалаЗадачи'] + pd.to_timedelta(new_df3['yy'], unit='d')\n",
    "new_df3"
   ],
   "metadata": {
    "collapsed": false
   }
  },
  {
   "cell_type": "code",
   "execution_count": null,
   "outputs": [],
   "source": [
    "df"
   ],
   "metadata": {
    "collapsed": false
   }
  }
 ],
 "metadata": {
  "kernelspec": {
   "display_name": "Python 3",
   "language": "python",
   "name": "python3"
  },
  "language_info": {
   "codemirror_mode": {
    "name": "ipython",
    "version": 2
   },
   "file_extension": ".py",
   "mimetype": "text/x-python",
   "name": "python",
   "nbconvert_exporter": "python",
   "pygments_lexer": "ipython2",
   "version": "2.7.6"
  }
 },
 "nbformat": 4,
 "nbformat_minor": 0
}
