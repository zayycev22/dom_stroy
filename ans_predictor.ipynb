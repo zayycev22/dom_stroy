{
 "cells": [
  {
   "cell_type": "code",
   "execution_count": null,
   "metadata": {
    "collapsed": true
   },
   "outputs": [],
   "source": [
    "from model_class import ModelReg\n",
    "import pandas as pd\n",
    "from tqdm import tqdm"
   ]
  },
  {
   "cell_type": "code",
   "execution_count": null,
   "outputs": [],
   "source": [
    "main_df = pd.read_csv('files\\\\pred_final.csv') # если делаете по шагам в readmemd, то не меняем!!!!\n",
    "main_df"
   ],
   "metadata": {
    "collapsed": false
   }
  },
  {
   "cell_type": "code",
   "execution_count": null,
   "outputs": [],
   "source": [
    "model = ModelReg(main_df, pretty=True)"
   ],
   "metadata": {
    "collapsed": false
   }
  },
  {
   "cell_type": "code",
   "execution_count": null,
   "outputs": [],
   "source": [
    "model.main()"
   ],
   "metadata": {
    "collapsed": false
   }
  },
  {
   "cell_type": "code",
   "execution_count": null,
   "outputs": [],
   "source": [
    "ans_df = model.df\n",
    "ans_df"
   ],
   "metadata": {
    "collapsed": false
   }
  },
  {
   "cell_type": "code",
   "execution_count": null,
   "outputs": [],
   "source": [
    "keys = ans_df['obj_key'].unique()\n",
    "for key in tqdm(keys):\n",
    "    codes = ans_df[ans_df['obj_key'] == key]['Кодзадачи'].unique()\n",
    "    for code in codes:\n",
    "        date = ans_df[(ans_df['obj_key'] == key) & (ans_df['Кодзадачи'] == code)]['ДатаОкончанияЗадачи'].values[0]\n",
    "        main_df.loc[(main_df['obj_key'] == key) & (main_df['Кодзадачи'] == code), 'ДатаОкончанияЗадачи'] = date\n"
   ],
   "metadata": {
    "collapsed": false
   }
  },
  {
   "cell_type": "code",
   "execution_count": null,
   "outputs": [],
   "source": [
    "main_df[['obj_key', 'Кодзадачи', 'ДатаНачалаЗадачи', 'ДатаОкончанияЗадачи']]"
   ],
   "metadata": {
    "collapsed": false
   }
  }
 ],
 "metadata": {
  "kernelspec": {
   "display_name": "Python 3",
   "language": "python",
   "name": "python3"
  },
  "language_info": {
   "codemirror_mode": {
    "name": "ipython",
    "version": 2
   },
   "file_extension": ".py",
   "mimetype": "text/x-python",
   "name": "python",
   "nbconvert_exporter": "python",
   "pygments_lexer": "ipython2",
   "version": "2.7.6"
  }
 },
 "nbformat": 4,
 "nbformat_minor": 0
}
