{
 "cells": [
  {
   "cell_type": "code",
   "execution_count": 4,
   "metadata": {
    "collapsed": true,
    "ExecuteTime": {
     "end_time": "2023-06-23T13:11:56.762997600Z",
     "start_time": "2023-06-23T13:11:56.740001800Z"
    }
   },
   "outputs": [],
   "source": [
    "import pandas as pd"
   ]
  },
  {
   "cell_type": "code",
   "execution_count": 5,
   "outputs": [
    {
     "data": {
      "text/plain": "446976"
     },
     "execution_count": 5,
     "metadata": {},
     "output_type": "execute_result"
    }
   ],
   "source": [
    "df = pd.read_csv('files\\\\dataset_ksg.csv')\n",
    "\n",
    "len(df)"
   ],
   "metadata": {
    "collapsed": false,
    "ExecuteTime": {
     "end_time": "2023-06-23T13:11:57.246001500Z",
     "start_time": "2023-06-23T13:11:56.753Z"
    }
   }
  },
  {
   "cell_type": "code",
   "execution_count": 6,
   "outputs": [],
   "source": [
    "keys = df['obj_key'].unique()"
   ],
   "metadata": {
    "collapsed": false,
    "ExecuteTime": {
     "end_time": "2023-06-23T13:11:57.288998600Z",
     "start_time": "2023-06-23T13:11:57.246001500Z"
    }
   }
  },
  {
   "cell_type": "code",
   "execution_count": 21,
   "outputs": [
    {
     "data": {
      "text/plain": "        № п/п   obj_key Кодзадачи  ПроцентЗавершенияЗадачи ДатаНачалаЗадачи  \\\n0          81  022-0527         1                      0.0       2022-01-14   \n258        81  022-0527     1.4.2                      0.0       2023-01-09   \n2247       81  022-0527         3                      0.0       2023-01-17   \n2415       81  022-0527       3.1                      0.0       2023-01-17   \n2549       81  022-0527      3.11                      0.0       2023-03-27   \n...       ...       ...       ...                      ...              ...   \n440279     84  022-0527         5                      0.0       2024-06-08   \n440621     84  022-0527      5.11                      0.0       2024-08-04   \n444293     84  022-0527       7.1                      0.0       2024-06-12   \n444970     84  022-0527     7.1.8                      0.0       2024-07-04   \n445038     84  022-0527       7.4                      0.0       2024-07-08   \n\n       ДатаОкончанияЗадачи ДатаначалаБП0 ДатаокончанияБП0  Статуспоэкспертизе  \\\n0               2023-03-30           NaN              NaN                 NaN   \n258             2023-03-30           NaN              NaN                 NaN   \n2247            2024-02-01           NaN              NaN                 NaN   \n2415            2023-05-22    2022-02-25       2022-05-01                 NaN   \n2549            2023-08-24           NaN       2022-07-15                 NaN   \n...                    ...           ...              ...                 ...   \n440279          2024-09-24    2024-04-05       2024-07-20                 NaN   \n440621          2024-08-08    2024-06-01       2024-06-05                 NaN   \n444293          2024-07-08    2024-05-29       2024-06-24                 NaN   \n444970          2024-07-08    2024-06-20       2024-06-24                 NaN   \n445038          2024-07-10    2024-06-24       2024-06-30                 NaN   \n\n       Экспертиза date_report  \n0             NaN  2023.01.17  \n258           NaN  2023.01.17  \n2247          NaN  2023.01.17  \n2415          NaN  2023.01.17  \n2549          NaN  2023.01.17  \n...           ...         ...  \n440279        NaN  2023.05.29  \n440621        NaN  2023.05.29  \n444293        NaN  2023.05.29  \n444970        NaN  2023.05.29  \n445038        NaN  2023.05.29  \n\n[491 rows x 11 columns]",
      "text/html": "<div>\n<style scoped>\n    .dataframe tbody tr th:only-of-type {\n        vertical-align: middle;\n    }\n\n    .dataframe tbody tr th {\n        vertical-align: top;\n    }\n\n    .dataframe thead th {\n        text-align: right;\n    }\n</style>\n<table border=\"1\" class=\"dataframe\">\n  <thead>\n    <tr style=\"text-align: right;\">\n      <th></th>\n      <th>№ п/п</th>\n      <th>obj_key</th>\n      <th>Кодзадачи</th>\n      <th>ПроцентЗавершенияЗадачи</th>\n      <th>ДатаНачалаЗадачи</th>\n      <th>ДатаОкончанияЗадачи</th>\n      <th>ДатаначалаБП0</th>\n      <th>ДатаокончанияБП0</th>\n      <th>Статуспоэкспертизе</th>\n      <th>Экспертиза</th>\n      <th>date_report</th>\n    </tr>\n  </thead>\n  <tbody>\n    <tr>\n      <th>0</th>\n      <td>81</td>\n      <td>022-0527</td>\n      <td>1</td>\n      <td>0.0</td>\n      <td>2022-01-14</td>\n      <td>2023-03-30</td>\n      <td>NaN</td>\n      <td>NaN</td>\n      <td>NaN</td>\n      <td>NaN</td>\n      <td>2023.01.17</td>\n    </tr>\n    <tr>\n      <th>258</th>\n      <td>81</td>\n      <td>022-0527</td>\n      <td>1.4.2</td>\n      <td>0.0</td>\n      <td>2023-01-09</td>\n      <td>2023-03-30</td>\n      <td>NaN</td>\n      <td>NaN</td>\n      <td>NaN</td>\n      <td>NaN</td>\n      <td>2023.01.17</td>\n    </tr>\n    <tr>\n      <th>2247</th>\n      <td>81</td>\n      <td>022-0527</td>\n      <td>3</td>\n      <td>0.0</td>\n      <td>2023-01-17</td>\n      <td>2024-02-01</td>\n      <td>NaN</td>\n      <td>NaN</td>\n      <td>NaN</td>\n      <td>NaN</td>\n      <td>2023.01.17</td>\n    </tr>\n    <tr>\n      <th>2415</th>\n      <td>81</td>\n      <td>022-0527</td>\n      <td>3.1</td>\n      <td>0.0</td>\n      <td>2023-01-17</td>\n      <td>2023-05-22</td>\n      <td>2022-02-25</td>\n      <td>2022-05-01</td>\n      <td>NaN</td>\n      <td>NaN</td>\n      <td>2023.01.17</td>\n    </tr>\n    <tr>\n      <th>2549</th>\n      <td>81</td>\n      <td>022-0527</td>\n      <td>3.11</td>\n      <td>0.0</td>\n      <td>2023-03-27</td>\n      <td>2023-08-24</td>\n      <td>NaN</td>\n      <td>2022-07-15</td>\n      <td>NaN</td>\n      <td>NaN</td>\n      <td>2023.01.17</td>\n    </tr>\n    <tr>\n      <th>...</th>\n      <td>...</td>\n      <td>...</td>\n      <td>...</td>\n      <td>...</td>\n      <td>...</td>\n      <td>...</td>\n      <td>...</td>\n      <td>...</td>\n      <td>...</td>\n      <td>...</td>\n      <td>...</td>\n    </tr>\n    <tr>\n      <th>440279</th>\n      <td>84</td>\n      <td>022-0527</td>\n      <td>5</td>\n      <td>0.0</td>\n      <td>2024-06-08</td>\n      <td>2024-09-24</td>\n      <td>2024-04-05</td>\n      <td>2024-07-20</td>\n      <td>NaN</td>\n      <td>NaN</td>\n      <td>2023.05.29</td>\n    </tr>\n    <tr>\n      <th>440621</th>\n      <td>84</td>\n      <td>022-0527</td>\n      <td>5.11</td>\n      <td>0.0</td>\n      <td>2024-08-04</td>\n      <td>2024-08-08</td>\n      <td>2024-06-01</td>\n      <td>2024-06-05</td>\n      <td>NaN</td>\n      <td>NaN</td>\n      <td>2023.05.29</td>\n    </tr>\n    <tr>\n      <th>444293</th>\n      <td>84</td>\n      <td>022-0527</td>\n      <td>7.1</td>\n      <td>0.0</td>\n      <td>2024-06-12</td>\n      <td>2024-07-08</td>\n      <td>2024-05-29</td>\n      <td>2024-06-24</td>\n      <td>NaN</td>\n      <td>NaN</td>\n      <td>2023.05.29</td>\n    </tr>\n    <tr>\n      <th>444970</th>\n      <td>84</td>\n      <td>022-0527</td>\n      <td>7.1.8</td>\n      <td>0.0</td>\n      <td>2024-07-04</td>\n      <td>2024-07-08</td>\n      <td>2024-06-20</td>\n      <td>2024-06-24</td>\n      <td>NaN</td>\n      <td>NaN</td>\n      <td>2023.05.29</td>\n    </tr>\n    <tr>\n      <th>445038</th>\n      <td>84</td>\n      <td>022-0527</td>\n      <td>7.4</td>\n      <td>0.0</td>\n      <td>2024-07-08</td>\n      <td>2024-07-10</td>\n      <td>2024-06-24</td>\n      <td>2024-06-30</td>\n      <td>NaN</td>\n      <td>NaN</td>\n      <td>2023.05.29</td>\n    </tr>\n  </tbody>\n</table>\n<p>491 rows × 11 columns</p>\n</div>"
     },
     "execution_count": 21,
     "metadata": {},
     "output_type": "execute_result"
    }
   ],
   "source": [
    "key_df = df[df['obj_key'] == keys[0]]\n",
    "main_keys = ['1', '1.4.2', '3', '3.1', '3.3', '3.8', '3.11', '3.13', '3.15', '4', '4.1.1', '4.2', '4.3', '4.4', '4.5', '4.6', '4.7', '4.8', '4.9', '4.10', '4.11', '4.12', '5', '5.11', '7.1', '7.1.8', '7.4', '8']\n",
    "key_df[key_df['Кодзадачи'].isin(main_keys)]"
   ],
   "metadata": {
    "collapsed": false,
    "ExecuteTime": {
     "end_time": "2023-06-23T13:31:51.644683900Z",
     "start_time": "2023-06-23T13:31:51.618689600Z"
    }
   }
  }
 ],
 "metadata": {
  "kernelspec": {
   "display_name": "Python 3",
   "language": "python",
   "name": "python3"
  },
  "language_info": {
   "codemirror_mode": {
    "name": "ipython",
    "version": 2
   },
   "file_extension": ".py",
   "mimetype": "text/x-python",
   "name": "python",
   "nbconvert_exporter": "python",
   "pygments_lexer": "ipython2",
   "version": "2.7.6"
  }
 },
 "nbformat": 4,
 "nbformat_minor": 0
}
