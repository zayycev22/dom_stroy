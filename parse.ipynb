{
 "cells": [
  {
   "cell_type": "code",
   "execution_count": 182,
   "metadata": {
    "collapsed": true,
    "ExecuteTime": {
     "end_time": "2023-06-24T12:11:55.075126800Z",
     "start_time": "2023-06-24T12:11:55.031127100Z"
    }
   },
   "outputs": [],
   "source": [
    "import numpy as np\n",
    "import pandas as pd\n",
    "import bisect\n",
    "from numpy import datetime64\n",
    "import warnings\n",
    "\n",
    "warnings.filterwarnings('ignore')"
   ]
  },
  {
   "cell_type": "code",
   "execution_count": 183,
   "outputs": [],
   "source": [
    "def get_season(date: datetime64) -> int:\n",
    "    x = date.month\n",
    "    if x == 12:\n",
    "        return 1\n",
    "    return bisect.bisect_left([1, 6, 8, 11], x) + 1"
   ],
   "metadata": {
    "collapsed": false,
    "ExecuteTime": {
     "end_time": "2023-06-24T12:11:55.126126300Z",
     "start_time": "2023-06-24T12:11:55.041127900Z"
    }
   }
  },
  {
   "cell_type": "code",
   "execution_count": 184,
   "outputs": [
    {
     "data": {
      "text/plain": "                 obj_prg                      obj_subprg   obj_key Кодзадачи  \\\n0            Образование  Общеобразовательные учреждения  022-0527         1   \n1            Образование  Общеобразовательные учреждения  022-0354         1   \n2            Образование           Дошкольные учреждения  022-0513         1   \n3            Образование           Дошкольные учреждения  020-0684         1   \n4            Образование           Дошкольные учреждения  019-0589         1   \n...                  ...                             ...       ...       ...   \n1060160  Здравоохранение                     Поликлиники  023-0135       NaN   \n1060161  Здравоохранение                     Поликлиники  021-0049       NaN   \n1060162  Здравоохранение                     Поликлиники  021-0050       NaN   \n1060163  Здравоохранение                     Поликлиники  022-0707       NaN   \n1060164  Здравоохранение                     Поликлиники  022-0630       NaN   \n\n         ПроцентЗавершенияЗадачи ДатаНачалаЗадачи ДатаОкончанияЗадачи  \\\n0                            0.0       2022-01-14          2023-03-30   \n1                            0.0       2022-12-01          2023-07-27   \n2                            0.0       2023-01-23          2023-09-29   \n3                            0.0       2020-11-03          2022-02-01   \n4                            0.0       2020-11-03          2022-05-16   \n...                          ...              ...                 ...   \n1060160                      NaN              NaN                 NaN   \n1060161                      NaN              NaN                 NaN   \n1060162                      NaN              NaN                 NaN   \n1060163                      NaN              NaN                 NaN   \n1060164                      NaN              NaN                 NaN   \n\n        ДатаначалаБП0 ДатаокончанияБП0  Статуспоэкспертизе Экспертиза  \\\n0                 NaN              NaN                 NaN        NaN   \n1                 NaN              NaN                 NaN        NaN   \n2                 NaN              NaN                 NaN        NaN   \n3          2020-11-03       2021-12-29                 NaN        NaN   \n4          2020-11-03       2021-12-29                 NaN        NaN   \n...               ...              ...                 ...        ...   \n1060160           NaN              NaN                 NaN        NaN   \n1060161           NaN              NaN                 NaN        NaN   \n1060162           NaN              NaN                 NaN        NaN   \n1060163           NaN              NaN                 NaN        NaN   \n1060164           NaN              NaN                 NaN        NaN   \n\n        date_report  \n0        2023.01.17  \n1        2023.01.17  \n2        2023.01.17  \n3        2023.01.17  \n4        2023.01.17  \n...             ...  \n1060160  2023.05.29  \n1060161  2023.05.29  \n1060162  2023.05.29  \n1060163  2023.05.29  \n1060164  2023.05.29  \n\n[1060165 rows x 12 columns]",
      "text/html": "<div>\n<style scoped>\n    .dataframe tbody tr th:only-of-type {\n        vertical-align: middle;\n    }\n\n    .dataframe tbody tr th {\n        vertical-align: top;\n    }\n\n    .dataframe thead th {\n        text-align: right;\n    }\n</style>\n<table border=\"1\" class=\"dataframe\">\n  <thead>\n    <tr style=\"text-align: right;\">\n      <th></th>\n      <th>obj_prg</th>\n      <th>obj_subprg</th>\n      <th>obj_key</th>\n      <th>Кодзадачи</th>\n      <th>ПроцентЗавершенияЗадачи</th>\n      <th>ДатаНачалаЗадачи</th>\n      <th>ДатаОкончанияЗадачи</th>\n      <th>ДатаначалаБП0</th>\n      <th>ДатаокончанияБП0</th>\n      <th>Статуспоэкспертизе</th>\n      <th>Экспертиза</th>\n      <th>date_report</th>\n    </tr>\n  </thead>\n  <tbody>\n    <tr>\n      <th>0</th>\n      <td>Образование</td>\n      <td>Общеобразовательные учреждения</td>\n      <td>022-0527</td>\n      <td>1</td>\n      <td>0.0</td>\n      <td>2022-01-14</td>\n      <td>2023-03-30</td>\n      <td>NaN</td>\n      <td>NaN</td>\n      <td>NaN</td>\n      <td>NaN</td>\n      <td>2023.01.17</td>\n    </tr>\n    <tr>\n      <th>1</th>\n      <td>Образование</td>\n      <td>Общеобразовательные учреждения</td>\n      <td>022-0354</td>\n      <td>1</td>\n      <td>0.0</td>\n      <td>2022-12-01</td>\n      <td>2023-07-27</td>\n      <td>NaN</td>\n      <td>NaN</td>\n      <td>NaN</td>\n      <td>NaN</td>\n      <td>2023.01.17</td>\n    </tr>\n    <tr>\n      <th>2</th>\n      <td>Образование</td>\n      <td>Дошкольные учреждения</td>\n      <td>022-0513</td>\n      <td>1</td>\n      <td>0.0</td>\n      <td>2023-01-23</td>\n      <td>2023-09-29</td>\n      <td>NaN</td>\n      <td>NaN</td>\n      <td>NaN</td>\n      <td>NaN</td>\n      <td>2023.01.17</td>\n    </tr>\n    <tr>\n      <th>3</th>\n      <td>Образование</td>\n      <td>Дошкольные учреждения</td>\n      <td>020-0684</td>\n      <td>1</td>\n      <td>0.0</td>\n      <td>2020-11-03</td>\n      <td>2022-02-01</td>\n      <td>2020-11-03</td>\n      <td>2021-12-29</td>\n      <td>NaN</td>\n      <td>NaN</td>\n      <td>2023.01.17</td>\n    </tr>\n    <tr>\n      <th>4</th>\n      <td>Образование</td>\n      <td>Дошкольные учреждения</td>\n      <td>019-0589</td>\n      <td>1</td>\n      <td>0.0</td>\n      <td>2020-11-03</td>\n      <td>2022-05-16</td>\n      <td>2020-11-03</td>\n      <td>2021-12-29</td>\n      <td>NaN</td>\n      <td>NaN</td>\n      <td>2023.01.17</td>\n    </tr>\n    <tr>\n      <th>...</th>\n      <td>...</td>\n      <td>...</td>\n      <td>...</td>\n      <td>...</td>\n      <td>...</td>\n      <td>...</td>\n      <td>...</td>\n      <td>...</td>\n      <td>...</td>\n      <td>...</td>\n      <td>...</td>\n      <td>...</td>\n    </tr>\n    <tr>\n      <th>1060160</th>\n      <td>Здравоохранение</td>\n      <td>Поликлиники</td>\n      <td>023-0135</td>\n      <td>NaN</td>\n      <td>NaN</td>\n      <td>NaN</td>\n      <td>NaN</td>\n      <td>NaN</td>\n      <td>NaN</td>\n      <td>NaN</td>\n      <td>NaN</td>\n      <td>2023.05.29</td>\n    </tr>\n    <tr>\n      <th>1060161</th>\n      <td>Здравоохранение</td>\n      <td>Поликлиники</td>\n      <td>021-0049</td>\n      <td>NaN</td>\n      <td>NaN</td>\n      <td>NaN</td>\n      <td>NaN</td>\n      <td>NaN</td>\n      <td>NaN</td>\n      <td>NaN</td>\n      <td>NaN</td>\n      <td>2023.05.29</td>\n    </tr>\n    <tr>\n      <th>1060162</th>\n      <td>Здравоохранение</td>\n      <td>Поликлиники</td>\n      <td>021-0050</td>\n      <td>NaN</td>\n      <td>NaN</td>\n      <td>NaN</td>\n      <td>NaN</td>\n      <td>NaN</td>\n      <td>NaN</td>\n      <td>NaN</td>\n      <td>NaN</td>\n      <td>2023.05.29</td>\n    </tr>\n    <tr>\n      <th>1060163</th>\n      <td>Здравоохранение</td>\n      <td>Поликлиники</td>\n      <td>022-0707</td>\n      <td>NaN</td>\n      <td>NaN</td>\n      <td>NaN</td>\n      <td>NaN</td>\n      <td>NaN</td>\n      <td>NaN</td>\n      <td>NaN</td>\n      <td>NaN</td>\n      <td>2023.05.29</td>\n    </tr>\n    <tr>\n      <th>1060164</th>\n      <td>Здравоохранение</td>\n      <td>Поликлиники</td>\n      <td>022-0630</td>\n      <td>NaN</td>\n      <td>NaN</td>\n      <td>NaN</td>\n      <td>NaN</td>\n      <td>NaN</td>\n      <td>NaN</td>\n      <td>NaN</td>\n      <td>NaN</td>\n      <td>2023.05.29</td>\n    </tr>\n  </tbody>\n</table>\n<p>1060165 rows × 12 columns</p>\n</div>"
     },
     "execution_count": 184,
     "metadata": {},
     "output_type": "execute_result"
    }
   ],
   "source": [
    "df = pd.read_csv('files\\\\main_kgs.csv')\n",
    "df"
   ],
   "metadata": {
    "collapsed": false,
    "ExecuteTime": {
     "end_time": "2023-06-24T12:11:56.823541800Z",
     "start_time": "2023-06-24T12:11:55.060132500Z"
    }
   }
  },
  {
   "cell_type": "code",
   "execution_count": 185,
   "outputs": [
    {
     "data": {
      "text/plain": "obj_prg                     object\nobj_subprg                  object\nobj_key                     object\nКодзадачи                   object\nПроцентЗавершенияЗадачи    float64\nДатаНачалаЗадачи            object\nДатаОкончанияЗадачи         object\nДатаначалаБП0               object\nДатаокончанияБП0            object\nСтатуспоэкспертизе         float64\nЭкспертиза                  object\ndate_report                 object\ndtype: object"
     },
     "execution_count": 185,
     "metadata": {},
     "output_type": "execute_result"
    }
   ],
   "source": [
    "df.dtypes"
   ],
   "metadata": {
    "collapsed": false,
    "ExecuteTime": {
     "end_time": "2023-06-24T12:11:56.867543700Z",
     "start_time": "2023-06-24T12:11:56.825543900Z"
    }
   }
  },
  {
   "cell_type": "code",
   "execution_count": 186,
   "outputs": [],
   "source": [
    "keys = df['obj_key'].unique()"
   ],
   "metadata": {
    "collapsed": false,
    "ExecuteTime": {
     "end_time": "2023-06-24T12:11:56.945541300Z",
     "start_time": "2023-06-24T12:11:56.840543600Z"
    }
   }
  },
  {
   "cell_type": "code",
   "execution_count": 187,
   "outputs": [
    {
     "data": {
      "text/plain": "                 obj_prg                      obj_subprg   obj_key Кодзадачи  \\\n0            Образование  Общеобразовательные учреждения  022-0527         1   \n1            Образование  Общеобразовательные учреждения  022-0354         1   \n2            Образование           Дошкольные учреждения  022-0513         1   \n3            Образование           Дошкольные учреждения  020-0684         1   \n4            Образование           Дошкольные учреждения  019-0589         1   \n...                  ...                             ...       ...       ...   \n1060160  Здравоохранение                     Поликлиники  023-0135       NaN   \n1060161  Здравоохранение                     Поликлиники  021-0049       NaN   \n1060162  Здравоохранение                     Поликлиники  021-0050       NaN   \n1060163  Здравоохранение                     Поликлиники  022-0707       NaN   \n1060164  Здравоохранение                     Поликлиники  022-0630       NaN   \n\n         ПроцентЗавершенияЗадачи ДатаНачалаЗадачи ДатаОкончанияЗадачи  \\\n0                            0.0       2022-01-14          2023-03-30   \n1                            0.0       2022-12-01          2023-07-27   \n2                            0.0       2023-01-23          2023-09-29   \n3                            0.0       2020-11-03          2022-02-01   \n4                            0.0       2020-11-03          2022-05-16   \n...                          ...              ...                 ...   \n1060160                      NaN              NaN                 NaN   \n1060161                      NaN              NaN                 NaN   \n1060162                      NaN              NaN                 NaN   \n1060163                      NaN              NaN                 NaN   \n1060164                      NaN              NaN                 NaN   \n\n        ДатаначалаБП0 ДатаокончанияБП0  Статуспоэкспертизе Экспертиза  \\\n0          2022-01-14       2023-03-30                 NaN        NaN   \n1          2022-12-01       2023-07-27                 NaN        NaN   \n2          2023-01-23       2023-09-29                 NaN        NaN   \n3          2020-11-03       2021-12-29                 NaN        NaN   \n4          2020-11-03       2021-12-29                 NaN        NaN   \n...               ...              ...                 ...        ...   \n1060160           NaN              NaN                 NaN        NaN   \n1060161           NaN              NaN                 NaN        NaN   \n1060162           NaN              NaN                 NaN        NaN   \n1060163           NaN              NaN                 NaN        NaN   \n1060164           NaN              NaN                 NaN        NaN   \n\n        date_report  \n0        2023.01.17  \n1        2023.01.17  \n2        2023.01.17  \n3        2023.01.17  \n4        2023.01.17  \n...             ...  \n1060160  2023.05.29  \n1060161  2023.05.29  \n1060162  2023.05.29  \n1060163  2023.05.29  \n1060164  2023.05.29  \n\n[1060165 rows x 12 columns]",
      "text/html": "<div>\n<style scoped>\n    .dataframe tbody tr th:only-of-type {\n        vertical-align: middle;\n    }\n\n    .dataframe tbody tr th {\n        vertical-align: top;\n    }\n\n    .dataframe thead th {\n        text-align: right;\n    }\n</style>\n<table border=\"1\" class=\"dataframe\">\n  <thead>\n    <tr style=\"text-align: right;\">\n      <th></th>\n      <th>obj_prg</th>\n      <th>obj_subprg</th>\n      <th>obj_key</th>\n      <th>Кодзадачи</th>\n      <th>ПроцентЗавершенияЗадачи</th>\n      <th>ДатаНачалаЗадачи</th>\n      <th>ДатаОкончанияЗадачи</th>\n      <th>ДатаначалаБП0</th>\n      <th>ДатаокончанияБП0</th>\n      <th>Статуспоэкспертизе</th>\n      <th>Экспертиза</th>\n      <th>date_report</th>\n    </tr>\n  </thead>\n  <tbody>\n    <tr>\n      <th>0</th>\n      <td>Образование</td>\n      <td>Общеобразовательные учреждения</td>\n      <td>022-0527</td>\n      <td>1</td>\n      <td>0.0</td>\n      <td>2022-01-14</td>\n      <td>2023-03-30</td>\n      <td>2022-01-14</td>\n      <td>2023-03-30</td>\n      <td>NaN</td>\n      <td>NaN</td>\n      <td>2023.01.17</td>\n    </tr>\n    <tr>\n      <th>1</th>\n      <td>Образование</td>\n      <td>Общеобразовательные учреждения</td>\n      <td>022-0354</td>\n      <td>1</td>\n      <td>0.0</td>\n      <td>2022-12-01</td>\n      <td>2023-07-27</td>\n      <td>2022-12-01</td>\n      <td>2023-07-27</td>\n      <td>NaN</td>\n      <td>NaN</td>\n      <td>2023.01.17</td>\n    </tr>\n    <tr>\n      <th>2</th>\n      <td>Образование</td>\n      <td>Дошкольные учреждения</td>\n      <td>022-0513</td>\n      <td>1</td>\n      <td>0.0</td>\n      <td>2023-01-23</td>\n      <td>2023-09-29</td>\n      <td>2023-01-23</td>\n      <td>2023-09-29</td>\n      <td>NaN</td>\n      <td>NaN</td>\n      <td>2023.01.17</td>\n    </tr>\n    <tr>\n      <th>3</th>\n      <td>Образование</td>\n      <td>Дошкольные учреждения</td>\n      <td>020-0684</td>\n      <td>1</td>\n      <td>0.0</td>\n      <td>2020-11-03</td>\n      <td>2022-02-01</td>\n      <td>2020-11-03</td>\n      <td>2021-12-29</td>\n      <td>NaN</td>\n      <td>NaN</td>\n      <td>2023.01.17</td>\n    </tr>\n    <tr>\n      <th>4</th>\n      <td>Образование</td>\n      <td>Дошкольные учреждения</td>\n      <td>019-0589</td>\n      <td>1</td>\n      <td>0.0</td>\n      <td>2020-11-03</td>\n      <td>2022-05-16</td>\n      <td>2020-11-03</td>\n      <td>2021-12-29</td>\n      <td>NaN</td>\n      <td>NaN</td>\n      <td>2023.01.17</td>\n    </tr>\n    <tr>\n      <th>...</th>\n      <td>...</td>\n      <td>...</td>\n      <td>...</td>\n      <td>...</td>\n      <td>...</td>\n      <td>...</td>\n      <td>...</td>\n      <td>...</td>\n      <td>...</td>\n      <td>...</td>\n      <td>...</td>\n      <td>...</td>\n    </tr>\n    <tr>\n      <th>1060160</th>\n      <td>Здравоохранение</td>\n      <td>Поликлиники</td>\n      <td>023-0135</td>\n      <td>NaN</td>\n      <td>NaN</td>\n      <td>NaN</td>\n      <td>NaN</td>\n      <td>NaN</td>\n      <td>NaN</td>\n      <td>NaN</td>\n      <td>NaN</td>\n      <td>2023.05.29</td>\n    </tr>\n    <tr>\n      <th>1060161</th>\n      <td>Здравоохранение</td>\n      <td>Поликлиники</td>\n      <td>021-0049</td>\n      <td>NaN</td>\n      <td>NaN</td>\n      <td>NaN</td>\n      <td>NaN</td>\n      <td>NaN</td>\n      <td>NaN</td>\n      <td>NaN</td>\n      <td>NaN</td>\n      <td>2023.05.29</td>\n    </tr>\n    <tr>\n      <th>1060162</th>\n      <td>Здравоохранение</td>\n      <td>Поликлиники</td>\n      <td>021-0050</td>\n      <td>NaN</td>\n      <td>NaN</td>\n      <td>NaN</td>\n      <td>NaN</td>\n      <td>NaN</td>\n      <td>NaN</td>\n      <td>NaN</td>\n      <td>NaN</td>\n      <td>2023.05.29</td>\n    </tr>\n    <tr>\n      <th>1060163</th>\n      <td>Здравоохранение</td>\n      <td>Поликлиники</td>\n      <td>022-0707</td>\n      <td>NaN</td>\n      <td>NaN</td>\n      <td>NaN</td>\n      <td>NaN</td>\n      <td>NaN</td>\n      <td>NaN</td>\n      <td>NaN</td>\n      <td>NaN</td>\n      <td>2023.05.29</td>\n    </tr>\n    <tr>\n      <th>1060164</th>\n      <td>Здравоохранение</td>\n      <td>Поликлиники</td>\n      <td>022-0630</td>\n      <td>NaN</td>\n      <td>NaN</td>\n      <td>NaN</td>\n      <td>NaN</td>\n      <td>NaN</td>\n      <td>NaN</td>\n      <td>NaN</td>\n      <td>NaN</td>\n      <td>2023.05.29</td>\n    </tr>\n  </tbody>\n</table>\n<p>1060165 rows × 12 columns</p>\n</div>"
     },
     "execution_count": 187,
     "metadata": {},
     "output_type": "execute_result"
    }
   ],
   "source": [
    "df['ДатаначалаБП0'].fillna(df['ДатаНачалаЗадачи'], inplace=True)\n",
    "df['ДатаокончанияБП0'].fillna(df['ДатаОкончанияЗадачи'], inplace=True)\n",
    "df"
   ],
   "metadata": {
    "collapsed": false,
    "ExecuteTime": {
     "end_time": "2023-06-24T12:11:57.005542600Z",
     "start_time": "2023-06-24T12:11:56.887542Z"
    }
   }
  },
  {
   "cell_type": "code",
   "execution_count": 188,
   "outputs": [
    {
     "data": {
      "text/plain": "{nan: 0, '1ТС': 1, '2ТС': 2, '1С': 3, '2Т': 4, '1Т': 5, '2С': 6}"
     },
     "execution_count": 188,
     "metadata": {},
     "output_type": "execute_result"
    }
   ],
   "source": [
    "exs = df['Экспертиза'].unique()\n",
    "\n",
    "d_exs = {exs[i]: i for i in range(len(exs))}\n",
    "d_exs"
   ],
   "metadata": {
    "collapsed": false,
    "ExecuteTime": {
     "end_time": "2023-06-24T12:11:57.038542100Z",
     "start_time": "2023-06-24T12:11:56.980544Z"
    }
   }
  },
  {
   "cell_type": "code",
   "execution_count": 189,
   "outputs": [
    {
     "data": {
      "text/plain": "                 obj_prg                      obj_subprg   obj_key Кодзадачи  \\\n0            Образование  Общеобразовательные учреждения  022-0527         1   \n1            Образование  Общеобразовательные учреждения  022-0354         1   \n2            Образование           Дошкольные учреждения  022-0513         1   \n3            Образование           Дошкольные учреждения  020-0684         1   \n4            Образование           Дошкольные учреждения  019-0589         1   \n...                  ...                             ...       ...       ...   \n1060160  Здравоохранение                     Поликлиники  023-0135       NaN   \n1060161  Здравоохранение                     Поликлиники  021-0049       NaN   \n1060162  Здравоохранение                     Поликлиники  021-0050       NaN   \n1060163  Здравоохранение                     Поликлиники  022-0707       NaN   \n1060164  Здравоохранение                     Поликлиники  022-0630       NaN   \n\n         ПроцентЗавершенияЗадачи ДатаНачалаЗадачи ДатаОкончанияЗадачи  \\\n0                            0.0       2022-01-14          2023-03-30   \n1                            0.0       2022-12-01          2023-07-27   \n2                            0.0       2023-01-23          2023-09-29   \n3                            0.0       2020-11-03          2022-02-01   \n4                            0.0       2020-11-03          2022-05-16   \n...                          ...              ...                 ...   \n1060160                      NaN              NaN                 NaN   \n1060161                      NaN              NaN                 NaN   \n1060162                      NaN              NaN                 NaN   \n1060163                      NaN              NaN                 NaN   \n1060164                      NaN              NaN                 NaN   \n\n        ДатаначалаБП0 ДатаокончанияБП0  Статуспоэкспертизе  Экспертиза  \\\n0          2022-01-14       2023-03-30                 0.0           0   \n1          2022-12-01       2023-07-27                 0.0           0   \n2          2023-01-23       2023-09-29                 0.0           0   \n3          2020-11-03       2021-12-29                 0.0           0   \n4          2020-11-03       2021-12-29                 0.0           0   \n...               ...              ...                 ...         ...   \n1060160           NaN              NaN                 0.0           0   \n1060161           NaN              NaN                 0.0           0   \n1060162           NaN              NaN                 0.0           0   \n1060163           NaN              NaN                 0.0           0   \n1060164           NaN              NaN                 0.0           0   \n\n        date_report  \n0        2023.01.17  \n1        2023.01.17  \n2        2023.01.17  \n3        2023.01.17  \n4        2023.01.17  \n...             ...  \n1060160  2023.05.29  \n1060161  2023.05.29  \n1060162  2023.05.29  \n1060163  2023.05.29  \n1060164  2023.05.29  \n\n[1060165 rows x 12 columns]",
      "text/html": "<div>\n<style scoped>\n    .dataframe tbody tr th:only-of-type {\n        vertical-align: middle;\n    }\n\n    .dataframe tbody tr th {\n        vertical-align: top;\n    }\n\n    .dataframe thead th {\n        text-align: right;\n    }\n</style>\n<table border=\"1\" class=\"dataframe\">\n  <thead>\n    <tr style=\"text-align: right;\">\n      <th></th>\n      <th>obj_prg</th>\n      <th>obj_subprg</th>\n      <th>obj_key</th>\n      <th>Кодзадачи</th>\n      <th>ПроцентЗавершенияЗадачи</th>\n      <th>ДатаНачалаЗадачи</th>\n      <th>ДатаОкончанияЗадачи</th>\n      <th>ДатаначалаБП0</th>\n      <th>ДатаокончанияБП0</th>\n      <th>Статуспоэкспертизе</th>\n      <th>Экспертиза</th>\n      <th>date_report</th>\n    </tr>\n  </thead>\n  <tbody>\n    <tr>\n      <th>0</th>\n      <td>Образование</td>\n      <td>Общеобразовательные учреждения</td>\n      <td>022-0527</td>\n      <td>1</td>\n      <td>0.0</td>\n      <td>2022-01-14</td>\n      <td>2023-03-30</td>\n      <td>2022-01-14</td>\n      <td>2023-03-30</td>\n      <td>0.0</td>\n      <td>0</td>\n      <td>2023.01.17</td>\n    </tr>\n    <tr>\n      <th>1</th>\n      <td>Образование</td>\n      <td>Общеобразовательные учреждения</td>\n      <td>022-0354</td>\n      <td>1</td>\n      <td>0.0</td>\n      <td>2022-12-01</td>\n      <td>2023-07-27</td>\n      <td>2022-12-01</td>\n      <td>2023-07-27</td>\n      <td>0.0</td>\n      <td>0</td>\n      <td>2023.01.17</td>\n    </tr>\n    <tr>\n      <th>2</th>\n      <td>Образование</td>\n      <td>Дошкольные учреждения</td>\n      <td>022-0513</td>\n      <td>1</td>\n      <td>0.0</td>\n      <td>2023-01-23</td>\n      <td>2023-09-29</td>\n      <td>2023-01-23</td>\n      <td>2023-09-29</td>\n      <td>0.0</td>\n      <td>0</td>\n      <td>2023.01.17</td>\n    </tr>\n    <tr>\n      <th>3</th>\n      <td>Образование</td>\n      <td>Дошкольные учреждения</td>\n      <td>020-0684</td>\n      <td>1</td>\n      <td>0.0</td>\n      <td>2020-11-03</td>\n      <td>2022-02-01</td>\n      <td>2020-11-03</td>\n      <td>2021-12-29</td>\n      <td>0.0</td>\n      <td>0</td>\n      <td>2023.01.17</td>\n    </tr>\n    <tr>\n      <th>4</th>\n      <td>Образование</td>\n      <td>Дошкольные учреждения</td>\n      <td>019-0589</td>\n      <td>1</td>\n      <td>0.0</td>\n      <td>2020-11-03</td>\n      <td>2022-05-16</td>\n      <td>2020-11-03</td>\n      <td>2021-12-29</td>\n      <td>0.0</td>\n      <td>0</td>\n      <td>2023.01.17</td>\n    </tr>\n    <tr>\n      <th>...</th>\n      <td>...</td>\n      <td>...</td>\n      <td>...</td>\n      <td>...</td>\n      <td>...</td>\n      <td>...</td>\n      <td>...</td>\n      <td>...</td>\n      <td>...</td>\n      <td>...</td>\n      <td>...</td>\n      <td>...</td>\n    </tr>\n    <tr>\n      <th>1060160</th>\n      <td>Здравоохранение</td>\n      <td>Поликлиники</td>\n      <td>023-0135</td>\n      <td>NaN</td>\n      <td>NaN</td>\n      <td>NaN</td>\n      <td>NaN</td>\n      <td>NaN</td>\n      <td>NaN</td>\n      <td>0.0</td>\n      <td>0</td>\n      <td>2023.05.29</td>\n    </tr>\n    <tr>\n      <th>1060161</th>\n      <td>Здравоохранение</td>\n      <td>Поликлиники</td>\n      <td>021-0049</td>\n      <td>NaN</td>\n      <td>NaN</td>\n      <td>NaN</td>\n      <td>NaN</td>\n      <td>NaN</td>\n      <td>NaN</td>\n      <td>0.0</td>\n      <td>0</td>\n      <td>2023.05.29</td>\n    </tr>\n    <tr>\n      <th>1060162</th>\n      <td>Здравоохранение</td>\n      <td>Поликлиники</td>\n      <td>021-0050</td>\n      <td>NaN</td>\n      <td>NaN</td>\n      <td>NaN</td>\n      <td>NaN</td>\n      <td>NaN</td>\n      <td>NaN</td>\n      <td>0.0</td>\n      <td>0</td>\n      <td>2023.05.29</td>\n    </tr>\n    <tr>\n      <th>1060163</th>\n      <td>Здравоохранение</td>\n      <td>Поликлиники</td>\n      <td>022-0707</td>\n      <td>NaN</td>\n      <td>NaN</td>\n      <td>NaN</td>\n      <td>NaN</td>\n      <td>NaN</td>\n      <td>NaN</td>\n      <td>0.0</td>\n      <td>0</td>\n      <td>2023.05.29</td>\n    </tr>\n    <tr>\n      <th>1060164</th>\n      <td>Здравоохранение</td>\n      <td>Поликлиники</td>\n      <td>022-0630</td>\n      <td>NaN</td>\n      <td>NaN</td>\n      <td>NaN</td>\n      <td>NaN</td>\n      <td>NaN</td>\n      <td>NaN</td>\n      <td>0.0</td>\n      <td>0</td>\n      <td>2023.05.29</td>\n    </tr>\n  </tbody>\n</table>\n<p>1060165 rows × 12 columns</p>\n</div>"
     },
     "execution_count": 189,
     "metadata": {},
     "output_type": "execute_result"
    }
   ],
   "source": [
    "df['Статуспоэкспертизе'].fillna(0, inplace=True)\n",
    "df['Экспертиза'] = df['Экспертиза'].map(d_exs)\n",
    "df"
   ],
   "metadata": {
    "collapsed": false,
    "ExecuteTime": {
     "end_time": "2023-06-24T12:11:57.185541700Z",
     "start_time": "2023-06-24T12:11:57.028543800Z"
    }
   }
  },
  {
   "cell_type": "code",
   "execution_count": 190,
   "outputs": [],
   "source": [
    "df['Статуспоэкспертизе'] = df['Статуспоэкспертизе'].astype(int)"
   ],
   "metadata": {
    "collapsed": false,
    "ExecuteTime": {
     "end_time": "2023-06-24T12:11:57.185541700Z",
     "start_time": "2023-06-24T12:11:57.152544200Z"
    }
   }
  },
  {
   "cell_type": "code",
   "execution_count": 191,
   "outputs": [
    {
     "data": {
      "text/plain": "                 obj_prg                      obj_subprg   obj_key Кодзадачи  \\\n0            Образование  Общеобразовательные учреждения  022-0527         1   \n1            Образование  Общеобразовательные учреждения  022-0354         1   \n2            Образование           Дошкольные учреждения  022-0513         1   \n3            Образование           Дошкольные учреждения  020-0684         1   \n4            Образование           Дошкольные учреждения  019-0589         1   \n...                  ...                             ...       ...       ...   \n1060160  Здравоохранение                     Поликлиники  023-0135       NaN   \n1060161  Здравоохранение                     Поликлиники  021-0049       NaN   \n1060162  Здравоохранение                     Поликлиники  021-0050       NaN   \n1060163  Здравоохранение                     Поликлиники  022-0707       NaN   \n1060164  Здравоохранение                     Поликлиники  022-0630       NaN   \n\n         ПроцентЗавершенияЗадачи ДатаНачалаЗадачи ДатаОкончанияЗадачи  \\\n0                              0       2022-01-14          2023-03-30   \n1                              0       2022-12-01          2023-07-27   \n2                              0       2023-01-23          2023-09-29   \n3                              0       2020-11-03          2022-02-01   \n4                              0       2020-11-03          2022-05-16   \n...                          ...              ...                 ...   \n1060160                        0              NaN                 NaN   \n1060161                        0              NaN                 NaN   \n1060162                        0              NaN                 NaN   \n1060163                        0              NaN                 NaN   \n1060164                        0              NaN                 NaN   \n\n        ДатаначалаБП0 ДатаокончанияБП0  Статуспоэкспертизе  Экспертиза  \\\n0          2022-01-14       2023-03-30                   0           0   \n1          2022-12-01       2023-07-27                   0           0   \n2          2023-01-23       2023-09-29                   0           0   \n3          2020-11-03       2021-12-29                   0           0   \n4          2020-11-03       2021-12-29                   0           0   \n...               ...              ...                 ...         ...   \n1060160           NaN              NaN                   0           0   \n1060161           NaN              NaN                   0           0   \n1060162           NaN              NaN                   0           0   \n1060163           NaN              NaN                   0           0   \n1060164           NaN              NaN                   0           0   \n\n        date_report  \n0        2023.01.17  \n1        2023.01.17  \n2        2023.01.17  \n3        2023.01.17  \n4        2023.01.17  \n...             ...  \n1060160  2023.05.29  \n1060161  2023.05.29  \n1060162  2023.05.29  \n1060163  2023.05.29  \n1060164  2023.05.29  \n\n[1060165 rows x 12 columns]",
      "text/html": "<div>\n<style scoped>\n    .dataframe tbody tr th:only-of-type {\n        vertical-align: middle;\n    }\n\n    .dataframe tbody tr th {\n        vertical-align: top;\n    }\n\n    .dataframe thead th {\n        text-align: right;\n    }\n</style>\n<table border=\"1\" class=\"dataframe\">\n  <thead>\n    <tr style=\"text-align: right;\">\n      <th></th>\n      <th>obj_prg</th>\n      <th>obj_subprg</th>\n      <th>obj_key</th>\n      <th>Кодзадачи</th>\n      <th>ПроцентЗавершенияЗадачи</th>\n      <th>ДатаНачалаЗадачи</th>\n      <th>ДатаОкончанияЗадачи</th>\n      <th>ДатаначалаБП0</th>\n      <th>ДатаокончанияБП0</th>\n      <th>Статуспоэкспертизе</th>\n      <th>Экспертиза</th>\n      <th>date_report</th>\n    </tr>\n  </thead>\n  <tbody>\n    <tr>\n      <th>0</th>\n      <td>Образование</td>\n      <td>Общеобразовательные учреждения</td>\n      <td>022-0527</td>\n      <td>1</td>\n      <td>0</td>\n      <td>2022-01-14</td>\n      <td>2023-03-30</td>\n      <td>2022-01-14</td>\n      <td>2023-03-30</td>\n      <td>0</td>\n      <td>0</td>\n      <td>2023.01.17</td>\n    </tr>\n    <tr>\n      <th>1</th>\n      <td>Образование</td>\n      <td>Общеобразовательные учреждения</td>\n      <td>022-0354</td>\n      <td>1</td>\n      <td>0</td>\n      <td>2022-12-01</td>\n      <td>2023-07-27</td>\n      <td>2022-12-01</td>\n      <td>2023-07-27</td>\n      <td>0</td>\n      <td>0</td>\n      <td>2023.01.17</td>\n    </tr>\n    <tr>\n      <th>2</th>\n      <td>Образование</td>\n      <td>Дошкольные учреждения</td>\n      <td>022-0513</td>\n      <td>1</td>\n      <td>0</td>\n      <td>2023-01-23</td>\n      <td>2023-09-29</td>\n      <td>2023-01-23</td>\n      <td>2023-09-29</td>\n      <td>0</td>\n      <td>0</td>\n      <td>2023.01.17</td>\n    </tr>\n    <tr>\n      <th>3</th>\n      <td>Образование</td>\n      <td>Дошкольные учреждения</td>\n      <td>020-0684</td>\n      <td>1</td>\n      <td>0</td>\n      <td>2020-11-03</td>\n      <td>2022-02-01</td>\n      <td>2020-11-03</td>\n      <td>2021-12-29</td>\n      <td>0</td>\n      <td>0</td>\n      <td>2023.01.17</td>\n    </tr>\n    <tr>\n      <th>4</th>\n      <td>Образование</td>\n      <td>Дошкольные учреждения</td>\n      <td>019-0589</td>\n      <td>1</td>\n      <td>0</td>\n      <td>2020-11-03</td>\n      <td>2022-05-16</td>\n      <td>2020-11-03</td>\n      <td>2021-12-29</td>\n      <td>0</td>\n      <td>0</td>\n      <td>2023.01.17</td>\n    </tr>\n    <tr>\n      <th>...</th>\n      <td>...</td>\n      <td>...</td>\n      <td>...</td>\n      <td>...</td>\n      <td>...</td>\n      <td>...</td>\n      <td>...</td>\n      <td>...</td>\n      <td>...</td>\n      <td>...</td>\n      <td>...</td>\n      <td>...</td>\n    </tr>\n    <tr>\n      <th>1060160</th>\n      <td>Здравоохранение</td>\n      <td>Поликлиники</td>\n      <td>023-0135</td>\n      <td>NaN</td>\n      <td>0</td>\n      <td>NaN</td>\n      <td>NaN</td>\n      <td>NaN</td>\n      <td>NaN</td>\n      <td>0</td>\n      <td>0</td>\n      <td>2023.05.29</td>\n    </tr>\n    <tr>\n      <th>1060161</th>\n      <td>Здравоохранение</td>\n      <td>Поликлиники</td>\n      <td>021-0049</td>\n      <td>NaN</td>\n      <td>0</td>\n      <td>NaN</td>\n      <td>NaN</td>\n      <td>NaN</td>\n      <td>NaN</td>\n      <td>0</td>\n      <td>0</td>\n      <td>2023.05.29</td>\n    </tr>\n    <tr>\n      <th>1060162</th>\n      <td>Здравоохранение</td>\n      <td>Поликлиники</td>\n      <td>021-0050</td>\n      <td>NaN</td>\n      <td>0</td>\n      <td>NaN</td>\n      <td>NaN</td>\n      <td>NaN</td>\n      <td>NaN</td>\n      <td>0</td>\n      <td>0</td>\n      <td>2023.05.29</td>\n    </tr>\n    <tr>\n      <th>1060163</th>\n      <td>Здравоохранение</td>\n      <td>Поликлиники</td>\n      <td>022-0707</td>\n      <td>NaN</td>\n      <td>0</td>\n      <td>NaN</td>\n      <td>NaN</td>\n      <td>NaN</td>\n      <td>NaN</td>\n      <td>0</td>\n      <td>0</td>\n      <td>2023.05.29</td>\n    </tr>\n    <tr>\n      <th>1060164</th>\n      <td>Здравоохранение</td>\n      <td>Поликлиники</td>\n      <td>022-0630</td>\n      <td>NaN</td>\n      <td>0</td>\n      <td>NaN</td>\n      <td>NaN</td>\n      <td>NaN</td>\n      <td>NaN</td>\n      <td>0</td>\n      <td>0</td>\n      <td>2023.05.29</td>\n    </tr>\n  </tbody>\n</table>\n<p>1060165 rows × 12 columns</p>\n</div>"
     },
     "execution_count": 191,
     "metadata": {},
     "output_type": "execute_result"
    }
   ],
   "source": [
    "df['ПроцентЗавершенияЗадачи'].fillna(0, inplace=True)\n",
    "df['ПроцентЗавершенияЗадачи'] = df['ПроцентЗавершенияЗадачи'].astype(int)\n",
    "df"
   ],
   "metadata": {
    "collapsed": false,
    "ExecuteTime": {
     "end_time": "2023-06-24T12:11:57.227542200Z",
     "start_time": "2023-06-24T12:11:57.171543300Z"
    }
   }
  },
  {
   "cell_type": "code",
   "execution_count": 192,
   "outputs": [],
   "source": [
    "atts = pd.read_csv(\"files\\\\attributes.csv\")\n",
    "atts['date_report'] = pd.to_datetime(atts['date_report'])"
   ],
   "metadata": {
    "collapsed": false,
    "ExecuteTime": {
     "end_time": "2023-06-24T12:11:57.239542900Z",
     "start_time": "2023-06-24T12:11:57.201543300Z"
    }
   }
  },
  {
   "cell_type": "code",
   "execution_count": 193,
   "outputs": [
    {
     "data": {
      "text/plain": "1060165"
     },
     "execution_count": 193,
     "metadata": {},
     "output_type": "execute_result"
    }
   ],
   "source": [
    "len(df)"
   ],
   "metadata": {
    "collapsed": false,
    "ExecuteTime": {
     "end_time": "2023-06-24T12:11:57.378543500Z",
     "start_time": "2023-06-24T12:11:57.230542600Z"
    }
   }
  },
  {
   "cell_type": "code",
   "execution_count": 194,
   "outputs": [
    {
     "data": {
      "text/plain": "1036510"
     },
     "execution_count": 194,
     "metadata": {},
     "output_type": "execute_result"
    }
   ],
   "source": [
    "df.drop_duplicates(inplace=True)\n",
    "len(df)"
   ],
   "metadata": {
    "collapsed": false,
    "ExecuteTime": {
     "end_time": "2023-06-24T12:11:58.264541Z",
     "start_time": "2023-06-24T12:11:57.249542400Z"
    }
   }
  },
  {
   "cell_type": "code",
   "execution_count": 195,
   "outputs": [],
   "source": [
    "df['ДатаНачалаЗадачи'] = pd.to_datetime(df['ДатаНачалаЗадачи'])\n",
    "df['ДатаОкончанияЗадачи'] = pd.to_datetime(df['ДатаОкончанияЗадачи'])\n",
    "df['ДатаначалаБП0'] = pd.to_datetime(df['ДатаначалаБП0'])\n",
    "df['ДатаокончанияБП0'] = pd.to_datetime(df['ДатаокончанияБП0'])\n",
    "df['date_report'] = pd.to_datetime(df['date_report'])"
   ],
   "metadata": {
    "collapsed": false,
    "ExecuteTime": {
     "end_time": "2023-06-24T12:11:58.953868700Z",
     "start_time": "2023-06-24T12:11:58.261544Z"
    }
   }
  },
  {
   "cell_type": "code",
   "execution_count": 196,
   "outputs": [
    {
     "data": {
      "text/plain": "                 obj_prg                      obj_subprg   obj_key Кодзадачи  \\\n0            Образование  Общеобразовательные учреждения  022-0527         1   \n1            Образование  Общеобразовательные учреждения  022-0354         1   \n2            Образование           Дошкольные учреждения  022-0513         1   \n3            Образование           Дошкольные учреждения  020-0684         1   \n4            Образование           Дошкольные учреждения  019-0589         1   \n...                  ...                             ...       ...       ...   \n1060160  Здравоохранение                     Поликлиники  023-0135       NaN   \n1060161  Здравоохранение                     Поликлиники  021-0049       NaN   \n1060162  Здравоохранение                     Поликлиники  021-0050       NaN   \n1060163  Здравоохранение                     Поликлиники  022-0707       NaN   \n1060164  Здравоохранение                     Поликлиники  022-0630       NaN   \n\n         ПроцентЗавершенияЗадачи ДатаНачалаЗадачи ДатаОкончанияЗадачи  \\\n0                              0       2022-01-14          2023-03-30   \n1                              0       2022-12-01          2023-07-27   \n2                              0       2023-01-23          2023-09-29   \n3                              0       2020-11-03          2022-02-01   \n4                              0       2020-11-03          2022-05-16   \n...                          ...              ...                 ...   \n1060160                        0              NaT                 NaT   \n1060161                        0              NaT                 NaT   \n1060162                        0              NaT                 NaT   \n1060163                        0              NaT                 NaT   \n1060164                        0              NaT                 NaT   \n\n        ДатаначалаБП0 ДатаокончанияБП0  Статуспоэкспертизе  Экспертиза  \\\n0          2022-01-14       2023-03-30                   0           0   \n1          2022-12-01       2023-07-27                   0           0   \n2          2023-01-23       2023-09-29                   0           0   \n3          2020-11-03       2021-12-29                   0           0   \n4          2020-11-03       2021-12-29                   0           0   \n...               ...              ...                 ...         ...   \n1060160           NaT              NaT                   0           0   \n1060161           NaT              NaT                   0           0   \n1060162           NaT              NaT                   0           0   \n1060163           NaT              NaT                   0           0   \n1060164           NaT              NaT                   0           0   \n\n        date_report  \n0        2023-01-17  \n1        2023-01-17  \n2        2023-01-17  \n3        2023-01-17  \n4        2023-01-17  \n...             ...  \n1060160  2023-05-29  \n1060161  2023-05-29  \n1060162  2023-05-29  \n1060163  2023-05-29  \n1060164  2023-05-29  \n\n[1036510 rows x 12 columns]",
      "text/html": "<div>\n<style scoped>\n    .dataframe tbody tr th:only-of-type {\n        vertical-align: middle;\n    }\n\n    .dataframe tbody tr th {\n        vertical-align: top;\n    }\n\n    .dataframe thead th {\n        text-align: right;\n    }\n</style>\n<table border=\"1\" class=\"dataframe\">\n  <thead>\n    <tr style=\"text-align: right;\">\n      <th></th>\n      <th>obj_prg</th>\n      <th>obj_subprg</th>\n      <th>obj_key</th>\n      <th>Кодзадачи</th>\n      <th>ПроцентЗавершенияЗадачи</th>\n      <th>ДатаНачалаЗадачи</th>\n      <th>ДатаОкончанияЗадачи</th>\n      <th>ДатаначалаБП0</th>\n      <th>ДатаокончанияБП0</th>\n      <th>Статуспоэкспертизе</th>\n      <th>Экспертиза</th>\n      <th>date_report</th>\n    </tr>\n  </thead>\n  <tbody>\n    <tr>\n      <th>0</th>\n      <td>Образование</td>\n      <td>Общеобразовательные учреждения</td>\n      <td>022-0527</td>\n      <td>1</td>\n      <td>0</td>\n      <td>2022-01-14</td>\n      <td>2023-03-30</td>\n      <td>2022-01-14</td>\n      <td>2023-03-30</td>\n      <td>0</td>\n      <td>0</td>\n      <td>2023-01-17</td>\n    </tr>\n    <tr>\n      <th>1</th>\n      <td>Образование</td>\n      <td>Общеобразовательные учреждения</td>\n      <td>022-0354</td>\n      <td>1</td>\n      <td>0</td>\n      <td>2022-12-01</td>\n      <td>2023-07-27</td>\n      <td>2022-12-01</td>\n      <td>2023-07-27</td>\n      <td>0</td>\n      <td>0</td>\n      <td>2023-01-17</td>\n    </tr>\n    <tr>\n      <th>2</th>\n      <td>Образование</td>\n      <td>Дошкольные учреждения</td>\n      <td>022-0513</td>\n      <td>1</td>\n      <td>0</td>\n      <td>2023-01-23</td>\n      <td>2023-09-29</td>\n      <td>2023-01-23</td>\n      <td>2023-09-29</td>\n      <td>0</td>\n      <td>0</td>\n      <td>2023-01-17</td>\n    </tr>\n    <tr>\n      <th>3</th>\n      <td>Образование</td>\n      <td>Дошкольные учреждения</td>\n      <td>020-0684</td>\n      <td>1</td>\n      <td>0</td>\n      <td>2020-11-03</td>\n      <td>2022-02-01</td>\n      <td>2020-11-03</td>\n      <td>2021-12-29</td>\n      <td>0</td>\n      <td>0</td>\n      <td>2023-01-17</td>\n    </tr>\n    <tr>\n      <th>4</th>\n      <td>Образование</td>\n      <td>Дошкольные учреждения</td>\n      <td>019-0589</td>\n      <td>1</td>\n      <td>0</td>\n      <td>2020-11-03</td>\n      <td>2022-05-16</td>\n      <td>2020-11-03</td>\n      <td>2021-12-29</td>\n      <td>0</td>\n      <td>0</td>\n      <td>2023-01-17</td>\n    </tr>\n    <tr>\n      <th>...</th>\n      <td>...</td>\n      <td>...</td>\n      <td>...</td>\n      <td>...</td>\n      <td>...</td>\n      <td>...</td>\n      <td>...</td>\n      <td>...</td>\n      <td>...</td>\n      <td>...</td>\n      <td>...</td>\n      <td>...</td>\n    </tr>\n    <tr>\n      <th>1060160</th>\n      <td>Здравоохранение</td>\n      <td>Поликлиники</td>\n      <td>023-0135</td>\n      <td>NaN</td>\n      <td>0</td>\n      <td>NaT</td>\n      <td>NaT</td>\n      <td>NaT</td>\n      <td>NaT</td>\n      <td>0</td>\n      <td>0</td>\n      <td>2023-05-29</td>\n    </tr>\n    <tr>\n      <th>1060161</th>\n      <td>Здравоохранение</td>\n      <td>Поликлиники</td>\n      <td>021-0049</td>\n      <td>NaN</td>\n      <td>0</td>\n      <td>NaT</td>\n      <td>NaT</td>\n      <td>NaT</td>\n      <td>NaT</td>\n      <td>0</td>\n      <td>0</td>\n      <td>2023-05-29</td>\n    </tr>\n    <tr>\n      <th>1060162</th>\n      <td>Здравоохранение</td>\n      <td>Поликлиники</td>\n      <td>021-0050</td>\n      <td>NaN</td>\n      <td>0</td>\n      <td>NaT</td>\n      <td>NaT</td>\n      <td>NaT</td>\n      <td>NaT</td>\n      <td>0</td>\n      <td>0</td>\n      <td>2023-05-29</td>\n    </tr>\n    <tr>\n      <th>1060163</th>\n      <td>Здравоохранение</td>\n      <td>Поликлиники</td>\n      <td>022-0707</td>\n      <td>NaN</td>\n      <td>0</td>\n      <td>NaT</td>\n      <td>NaT</td>\n      <td>NaT</td>\n      <td>NaT</td>\n      <td>0</td>\n      <td>0</td>\n      <td>2023-05-29</td>\n    </tr>\n    <tr>\n      <th>1060164</th>\n      <td>Здравоохранение</td>\n      <td>Поликлиники</td>\n      <td>022-0630</td>\n      <td>NaN</td>\n      <td>0</td>\n      <td>NaT</td>\n      <td>NaT</td>\n      <td>NaT</td>\n      <td>NaT</td>\n      <td>0</td>\n      <td>0</td>\n      <td>2023-05-29</td>\n    </tr>\n  </tbody>\n</table>\n<p>1036510 rows × 12 columns</p>\n</div>"
     },
     "execution_count": 196,
     "metadata": {},
     "output_type": "execute_result"
    }
   ],
   "source": [
    "main_keys = ['1', '1.4.2', '3', '3.1', '3.3', '3.8', '3.11', '3.13', '3.15', '4', '4.1.1', '4.2', '4.3', '4.4', '4.5',\n",
    "             '4.6', '4.7', '4.8', '4.9', '4.10', '4.11', '4.12', '5', '5.11', '7.1', '7.1.8', '7.4', '8']\n",
    "df"
   ],
   "metadata": {
    "collapsed": false,
    "ExecuteTime": {
     "end_time": "2023-06-24T12:11:58.970869300Z",
     "start_time": "2023-06-24T12:11:58.953868700Z"
    }
   }
  },
  {
   "cell_type": "code",
   "execution_count": 197,
   "outputs": [],
   "source": [
    "df = df[df['Кодзадачи'].isin(main_keys)]"
   ],
   "metadata": {
    "collapsed": false,
    "ExecuteTime": {
     "end_time": "2023-06-24T12:11:59.061870Z",
     "start_time": "2023-06-24T12:11:58.969870300Z"
    }
   }
  },
  {
   "cell_type": "code",
   "execution_count": 198,
   "outputs": [
    {
     "data": {
      "text/plain": "                 obj_prg                      obj_subprg   obj_key Кодзадачи  \\\n0            Образование  Общеобразовательные учреждения  022-0527         1   \n1            Образование  Общеобразовательные учреждения  022-0354         1   \n2            Образование           Дошкольные учреждения  022-0513         1   \n3            Образование           Дошкольные учреждения  020-0684         1   \n4            Образование           Дошкольные учреждения  019-0589         1   \n...                  ...                             ...       ...       ...   \n1055395  Здравоохранение                             ССК  019-0477       7.4   \n1056093      Образование  Общеобразовательные учреждения  020-0710         8   \n1056094      Образование  Общеобразовательные учреждения  019-0675         8   \n1056095      Образование           Дошкольные учреждения  020-0712         8   \n1056096      Образование  Общеобразовательные учреждения  019-0429         8   \n\n         ПроцентЗавершенияЗадачи ДатаНачалаЗадачи ДатаОкончанияЗадачи  \\\n0                              0       2022-01-14          2023-03-30   \n1                              0       2022-12-01          2023-07-27   \n2                              0       2023-01-23          2023-09-29   \n3                              0       2020-11-03          2022-02-01   \n4                              0       2020-11-03          2022-05-16   \n...                          ...              ...                 ...   \n1055395                       93       2020-04-28          2023-05-31   \n1056093                        0       2023-08-31          2024-04-10   \n1056094                        0       2023-09-01          2024-04-11   \n1056095                        0       2023-06-19          2024-01-26   \n1056096                        0       2024-05-30          2024-12-31   \n\n        ДатаначалаБП0 ДатаокончанияБП0  Статуспоэкспертизе  Экспертиза  \\\n0          2022-01-14       2023-03-30                   0           0   \n1          2022-12-01       2023-07-27                   0           0   \n2          2023-01-23       2023-09-29                   0           0   \n3          2020-11-03       2021-12-29                   0           0   \n4          2020-11-03       2021-12-29                   0           0   \n...               ...              ...                 ...         ...   \n1055395    2022-12-06       2022-12-15                   0           0   \n1056093    2023-08-31       2024-04-10                   0           0   \n1056094    2023-09-01       2024-04-11                   0           0   \n1056095    2023-06-19       2024-01-26                   0           0   \n1056096    2024-05-30       2024-12-31                   0           0   \n\n        date_report  season  \n0        2023-01-17       1  \n1        2023-01-17       1  \n2        2023-01-17       1  \n3        2023-01-17       4  \n4        2023-01-17       4  \n...             ...     ...  \n1055395  2023-05-29       2  \n1056093  2023-05-29       3  \n1056094  2023-05-29       4  \n1056095  2023-05-29       2  \n1056096  2023-05-29       2  \n\n[35201 rows x 13 columns]",
      "text/html": "<div>\n<style scoped>\n    .dataframe tbody tr th:only-of-type {\n        vertical-align: middle;\n    }\n\n    .dataframe tbody tr th {\n        vertical-align: top;\n    }\n\n    .dataframe thead th {\n        text-align: right;\n    }\n</style>\n<table border=\"1\" class=\"dataframe\">\n  <thead>\n    <tr style=\"text-align: right;\">\n      <th></th>\n      <th>obj_prg</th>\n      <th>obj_subprg</th>\n      <th>obj_key</th>\n      <th>Кодзадачи</th>\n      <th>ПроцентЗавершенияЗадачи</th>\n      <th>ДатаНачалаЗадачи</th>\n      <th>ДатаОкончанияЗадачи</th>\n      <th>ДатаначалаБП0</th>\n      <th>ДатаокончанияБП0</th>\n      <th>Статуспоэкспертизе</th>\n      <th>Экспертиза</th>\n      <th>date_report</th>\n      <th>season</th>\n    </tr>\n  </thead>\n  <tbody>\n    <tr>\n      <th>0</th>\n      <td>Образование</td>\n      <td>Общеобразовательные учреждения</td>\n      <td>022-0527</td>\n      <td>1</td>\n      <td>0</td>\n      <td>2022-01-14</td>\n      <td>2023-03-30</td>\n      <td>2022-01-14</td>\n      <td>2023-03-30</td>\n      <td>0</td>\n      <td>0</td>\n      <td>2023-01-17</td>\n      <td>1</td>\n    </tr>\n    <tr>\n      <th>1</th>\n      <td>Образование</td>\n      <td>Общеобразовательные учреждения</td>\n      <td>022-0354</td>\n      <td>1</td>\n      <td>0</td>\n      <td>2022-12-01</td>\n      <td>2023-07-27</td>\n      <td>2022-12-01</td>\n      <td>2023-07-27</td>\n      <td>0</td>\n      <td>0</td>\n      <td>2023-01-17</td>\n      <td>1</td>\n    </tr>\n    <tr>\n      <th>2</th>\n      <td>Образование</td>\n      <td>Дошкольные учреждения</td>\n      <td>022-0513</td>\n      <td>1</td>\n      <td>0</td>\n      <td>2023-01-23</td>\n      <td>2023-09-29</td>\n      <td>2023-01-23</td>\n      <td>2023-09-29</td>\n      <td>0</td>\n      <td>0</td>\n      <td>2023-01-17</td>\n      <td>1</td>\n    </tr>\n    <tr>\n      <th>3</th>\n      <td>Образование</td>\n      <td>Дошкольные учреждения</td>\n      <td>020-0684</td>\n      <td>1</td>\n      <td>0</td>\n      <td>2020-11-03</td>\n      <td>2022-02-01</td>\n      <td>2020-11-03</td>\n      <td>2021-12-29</td>\n      <td>0</td>\n      <td>0</td>\n      <td>2023-01-17</td>\n      <td>4</td>\n    </tr>\n    <tr>\n      <th>4</th>\n      <td>Образование</td>\n      <td>Дошкольные учреждения</td>\n      <td>019-0589</td>\n      <td>1</td>\n      <td>0</td>\n      <td>2020-11-03</td>\n      <td>2022-05-16</td>\n      <td>2020-11-03</td>\n      <td>2021-12-29</td>\n      <td>0</td>\n      <td>0</td>\n      <td>2023-01-17</td>\n      <td>4</td>\n    </tr>\n    <tr>\n      <th>...</th>\n      <td>...</td>\n      <td>...</td>\n      <td>...</td>\n      <td>...</td>\n      <td>...</td>\n      <td>...</td>\n      <td>...</td>\n      <td>...</td>\n      <td>...</td>\n      <td>...</td>\n      <td>...</td>\n      <td>...</td>\n      <td>...</td>\n    </tr>\n    <tr>\n      <th>1055395</th>\n      <td>Здравоохранение</td>\n      <td>ССК</td>\n      <td>019-0477</td>\n      <td>7.4</td>\n      <td>93</td>\n      <td>2020-04-28</td>\n      <td>2023-05-31</td>\n      <td>2022-12-06</td>\n      <td>2022-12-15</td>\n      <td>0</td>\n      <td>0</td>\n      <td>2023-05-29</td>\n      <td>2</td>\n    </tr>\n    <tr>\n      <th>1056093</th>\n      <td>Образование</td>\n      <td>Общеобразовательные учреждения</td>\n      <td>020-0710</td>\n      <td>8</td>\n      <td>0</td>\n      <td>2023-08-31</td>\n      <td>2024-04-10</td>\n      <td>2023-08-31</td>\n      <td>2024-04-10</td>\n      <td>0</td>\n      <td>0</td>\n      <td>2023-05-29</td>\n      <td>3</td>\n    </tr>\n    <tr>\n      <th>1056094</th>\n      <td>Образование</td>\n      <td>Общеобразовательные учреждения</td>\n      <td>019-0675</td>\n      <td>8</td>\n      <td>0</td>\n      <td>2023-09-01</td>\n      <td>2024-04-11</td>\n      <td>2023-09-01</td>\n      <td>2024-04-11</td>\n      <td>0</td>\n      <td>0</td>\n      <td>2023-05-29</td>\n      <td>4</td>\n    </tr>\n    <tr>\n      <th>1056095</th>\n      <td>Образование</td>\n      <td>Дошкольные учреждения</td>\n      <td>020-0712</td>\n      <td>8</td>\n      <td>0</td>\n      <td>2023-06-19</td>\n      <td>2024-01-26</td>\n      <td>2023-06-19</td>\n      <td>2024-01-26</td>\n      <td>0</td>\n      <td>0</td>\n      <td>2023-05-29</td>\n      <td>2</td>\n    </tr>\n    <tr>\n      <th>1056096</th>\n      <td>Образование</td>\n      <td>Общеобразовательные учреждения</td>\n      <td>019-0429</td>\n      <td>8</td>\n      <td>0</td>\n      <td>2024-05-30</td>\n      <td>2024-12-31</td>\n      <td>2024-05-30</td>\n      <td>2024-12-31</td>\n      <td>0</td>\n      <td>0</td>\n      <td>2023-05-29</td>\n      <td>2</td>\n    </tr>\n  </tbody>\n</table>\n<p>35201 rows × 13 columns</p>\n</div>"
     },
     "execution_count": 198,
     "metadata": {},
     "output_type": "execute_result"
    }
   ],
   "source": [
    "df['season'] = df['ДатаНачалаЗадачи'].apply(get_season)\n",
    "df"
   ],
   "metadata": {
    "collapsed": false,
    "ExecuteTime": {
     "end_time": "2023-06-24T12:11:59.090872700Z",
     "start_time": "2023-06-24T12:11:59.017870500Z"
    }
   }
  },
  {
   "cell_type": "code",
   "execution_count": 199,
   "outputs": [
    {
     "name": "stderr",
     "output_type": "stream",
     "text": [
      "100%|██████████| 87/87 [00:12<00:00,  6.91it/s]\n"
     ]
    },
    {
     "data": {
      "text/plain": "       obj_key Кодзадачи ДатаНачалаЗадачи ДатаОкончания задачи  \\\n0     022-0527         1       2023-01-17           2023-05-29   \n1     022-0527     1.4.2       2023-01-17           2023-05-29   \n2     022-0527         3       2023-01-17           2023-05-29   \n3     022-0527       3.1       2023-01-17           2023-05-29   \n4     022-0527      3.11       2023-01-17           2023-05-29   \n...        ...       ...              ...                  ...   \n1840  022-0355      3.11       2023-02-13           2023-05-29   \n1841  022-0355      3.13       2023-02-13           2023-05-29   \n1842  022-0355      3.15       2023-02-13           2023-05-29   \n1843  022-0355         4       2023-02-13           2023-05-29   \n1844  022-0355      4.12       2023-02-13           2023-05-29   \n\n     ПроцентЗавершенияЗадачи      obj_prg                      obj_subprg  \\\n0                         34  Образование  Общеобразовательные учреждения   \n1                          0  Образование  Общеобразовательные учреждения   \n2                          1  Образование  Общеобразовательные учреждения   \n3                          2  Образование  Общеобразовательные учреждения   \n4                          1  Образование  Общеобразовательные учреждения   \n...                      ...          ...                             ...   \n1840                       0  Образование  Общеобразовательные учреждения   \n1841                       0  Образование  Общеобразовательные учреждения   \n1842                       0  Образование  Общеобразовательные учреждения   \n1843                      35  Образование  Общеобразовательные учреждения   \n1844                       0  Образование  Общеобразовательные учреждения   \n\n     ДатаначалаБП0 ДатаокончанияБП0 Статуспоэкспертизе Экспертиза season  \\\n0       2022-01-14       2023-04-27                  0          0      1   \n1       2023-01-09       2023-04-27                  0          0      1   \n2       2023-01-17       2023-12-25                  0          0      1   \n3       2022-02-25       2023-07-28                  0          0      1   \n4       2023-03-27       2023-07-25                  0          0      2   \n...            ...              ...                ...        ...    ...   \n1840    2023-01-23       2023-02-20                  0          0      1   \n1841    2023-02-21       2023-04-15                  0          0      2   \n1842    2023-04-15       2023-05-15                  0          0      2   \n1843    2023-05-14       2023-05-31                  0          0      2   \n1844    2023-05-14       2023-05-31                  0          0      2   \n\n      Сдвиг  \n0     132.0  \n1     132.0  \n2     132.0  \n3     132.0  \n4     132.0  \n...     ...  \n1840  105.0  \n1841  105.0  \n1842  105.0  \n1843  105.0  \n1844  105.0  \n\n[1845 rows x 13 columns]",
      "text/html": "<div>\n<style scoped>\n    .dataframe tbody tr th:only-of-type {\n        vertical-align: middle;\n    }\n\n    .dataframe tbody tr th {\n        vertical-align: top;\n    }\n\n    .dataframe thead th {\n        text-align: right;\n    }\n</style>\n<table border=\"1\" class=\"dataframe\">\n  <thead>\n    <tr style=\"text-align: right;\">\n      <th></th>\n      <th>obj_key</th>\n      <th>Кодзадачи</th>\n      <th>ДатаНачалаЗадачи</th>\n      <th>ДатаОкончания задачи</th>\n      <th>ПроцентЗавершенияЗадачи</th>\n      <th>obj_prg</th>\n      <th>obj_subprg</th>\n      <th>ДатаначалаБП0</th>\n      <th>ДатаокончанияБП0</th>\n      <th>Статуспоэкспертизе</th>\n      <th>Экспертиза</th>\n      <th>season</th>\n      <th>Сдвиг</th>\n    </tr>\n  </thead>\n  <tbody>\n    <tr>\n      <th>0</th>\n      <td>022-0527</td>\n      <td>1</td>\n      <td>2023-01-17</td>\n      <td>2023-05-29</td>\n      <td>34</td>\n      <td>Образование</td>\n      <td>Общеобразовательные учреждения</td>\n      <td>2022-01-14</td>\n      <td>2023-04-27</td>\n      <td>0</td>\n      <td>0</td>\n      <td>1</td>\n      <td>132.0</td>\n    </tr>\n    <tr>\n      <th>1</th>\n      <td>022-0527</td>\n      <td>1.4.2</td>\n      <td>2023-01-17</td>\n      <td>2023-05-29</td>\n      <td>0</td>\n      <td>Образование</td>\n      <td>Общеобразовательные учреждения</td>\n      <td>2023-01-09</td>\n      <td>2023-04-27</td>\n      <td>0</td>\n      <td>0</td>\n      <td>1</td>\n      <td>132.0</td>\n    </tr>\n    <tr>\n      <th>2</th>\n      <td>022-0527</td>\n      <td>3</td>\n      <td>2023-01-17</td>\n      <td>2023-05-29</td>\n      <td>1</td>\n      <td>Образование</td>\n      <td>Общеобразовательные учреждения</td>\n      <td>2023-01-17</td>\n      <td>2023-12-25</td>\n      <td>0</td>\n      <td>0</td>\n      <td>1</td>\n      <td>132.0</td>\n    </tr>\n    <tr>\n      <th>3</th>\n      <td>022-0527</td>\n      <td>3.1</td>\n      <td>2023-01-17</td>\n      <td>2023-05-29</td>\n      <td>2</td>\n      <td>Образование</td>\n      <td>Общеобразовательные учреждения</td>\n      <td>2022-02-25</td>\n      <td>2023-07-28</td>\n      <td>0</td>\n      <td>0</td>\n      <td>1</td>\n      <td>132.0</td>\n    </tr>\n    <tr>\n      <th>4</th>\n      <td>022-0527</td>\n      <td>3.11</td>\n      <td>2023-01-17</td>\n      <td>2023-05-29</td>\n      <td>1</td>\n      <td>Образование</td>\n      <td>Общеобразовательные учреждения</td>\n      <td>2023-03-27</td>\n      <td>2023-07-25</td>\n      <td>0</td>\n      <td>0</td>\n      <td>2</td>\n      <td>132.0</td>\n    </tr>\n    <tr>\n      <th>...</th>\n      <td>...</td>\n      <td>...</td>\n      <td>...</td>\n      <td>...</td>\n      <td>...</td>\n      <td>...</td>\n      <td>...</td>\n      <td>...</td>\n      <td>...</td>\n      <td>...</td>\n      <td>...</td>\n      <td>...</td>\n      <td>...</td>\n    </tr>\n    <tr>\n      <th>1840</th>\n      <td>022-0355</td>\n      <td>3.11</td>\n      <td>2023-02-13</td>\n      <td>2023-05-29</td>\n      <td>0</td>\n      <td>Образование</td>\n      <td>Общеобразовательные учреждения</td>\n      <td>2023-01-23</td>\n      <td>2023-02-20</td>\n      <td>0</td>\n      <td>0</td>\n      <td>1</td>\n      <td>105.0</td>\n    </tr>\n    <tr>\n      <th>1841</th>\n      <td>022-0355</td>\n      <td>3.13</td>\n      <td>2023-02-13</td>\n      <td>2023-05-29</td>\n      <td>0</td>\n      <td>Образование</td>\n      <td>Общеобразовательные учреждения</td>\n      <td>2023-02-21</td>\n      <td>2023-04-15</td>\n      <td>0</td>\n      <td>0</td>\n      <td>2</td>\n      <td>105.0</td>\n    </tr>\n    <tr>\n      <th>1842</th>\n      <td>022-0355</td>\n      <td>3.15</td>\n      <td>2023-02-13</td>\n      <td>2023-05-29</td>\n      <td>0</td>\n      <td>Образование</td>\n      <td>Общеобразовательные учреждения</td>\n      <td>2023-04-15</td>\n      <td>2023-05-15</td>\n      <td>0</td>\n      <td>0</td>\n      <td>2</td>\n      <td>105.0</td>\n    </tr>\n    <tr>\n      <th>1843</th>\n      <td>022-0355</td>\n      <td>4</td>\n      <td>2023-02-13</td>\n      <td>2023-05-29</td>\n      <td>35</td>\n      <td>Образование</td>\n      <td>Общеобразовательные учреждения</td>\n      <td>2023-05-14</td>\n      <td>2023-05-31</td>\n      <td>0</td>\n      <td>0</td>\n      <td>2</td>\n      <td>105.0</td>\n    </tr>\n    <tr>\n      <th>1844</th>\n      <td>022-0355</td>\n      <td>4.12</td>\n      <td>2023-02-13</td>\n      <td>2023-05-29</td>\n      <td>0</td>\n      <td>Образование</td>\n      <td>Общеобразовательные учреждения</td>\n      <td>2023-05-14</td>\n      <td>2023-05-31</td>\n      <td>0</td>\n      <td>0</td>\n      <td>2</td>\n      <td>105.0</td>\n    </tr>\n  </tbody>\n</table>\n<p>1845 rows × 13 columns</p>\n</div>"
     },
     "execution_count": 199,
     "metadata": {},
     "output_type": "execute_result"
    }
   ],
   "source": [
    "columns = ['obj_key', 'Кодзадачи', \"ДатаНачалаЗадачи\", \"ДатаОкончания задачи\", 'ПроцентЗавершенияЗадачи', 'obj_prg',\n",
    "           'obj_subprg', 'ДатаначалаБП0', 'ДатаокончанияБП0', 'Статуспоэкспертизе', 'Экспертиза',\n",
    "           'season', \"Сдвиг\", ]\n",
    "\n",
    "# Create an empty DataFrame with columns\n",
    "df2 = pd.DataFrame(columns=columns)\n",
    "from tqdm import tqdm\n",
    "\n",
    "# Iterate over rows and append data\n",
    "for key in tqdm(keys):\n",
    "    codes = df[df['obj_key'] == key]['Кодзадачи'].unique()\n",
    "    codes.sort()\n",
    "    for code in codes:\n",
    "        result = df[(df['obj_key'] == key) & (df['Кодзадачи'] == code)].sort_values(\n",
    "            ['ПроцентЗавершенияЗадачи', 'date_report'])\n",
    "        if not result.empty:\n",
    "            first_line = result.head(1)\n",
    "            last_line = result.tail(1)\n",
    "\n",
    "            start_date = first_line['date_report'].values[0]\n",
    "            end_date = last_line['date_report'].values[0]\n",
    "            task_ready = last_line['ПроцентЗавершенияЗадачи'].values[0]\n",
    "            days_difference = (end_date - start_date) / np.timedelta64(1, 'D')\n",
    "            obj_prg = first_line['obj_prg'].values[0]\n",
    "            obj_subprg = first_line['obj_subprg'].values[0]\n",
    "            start_bpo = first_line['ДатаначалаБП0'].values[0]\n",
    "            end_bpo = last_line['ДатаокончанияБП0'].values[0]\n",
    "            status_exp = last_line['Статуспоэкспертизе'].values[0]\n",
    "            exp = last_line['Экспертиза'].values[0]\n",
    "            season = first_line['season'].values[0]\n",
    "            row_data = [key, code, start_date, end_date, task_ready, obj_prg, obj_subprg, start_bpo, end_bpo, status_exp, exp, season, abs(days_difference)] # abs(days_difference)\n",
    "            df2 = df2.append(pd.Series(row_data, index=columns), ignore_index=True)\n",
    "        else:\n",
    "            print(key, code)\n",
    "# Print the resulting DataFrame\n",
    "df2"
   ],
   "metadata": {
    "collapsed": false,
    "ExecuteTime": {
     "end_time": "2023-06-24T12:12:11.685924600Z",
     "start_time": "2023-06-24T12:11:59.072869800Z"
    }
   }
  },
  {
   "cell_type": "code",
   "execution_count": 200,
   "outputs": [
    {
     "data": {
      "text/plain": "       obj_key Кодзадачи ДатаНачалаЗадачи ДатаОкончания задачи  \\\n0     022-0527         1       2023-01-17           2023-05-29   \n1     022-0527     1.4.2       2023-01-17           2023-05-29   \n2     022-0527         3       2023-01-17           2023-05-29   \n3     022-0527       3.1       2023-01-17           2023-05-29   \n4     022-0527      3.11       2023-01-17           2023-05-29   \n...        ...       ...              ...                  ...   \n1840  022-0355      3.11       2023-02-13           2023-05-29   \n1841  022-0355      3.13       2023-02-13           2023-05-29   \n1842  022-0355      3.15       2023-02-13           2023-05-29   \n1843  022-0355         4       2023-02-13           2023-05-29   \n1844  022-0355      4.12       2023-02-13           2023-05-29   \n\n     ПроцентЗавершенияЗадачи      obj_prg                      obj_subprg  \\\n0                         34  Образование  Общеобразовательные учреждения   \n1                          0  Образование  Общеобразовательные учреждения   \n2                          1  Образование  Общеобразовательные учреждения   \n3                          2  Образование  Общеобразовательные учреждения   \n4                          1  Образование  Общеобразовательные учреждения   \n...                      ...          ...                             ...   \n1840                       0  Образование  Общеобразовательные учреждения   \n1841                       0  Образование  Общеобразовательные учреждения   \n1842                       0  Образование  Общеобразовательные учреждения   \n1843                      35  Образование  Общеобразовательные учреждения   \n1844                       0  Образование  Общеобразовательные учреждения   \n\n     ДатаначалаБП0 ДатаокончанияБП0 Статуспоэкспертизе Экспертиза season  \\\n0       2022-01-14       2023-04-27                  0          0      1   \n1       2023-01-09       2023-04-27                  0          0      1   \n2       2023-01-17       2023-12-25                  0          0      1   \n3       2022-02-25       2023-07-28                  0          0      1   \n4       2023-03-27       2023-07-25                  0          0      2   \n...            ...              ...                ...        ...    ...   \n1840    2023-01-23       2023-02-20                  0          0      1   \n1841    2023-02-21       2023-04-15                  0          0      2   \n1842    2023-04-15       2023-05-15                  0          0      2   \n1843    2023-05-14       2023-05-31                  0          0      2   \n1844    2023-05-14       2023-05-31                  0          0      2   \n\n      Сдвиг  Скорость  \n0       132  0.257576  \n1       132       0.0  \n2       132  0.007576  \n3       132  0.015152  \n4       132  0.007576  \n...     ...       ...  \n1840    105       0.0  \n1841    105       0.0  \n1842    105       0.0  \n1843    105  0.333333  \n1844    105       0.0  \n\n[1845 rows x 14 columns]",
      "text/html": "<div>\n<style scoped>\n    .dataframe tbody tr th:only-of-type {\n        vertical-align: middle;\n    }\n\n    .dataframe tbody tr th {\n        vertical-align: top;\n    }\n\n    .dataframe thead th {\n        text-align: right;\n    }\n</style>\n<table border=\"1\" class=\"dataframe\">\n  <thead>\n    <tr style=\"text-align: right;\">\n      <th></th>\n      <th>obj_key</th>\n      <th>Кодзадачи</th>\n      <th>ДатаНачалаЗадачи</th>\n      <th>ДатаОкончания задачи</th>\n      <th>ПроцентЗавершенияЗадачи</th>\n      <th>obj_prg</th>\n      <th>obj_subprg</th>\n      <th>ДатаначалаБП0</th>\n      <th>ДатаокончанияБП0</th>\n      <th>Статуспоэкспертизе</th>\n      <th>Экспертиза</th>\n      <th>season</th>\n      <th>Сдвиг</th>\n      <th>Скорость</th>\n    </tr>\n  </thead>\n  <tbody>\n    <tr>\n      <th>0</th>\n      <td>022-0527</td>\n      <td>1</td>\n      <td>2023-01-17</td>\n      <td>2023-05-29</td>\n      <td>34</td>\n      <td>Образование</td>\n      <td>Общеобразовательные учреждения</td>\n      <td>2022-01-14</td>\n      <td>2023-04-27</td>\n      <td>0</td>\n      <td>0</td>\n      <td>1</td>\n      <td>132</td>\n      <td>0.257576</td>\n    </tr>\n    <tr>\n      <th>1</th>\n      <td>022-0527</td>\n      <td>1.4.2</td>\n      <td>2023-01-17</td>\n      <td>2023-05-29</td>\n      <td>0</td>\n      <td>Образование</td>\n      <td>Общеобразовательные учреждения</td>\n      <td>2023-01-09</td>\n      <td>2023-04-27</td>\n      <td>0</td>\n      <td>0</td>\n      <td>1</td>\n      <td>132</td>\n      <td>0.0</td>\n    </tr>\n    <tr>\n      <th>2</th>\n      <td>022-0527</td>\n      <td>3</td>\n      <td>2023-01-17</td>\n      <td>2023-05-29</td>\n      <td>1</td>\n      <td>Образование</td>\n      <td>Общеобразовательные учреждения</td>\n      <td>2023-01-17</td>\n      <td>2023-12-25</td>\n      <td>0</td>\n      <td>0</td>\n      <td>1</td>\n      <td>132</td>\n      <td>0.007576</td>\n    </tr>\n    <tr>\n      <th>3</th>\n      <td>022-0527</td>\n      <td>3.1</td>\n      <td>2023-01-17</td>\n      <td>2023-05-29</td>\n      <td>2</td>\n      <td>Образование</td>\n      <td>Общеобразовательные учреждения</td>\n      <td>2022-02-25</td>\n      <td>2023-07-28</td>\n      <td>0</td>\n      <td>0</td>\n      <td>1</td>\n      <td>132</td>\n      <td>0.015152</td>\n    </tr>\n    <tr>\n      <th>4</th>\n      <td>022-0527</td>\n      <td>3.11</td>\n      <td>2023-01-17</td>\n      <td>2023-05-29</td>\n      <td>1</td>\n      <td>Образование</td>\n      <td>Общеобразовательные учреждения</td>\n      <td>2023-03-27</td>\n      <td>2023-07-25</td>\n      <td>0</td>\n      <td>0</td>\n      <td>2</td>\n      <td>132</td>\n      <td>0.007576</td>\n    </tr>\n    <tr>\n      <th>...</th>\n      <td>...</td>\n      <td>...</td>\n      <td>...</td>\n      <td>...</td>\n      <td>...</td>\n      <td>...</td>\n      <td>...</td>\n      <td>...</td>\n      <td>...</td>\n      <td>...</td>\n      <td>...</td>\n      <td>...</td>\n      <td>...</td>\n      <td>...</td>\n    </tr>\n    <tr>\n      <th>1840</th>\n      <td>022-0355</td>\n      <td>3.11</td>\n      <td>2023-02-13</td>\n      <td>2023-05-29</td>\n      <td>0</td>\n      <td>Образование</td>\n      <td>Общеобразовательные учреждения</td>\n      <td>2023-01-23</td>\n      <td>2023-02-20</td>\n      <td>0</td>\n      <td>0</td>\n      <td>1</td>\n      <td>105</td>\n      <td>0.0</td>\n    </tr>\n    <tr>\n      <th>1841</th>\n      <td>022-0355</td>\n      <td>3.13</td>\n      <td>2023-02-13</td>\n      <td>2023-05-29</td>\n      <td>0</td>\n      <td>Образование</td>\n      <td>Общеобразовательные учреждения</td>\n      <td>2023-02-21</td>\n      <td>2023-04-15</td>\n      <td>0</td>\n      <td>0</td>\n      <td>2</td>\n      <td>105</td>\n      <td>0.0</td>\n    </tr>\n    <tr>\n      <th>1842</th>\n      <td>022-0355</td>\n      <td>3.15</td>\n      <td>2023-02-13</td>\n      <td>2023-05-29</td>\n      <td>0</td>\n      <td>Образование</td>\n      <td>Общеобразовательные учреждения</td>\n      <td>2023-04-15</td>\n      <td>2023-05-15</td>\n      <td>0</td>\n      <td>0</td>\n      <td>2</td>\n      <td>105</td>\n      <td>0.0</td>\n    </tr>\n    <tr>\n      <th>1843</th>\n      <td>022-0355</td>\n      <td>4</td>\n      <td>2023-02-13</td>\n      <td>2023-05-29</td>\n      <td>35</td>\n      <td>Образование</td>\n      <td>Общеобразовательные учреждения</td>\n      <td>2023-05-14</td>\n      <td>2023-05-31</td>\n      <td>0</td>\n      <td>0</td>\n      <td>2</td>\n      <td>105</td>\n      <td>0.333333</td>\n    </tr>\n    <tr>\n      <th>1844</th>\n      <td>022-0355</td>\n      <td>4.12</td>\n      <td>2023-02-13</td>\n      <td>2023-05-29</td>\n      <td>0</td>\n      <td>Образование</td>\n      <td>Общеобразовательные учреждения</td>\n      <td>2023-05-14</td>\n      <td>2023-05-31</td>\n      <td>0</td>\n      <td>0</td>\n      <td>2</td>\n      <td>105</td>\n      <td>0.0</td>\n    </tr>\n  </tbody>\n</table>\n<p>1845 rows × 14 columns</p>\n</div>"
     },
     "execution_count": 200,
     "metadata": {},
     "output_type": "execute_result"
    }
   ],
   "source": [
    "df2['Сдвиг'].replace({0.0: 1}, inplace=True)\n",
    "df2['Сдвиг'] = df2['Сдвиг'].astype(int)\n",
    "df2['Скорость'] = df2['ПроцентЗавершенияЗадачи'] / df2['Сдвиг']\n",
    "df2"
   ],
   "metadata": {
    "collapsed": false,
    "ExecuteTime": {
     "end_time": "2023-06-24T12:12:11.711923Z",
     "start_time": "2023-06-24T12:12:11.689927Z"
    }
   }
  },
  {
   "cell_type": "code",
   "execution_count": 201,
   "outputs": [
    {
     "name": "stderr",
     "output_type": "stream",
     "text": [
      "100%|██████████| 72/72 [00:07<00:00,  9.07it/s]\n"
     ]
    },
    {
     "data": {
      "text/plain": "                 obj_prg                      obj_subprg   obj_key Кодзадачи  \\\n0            Образование  Общеобразовательные учреждения  022-0527         1   \n1            Образование  Общеобразовательные учреждения  022-0354         1   \n2            Образование           Дошкольные учреждения  022-0513         1   \n3            Образование           Дошкольные учреждения  020-0684         1   \n4            Образование           Дошкольные учреждения  019-0589         1   \n...                  ...                             ...       ...       ...   \n1055395  Здравоохранение                             ССК  019-0477       7.4   \n1056093      Образование  Общеобразовательные учреждения  020-0710         8   \n1056094      Образование  Общеобразовательные учреждения  019-0675         8   \n1056095      Образование           Дошкольные учреждения  020-0712         8   \n1056096      Образование  Общеобразовательные учреждения  019-0429         8   \n\n         ПроцентЗавершенияЗадачи ДатаНачалаЗадачи ДатаОкончанияЗадачи  \\\n0                              0       2022-01-14          2023-03-30   \n1                              0       2022-12-01          2023-07-27   \n2                              0       2023-01-23          2023-09-29   \n3                              0       2020-11-03          2022-02-01   \n4                              0       2020-11-03          2022-05-16   \n...                          ...              ...                 ...   \n1055395                       93       2020-04-28          2023-05-31   \n1056093                        0       2023-08-31          2024-04-10   \n1056094                        0       2023-09-01          2024-04-11   \n1056095                        0       2023-06-19          2024-01-26   \n1056096                        0       2024-05-30          2024-12-31   \n\n        ДатаначалаБП0 ДатаокончанияБП0  Статуспоэкспертизе  Экспертиза  \\\n0          2022-01-14       2023-03-30                   0           0   \n1          2022-12-01       2023-07-27                   0           0   \n2          2023-01-23       2023-09-29                   0           0   \n3          2020-11-03       2021-12-29                   0           0   \n4          2020-11-03       2021-12-29                   0           0   \n...               ...              ...                 ...         ...   \n1055395    2022-12-06       2022-12-15                   0           0   \n1056093    2023-08-31       2024-04-10                   0           0   \n1056094    2023-09-01       2024-04-11                   0           0   \n1056095    2023-06-19       2024-01-26                   0           0   \n1056096    2024-05-30       2024-12-31                   0           0   \n\n        date_report  season  Скорость  \n0        2023-01-17       1  0.257576  \n1        2023-01-17       1  0.462121  \n2        2023-01-17       1  0.416667  \n3        2023-01-17       4  0.000000  \n4        2023-01-17       4  0.000000  \n...             ...     ...       ...  \n1055395  2023-05-29       2  0.704545  \n1056093  2023-05-29       3  0.000000  \n1056094  2023-05-29       4  0.000000  \n1056095  2023-05-29       2  0.000000  \n1056096  2023-05-29       2  0.000000  \n\n[35201 rows x 14 columns]",
      "text/html": "<div>\n<style scoped>\n    .dataframe tbody tr th:only-of-type {\n        vertical-align: middle;\n    }\n\n    .dataframe tbody tr th {\n        vertical-align: top;\n    }\n\n    .dataframe thead th {\n        text-align: right;\n    }\n</style>\n<table border=\"1\" class=\"dataframe\">\n  <thead>\n    <tr style=\"text-align: right;\">\n      <th></th>\n      <th>obj_prg</th>\n      <th>obj_subprg</th>\n      <th>obj_key</th>\n      <th>Кодзадачи</th>\n      <th>ПроцентЗавершенияЗадачи</th>\n      <th>ДатаНачалаЗадачи</th>\n      <th>ДатаОкончанияЗадачи</th>\n      <th>ДатаначалаБП0</th>\n      <th>ДатаокончанияБП0</th>\n      <th>Статуспоэкспертизе</th>\n      <th>Экспертиза</th>\n      <th>date_report</th>\n      <th>season</th>\n      <th>Скорость</th>\n    </tr>\n  </thead>\n  <tbody>\n    <tr>\n      <th>0</th>\n      <td>Образование</td>\n      <td>Общеобразовательные учреждения</td>\n      <td>022-0527</td>\n      <td>1</td>\n      <td>0</td>\n      <td>2022-01-14</td>\n      <td>2023-03-30</td>\n      <td>2022-01-14</td>\n      <td>2023-03-30</td>\n      <td>0</td>\n      <td>0</td>\n      <td>2023-01-17</td>\n      <td>1</td>\n      <td>0.257576</td>\n    </tr>\n    <tr>\n      <th>1</th>\n      <td>Образование</td>\n      <td>Общеобразовательные учреждения</td>\n      <td>022-0354</td>\n      <td>1</td>\n      <td>0</td>\n      <td>2022-12-01</td>\n      <td>2023-07-27</td>\n      <td>2022-12-01</td>\n      <td>2023-07-27</td>\n      <td>0</td>\n      <td>0</td>\n      <td>2023-01-17</td>\n      <td>1</td>\n      <td>0.462121</td>\n    </tr>\n    <tr>\n      <th>2</th>\n      <td>Образование</td>\n      <td>Дошкольные учреждения</td>\n      <td>022-0513</td>\n      <td>1</td>\n      <td>0</td>\n      <td>2023-01-23</td>\n      <td>2023-09-29</td>\n      <td>2023-01-23</td>\n      <td>2023-09-29</td>\n      <td>0</td>\n      <td>0</td>\n      <td>2023-01-17</td>\n      <td>1</td>\n      <td>0.416667</td>\n    </tr>\n    <tr>\n      <th>3</th>\n      <td>Образование</td>\n      <td>Дошкольные учреждения</td>\n      <td>020-0684</td>\n      <td>1</td>\n      <td>0</td>\n      <td>2020-11-03</td>\n      <td>2022-02-01</td>\n      <td>2020-11-03</td>\n      <td>2021-12-29</td>\n      <td>0</td>\n      <td>0</td>\n      <td>2023-01-17</td>\n      <td>4</td>\n      <td>0.000000</td>\n    </tr>\n    <tr>\n      <th>4</th>\n      <td>Образование</td>\n      <td>Дошкольные учреждения</td>\n      <td>019-0589</td>\n      <td>1</td>\n      <td>0</td>\n      <td>2020-11-03</td>\n      <td>2022-05-16</td>\n      <td>2020-11-03</td>\n      <td>2021-12-29</td>\n      <td>0</td>\n      <td>0</td>\n      <td>2023-01-17</td>\n      <td>4</td>\n      <td>0.000000</td>\n    </tr>\n    <tr>\n      <th>...</th>\n      <td>...</td>\n      <td>...</td>\n      <td>...</td>\n      <td>...</td>\n      <td>...</td>\n      <td>...</td>\n      <td>...</td>\n      <td>...</td>\n      <td>...</td>\n      <td>...</td>\n      <td>...</td>\n      <td>...</td>\n      <td>...</td>\n      <td>...</td>\n    </tr>\n    <tr>\n      <th>1055395</th>\n      <td>Здравоохранение</td>\n      <td>ССК</td>\n      <td>019-0477</td>\n      <td>7.4</td>\n      <td>93</td>\n      <td>2020-04-28</td>\n      <td>2023-05-31</td>\n      <td>2022-12-06</td>\n      <td>2022-12-15</td>\n      <td>0</td>\n      <td>0</td>\n      <td>2023-05-29</td>\n      <td>2</td>\n      <td>0.704545</td>\n    </tr>\n    <tr>\n      <th>1056093</th>\n      <td>Образование</td>\n      <td>Общеобразовательные учреждения</td>\n      <td>020-0710</td>\n      <td>8</td>\n      <td>0</td>\n      <td>2023-08-31</td>\n      <td>2024-04-10</td>\n      <td>2023-08-31</td>\n      <td>2024-04-10</td>\n      <td>0</td>\n      <td>0</td>\n      <td>2023-05-29</td>\n      <td>3</td>\n      <td>0.000000</td>\n    </tr>\n    <tr>\n      <th>1056094</th>\n      <td>Образование</td>\n      <td>Общеобразовательные учреждения</td>\n      <td>019-0675</td>\n      <td>8</td>\n      <td>0</td>\n      <td>2023-09-01</td>\n      <td>2024-04-11</td>\n      <td>2023-09-01</td>\n      <td>2024-04-11</td>\n      <td>0</td>\n      <td>0</td>\n      <td>2023-05-29</td>\n      <td>4</td>\n      <td>0.000000</td>\n    </tr>\n    <tr>\n      <th>1056095</th>\n      <td>Образование</td>\n      <td>Дошкольные учреждения</td>\n      <td>020-0712</td>\n      <td>8</td>\n      <td>0</td>\n      <td>2023-06-19</td>\n      <td>2024-01-26</td>\n      <td>2023-06-19</td>\n      <td>2024-01-26</td>\n      <td>0</td>\n      <td>0</td>\n      <td>2023-05-29</td>\n      <td>2</td>\n      <td>0.000000</td>\n    </tr>\n    <tr>\n      <th>1056096</th>\n      <td>Образование</td>\n      <td>Общеобразовательные учреждения</td>\n      <td>019-0429</td>\n      <td>8</td>\n      <td>0</td>\n      <td>2024-05-30</td>\n      <td>2024-12-31</td>\n      <td>2024-05-30</td>\n      <td>2024-12-31</td>\n      <td>0</td>\n      <td>0</td>\n      <td>2023-05-29</td>\n      <td>2</td>\n      <td>0.000000</td>\n    </tr>\n  </tbody>\n</table>\n<p>35201 rows × 14 columns</p>\n</div>"
     },
     "execution_count": 201,
     "metadata": {},
     "output_type": "execute_result"
    }
   ],
   "source": [
    "df['Скорость'] = 0\n",
    "keys = df['obj_key'].unique()\n",
    "for key in tqdm(keys):\n",
    "    codes = df[df['obj_key'] == key]['Кодзадачи'].unique()\n",
    "    codes.sort()\n",
    "    for code in codes:\n",
    "        speed = df2[(df2['obj_key'] == key) & (df2['Кодзадачи'] == code)].head(1)['Скорость'].values[0]\n",
    "        df.loc[(df['obj_key'] == key) & (df['Кодзадачи'] == code), 'Скорость'] = speed\n",
    "df"
   ],
   "metadata": {
    "collapsed": false,
    "ExecuteTime": {
     "end_time": "2023-06-24T12:12:19.666029400Z",
     "start_time": "2023-06-24T12:12:11.706924400Z"
    }
   }
  },
  {
   "cell_type": "code",
   "execution_count": 202,
   "outputs": [
    {
     "data": {
      "text/plain": "       obj_key     состояние площадки   Площадь  Генпроектировщик  \\\n0     022-0043                    NaN      0.00                 0   \n1     022-0629                    NaN      0.00                 0   \n2     022-0170     Свободна, передана  16402.54                 1   \n3     022-0526                    NaN  18100.00                 0   \n4     022-0520                    NaN  27225.00                 0   \n...        ...                    ...       ...               ...   \n8579  019-0476     Свободна, передана   5429.00                31   \n8580  019-0470     Свободна, передана  15050.00                18   \n8581  017-0527                 Занята  14784.00                 8   \n8582  017-0520  Свободна, не передана   6367.00                 8   \n8583  021-0548                 Занята   4037.00                 8   \n\n      Генподрядчик  Кол-во рабочих date_report  \n0                0             0.0  2023-01-20  \n1                1             0.0  2023-01-20  \n2                2           271.0  2023-01-20  \n3                0             0.0  2023-01-20  \n4                0             0.0  2023-01-20  \n...            ...             ...         ...  \n8579            19             3.0  2023-06-04  \n8580            21            63.0  2023-06-04  \n8581             5             0.0  2023-06-04  \n8582             5             0.0  2023-06-04  \n8583             0             0.0  2023-06-04  \n\n[8584 rows x 7 columns]",
      "text/html": "<div>\n<style scoped>\n    .dataframe tbody tr th:only-of-type {\n        vertical-align: middle;\n    }\n\n    .dataframe tbody tr th {\n        vertical-align: top;\n    }\n\n    .dataframe thead th {\n        text-align: right;\n    }\n</style>\n<table border=\"1\" class=\"dataframe\">\n  <thead>\n    <tr style=\"text-align: right;\">\n      <th></th>\n      <th>obj_key</th>\n      <th>состояние площадки</th>\n      <th>Площадь</th>\n      <th>Генпроектировщик</th>\n      <th>Генподрядчик</th>\n      <th>Кол-во рабочих</th>\n      <th>date_report</th>\n    </tr>\n  </thead>\n  <tbody>\n    <tr>\n      <th>0</th>\n      <td>022-0043</td>\n      <td>NaN</td>\n      <td>0.00</td>\n      <td>0</td>\n      <td>0</td>\n      <td>0.0</td>\n      <td>2023-01-20</td>\n    </tr>\n    <tr>\n      <th>1</th>\n      <td>022-0629</td>\n      <td>NaN</td>\n      <td>0.00</td>\n      <td>0</td>\n      <td>1</td>\n      <td>0.0</td>\n      <td>2023-01-20</td>\n    </tr>\n    <tr>\n      <th>2</th>\n      <td>022-0170</td>\n      <td>Свободна, передана</td>\n      <td>16402.54</td>\n      <td>1</td>\n      <td>2</td>\n      <td>271.0</td>\n      <td>2023-01-20</td>\n    </tr>\n    <tr>\n      <th>3</th>\n      <td>022-0526</td>\n      <td>NaN</td>\n      <td>18100.00</td>\n      <td>0</td>\n      <td>0</td>\n      <td>0.0</td>\n      <td>2023-01-20</td>\n    </tr>\n    <tr>\n      <th>4</th>\n      <td>022-0520</td>\n      <td>NaN</td>\n      <td>27225.00</td>\n      <td>0</td>\n      <td>0</td>\n      <td>0.0</td>\n      <td>2023-01-20</td>\n    </tr>\n    <tr>\n      <th>...</th>\n      <td>...</td>\n      <td>...</td>\n      <td>...</td>\n      <td>...</td>\n      <td>...</td>\n      <td>...</td>\n      <td>...</td>\n    </tr>\n    <tr>\n      <th>8579</th>\n      <td>019-0476</td>\n      <td>Свободна, передана</td>\n      <td>5429.00</td>\n      <td>31</td>\n      <td>19</td>\n      <td>3.0</td>\n      <td>2023-06-04</td>\n    </tr>\n    <tr>\n      <th>8580</th>\n      <td>019-0470</td>\n      <td>Свободна, передана</td>\n      <td>15050.00</td>\n      <td>18</td>\n      <td>21</td>\n      <td>63.0</td>\n      <td>2023-06-04</td>\n    </tr>\n    <tr>\n      <th>8581</th>\n      <td>017-0527</td>\n      <td>Занята</td>\n      <td>14784.00</td>\n      <td>8</td>\n      <td>5</td>\n      <td>0.0</td>\n      <td>2023-06-04</td>\n    </tr>\n    <tr>\n      <th>8582</th>\n      <td>017-0520</td>\n      <td>Свободна, не передана</td>\n      <td>6367.00</td>\n      <td>8</td>\n      <td>5</td>\n      <td>0.0</td>\n      <td>2023-06-04</td>\n    </tr>\n    <tr>\n      <th>8583</th>\n      <td>021-0548</td>\n      <td>Занята</td>\n      <td>4037.00</td>\n      <td>8</td>\n      <td>0</td>\n      <td>0.0</td>\n      <td>2023-06-04</td>\n    </tr>\n  </tbody>\n</table>\n<p>8584 rows × 7 columns</p>\n</div>"
     },
     "execution_count": 202,
     "metadata": {},
     "output_type": "execute_result"
    }
   ],
   "source": [
    "atts['Площадь'].fillna(0, inplace=True)\n",
    "atts['Кол-во рабочих'].fillna(0, inplace=True)\n",
    "atts"
   ],
   "metadata": {
    "collapsed": false,
    "ExecuteTime": {
     "end_time": "2023-06-24T12:12:19.706029700Z",
     "start_time": "2023-06-24T12:12:19.667029300Z"
    }
   }
  },
  {
   "cell_type": "code",
   "execution_count": 203,
   "outputs": [],
   "source": [
    "df['Кол-во рабочих'] = np.nan\n",
    "df['Генподрядчик'] = np.nan\n",
    "df['Генпроектировщик'] = np.nan"
   ],
   "metadata": {
    "collapsed": false,
    "ExecuteTime": {
     "end_time": "2023-06-24T12:12:19.726028900Z",
     "start_time": "2023-06-24T12:12:19.682029100Z"
    }
   }
  },
  {
   "cell_type": "code",
   "execution_count": 204,
   "outputs": [
    {
     "name": "stderr",
     "output_type": "stream",
     "text": [
      "100%|██████████| 72/72 [00:24<00:00,  2.89it/s]\n"
     ]
    },
    {
     "data": {
      "text/plain": "                 obj_prg                      obj_subprg   obj_key Кодзадачи  \\\n0            Образование  Общеобразовательные учреждения  022-0527         1   \n1            Образование  Общеобразовательные учреждения  022-0354         1   \n2            Образование           Дошкольные учреждения  022-0513         1   \n3            Образование           Дошкольные учреждения  020-0684         1   \n4            Образование           Дошкольные учреждения  019-0589         1   \n...                  ...                             ...       ...       ...   \n1055395  Здравоохранение                             ССК  019-0477       7.4   \n1056093      Образование  Общеобразовательные учреждения  020-0710         8   \n1056094      Образование  Общеобразовательные учреждения  019-0675         8   \n1056095      Образование           Дошкольные учреждения  020-0712         8   \n1056096      Образование  Общеобразовательные учреждения  019-0429         8   \n\n         ПроцентЗавершенияЗадачи ДатаНачалаЗадачи ДатаОкончанияЗадачи  \\\n0                              0       2022-01-14          2023-03-30   \n1                              0       2022-12-01          2023-07-27   \n2                              0       2023-01-23          2023-09-29   \n3                              0       2020-11-03          2022-02-01   \n4                              0       2020-11-03          2022-05-16   \n...                          ...              ...                 ...   \n1055395                       93       2020-04-28          2023-05-31   \n1056093                        0       2023-08-31          2024-04-10   \n1056094                        0       2023-09-01          2024-04-11   \n1056095                        0       2023-06-19          2024-01-26   \n1056096                        0       2024-05-30          2024-12-31   \n\n        ДатаначалаБП0 ДатаокончанияБП0  Статуспоэкспертизе  Экспертиза  \\\n0          2022-01-14       2023-03-30                   0           0   \n1          2022-12-01       2023-07-27                   0           0   \n2          2023-01-23       2023-09-29                   0           0   \n3          2020-11-03       2021-12-29                   0           0   \n4          2020-11-03       2021-12-29                   0           0   \n...               ...              ...                 ...         ...   \n1055395    2022-12-06       2022-12-15                   0           0   \n1056093    2023-08-31       2024-04-10                   0           0   \n1056094    2023-09-01       2024-04-11                   0           0   \n1056095    2023-06-19       2024-01-26                   0           0   \n1056096    2024-05-30       2024-12-31                   0           0   \n\n        date_report  season  Скорость  Кол-во рабочих  Генподрядчик  \\\n0        2023-01-17       1  0.257576             NaN           NaN   \n1        2023-01-17       1  0.462121             NaN           NaN   \n2        2023-01-17       1  0.416667             NaN           NaN   \n3        2023-01-17       4  0.000000             NaN           NaN   \n4        2023-01-17       4  0.000000             NaN           NaN   \n...             ...     ...       ...             ...           ...   \n1055395  2023-05-29       2  0.704545             5.0          12.0   \n1056093  2023-05-29       3  0.000000           156.0           5.0   \n1056094  2023-05-29       4  0.000000           139.0          22.0   \n1056095  2023-05-29       2  0.000000            53.0           5.0   \n1056096  2023-05-29       2  0.000000           107.0           7.0   \n\n         Генпроектировщик  \n0                     NaN  \n1                     NaN  \n2                     NaN  \n3                     NaN  \n4                     NaN  \n...                   ...  \n1055395              16.0  \n1056093               8.0  \n1056094              33.0  \n1056095               8.0  \n1056096              11.0  \n\n[35201 rows x 17 columns]",
      "text/html": "<div>\n<style scoped>\n    .dataframe tbody tr th:only-of-type {\n        vertical-align: middle;\n    }\n\n    .dataframe tbody tr th {\n        vertical-align: top;\n    }\n\n    .dataframe thead th {\n        text-align: right;\n    }\n</style>\n<table border=\"1\" class=\"dataframe\">\n  <thead>\n    <tr style=\"text-align: right;\">\n      <th></th>\n      <th>obj_prg</th>\n      <th>obj_subprg</th>\n      <th>obj_key</th>\n      <th>Кодзадачи</th>\n      <th>ПроцентЗавершенияЗадачи</th>\n      <th>ДатаНачалаЗадачи</th>\n      <th>ДатаОкончанияЗадачи</th>\n      <th>ДатаначалаБП0</th>\n      <th>ДатаокончанияБП0</th>\n      <th>Статуспоэкспертизе</th>\n      <th>Экспертиза</th>\n      <th>date_report</th>\n      <th>season</th>\n      <th>Скорость</th>\n      <th>Кол-во рабочих</th>\n      <th>Генподрядчик</th>\n      <th>Генпроектировщик</th>\n    </tr>\n  </thead>\n  <tbody>\n    <tr>\n      <th>0</th>\n      <td>Образование</td>\n      <td>Общеобразовательные учреждения</td>\n      <td>022-0527</td>\n      <td>1</td>\n      <td>0</td>\n      <td>2022-01-14</td>\n      <td>2023-03-30</td>\n      <td>2022-01-14</td>\n      <td>2023-03-30</td>\n      <td>0</td>\n      <td>0</td>\n      <td>2023-01-17</td>\n      <td>1</td>\n      <td>0.257576</td>\n      <td>NaN</td>\n      <td>NaN</td>\n      <td>NaN</td>\n    </tr>\n    <tr>\n      <th>1</th>\n      <td>Образование</td>\n      <td>Общеобразовательные учреждения</td>\n      <td>022-0354</td>\n      <td>1</td>\n      <td>0</td>\n      <td>2022-12-01</td>\n      <td>2023-07-27</td>\n      <td>2022-12-01</td>\n      <td>2023-07-27</td>\n      <td>0</td>\n      <td>0</td>\n      <td>2023-01-17</td>\n      <td>1</td>\n      <td>0.462121</td>\n      <td>NaN</td>\n      <td>NaN</td>\n      <td>NaN</td>\n    </tr>\n    <tr>\n      <th>2</th>\n      <td>Образование</td>\n      <td>Дошкольные учреждения</td>\n      <td>022-0513</td>\n      <td>1</td>\n      <td>0</td>\n      <td>2023-01-23</td>\n      <td>2023-09-29</td>\n      <td>2023-01-23</td>\n      <td>2023-09-29</td>\n      <td>0</td>\n      <td>0</td>\n      <td>2023-01-17</td>\n      <td>1</td>\n      <td>0.416667</td>\n      <td>NaN</td>\n      <td>NaN</td>\n      <td>NaN</td>\n    </tr>\n    <tr>\n      <th>3</th>\n      <td>Образование</td>\n      <td>Дошкольные учреждения</td>\n      <td>020-0684</td>\n      <td>1</td>\n      <td>0</td>\n      <td>2020-11-03</td>\n      <td>2022-02-01</td>\n      <td>2020-11-03</td>\n      <td>2021-12-29</td>\n      <td>0</td>\n      <td>0</td>\n      <td>2023-01-17</td>\n      <td>4</td>\n      <td>0.000000</td>\n      <td>NaN</td>\n      <td>NaN</td>\n      <td>NaN</td>\n    </tr>\n    <tr>\n      <th>4</th>\n      <td>Образование</td>\n      <td>Дошкольные учреждения</td>\n      <td>019-0589</td>\n      <td>1</td>\n      <td>0</td>\n      <td>2020-11-03</td>\n      <td>2022-05-16</td>\n      <td>2020-11-03</td>\n      <td>2021-12-29</td>\n      <td>0</td>\n      <td>0</td>\n      <td>2023-01-17</td>\n      <td>4</td>\n      <td>0.000000</td>\n      <td>NaN</td>\n      <td>NaN</td>\n      <td>NaN</td>\n    </tr>\n    <tr>\n      <th>...</th>\n      <td>...</td>\n      <td>...</td>\n      <td>...</td>\n      <td>...</td>\n      <td>...</td>\n      <td>...</td>\n      <td>...</td>\n      <td>...</td>\n      <td>...</td>\n      <td>...</td>\n      <td>...</td>\n      <td>...</td>\n      <td>...</td>\n      <td>...</td>\n      <td>...</td>\n      <td>...</td>\n      <td>...</td>\n    </tr>\n    <tr>\n      <th>1055395</th>\n      <td>Здравоохранение</td>\n      <td>ССК</td>\n      <td>019-0477</td>\n      <td>7.4</td>\n      <td>93</td>\n      <td>2020-04-28</td>\n      <td>2023-05-31</td>\n      <td>2022-12-06</td>\n      <td>2022-12-15</td>\n      <td>0</td>\n      <td>0</td>\n      <td>2023-05-29</td>\n      <td>2</td>\n      <td>0.704545</td>\n      <td>5.0</td>\n      <td>12.0</td>\n      <td>16.0</td>\n    </tr>\n    <tr>\n      <th>1056093</th>\n      <td>Образование</td>\n      <td>Общеобразовательные учреждения</td>\n      <td>020-0710</td>\n      <td>8</td>\n      <td>0</td>\n      <td>2023-08-31</td>\n      <td>2024-04-10</td>\n      <td>2023-08-31</td>\n      <td>2024-04-10</td>\n      <td>0</td>\n      <td>0</td>\n      <td>2023-05-29</td>\n      <td>3</td>\n      <td>0.000000</td>\n      <td>156.0</td>\n      <td>5.0</td>\n      <td>8.0</td>\n    </tr>\n    <tr>\n      <th>1056094</th>\n      <td>Образование</td>\n      <td>Общеобразовательные учреждения</td>\n      <td>019-0675</td>\n      <td>8</td>\n      <td>0</td>\n      <td>2023-09-01</td>\n      <td>2024-04-11</td>\n      <td>2023-09-01</td>\n      <td>2024-04-11</td>\n      <td>0</td>\n      <td>0</td>\n      <td>2023-05-29</td>\n      <td>4</td>\n      <td>0.000000</td>\n      <td>139.0</td>\n      <td>22.0</td>\n      <td>33.0</td>\n    </tr>\n    <tr>\n      <th>1056095</th>\n      <td>Образование</td>\n      <td>Дошкольные учреждения</td>\n      <td>020-0712</td>\n      <td>8</td>\n      <td>0</td>\n      <td>2023-06-19</td>\n      <td>2024-01-26</td>\n      <td>2023-06-19</td>\n      <td>2024-01-26</td>\n      <td>0</td>\n      <td>0</td>\n      <td>2023-05-29</td>\n      <td>2</td>\n      <td>0.000000</td>\n      <td>53.0</td>\n      <td>5.0</td>\n      <td>8.0</td>\n    </tr>\n    <tr>\n      <th>1056096</th>\n      <td>Образование</td>\n      <td>Общеобразовательные учреждения</td>\n      <td>019-0429</td>\n      <td>8</td>\n      <td>0</td>\n      <td>2024-05-30</td>\n      <td>2024-12-31</td>\n      <td>2024-05-30</td>\n      <td>2024-12-31</td>\n      <td>0</td>\n      <td>0</td>\n      <td>2023-05-29</td>\n      <td>2</td>\n      <td>0.000000</td>\n      <td>107.0</td>\n      <td>7.0</td>\n      <td>11.0</td>\n    </tr>\n  </tbody>\n</table>\n<p>35201 rows × 17 columns</p>\n</div>"
     },
     "execution_count": 204,
     "metadata": {},
     "output_type": "execute_result"
    }
   ],
   "source": [
    "for key in tqdm(keys):\n",
    "    dates = atts[atts['obj_key'] == key]['date_report'].unique()\n",
    "    dates.sort()\n",
    "    for date in dates:\n",
    "        query = atts[(atts['obj_key'] == key) & (atts['date_report'] == date)]\n",
    "        if not query.empty:\n",
    "            rab = query.head(1)['Кол-во рабочих'].values[0]\n",
    "            gen_pod = query.head(1)['Генподрядчик'].values[0]\n",
    "            gen_proc = query.head(1)['Генпроектировщик'].values[0]\n",
    "            mask = (df['obj_key'] == key) & (df['date_report'] == date)\n",
    "            df.loc[mask, 'Кол-во рабочих'] = rab\n",
    "            df.loc[mask, 'Генподрядчик'] = gen_pod\n",
    "            df.loc[mask, 'Генпроектировщик'] = gen_proc\n",
    "        else:\n",
    "            print(\"skip\")\n",
    "df"
   ],
   "metadata": {
    "collapsed": false,
    "ExecuteTime": {
     "end_time": "2023-06-24T12:12:44.659838700Z",
     "start_time": "2023-06-24T12:12:19.697030100Z"
    }
   }
  },
  {
   "cell_type": "code",
   "execution_count": 205,
   "outputs": [
    {
     "data": {
      "text/plain": "0.0      13380\n20.0       743\n17.0       524\n63.0       510\n9.0        432\n         ...  \n280.0       27\n123.0       27\n7.0         26\n66.0        26\n67.0        26\nName: Кол-во рабочих, Length: 228, dtype: int64"
     },
     "execution_count": 205,
     "metadata": {},
     "output_type": "execute_result"
    }
   ],
   "source": [
    "df['Кол-во рабочих'].value_counts()"
   ],
   "metadata": {
    "collapsed": false,
    "ExecuteTime": {
     "end_time": "2023-06-24T12:12:44.682839300Z",
     "start_time": "2023-06-24T12:12:44.659838700Z"
    }
   }
  },
  {
   "cell_type": "code",
   "execution_count": 206,
   "outputs": [
    {
     "data": {
      "text/plain": "             obj_prg                      obj_subprg   obj_key Кодзадачи  \\\n23       Образование  Общеобразовательные учреждения  022-0170         1   \n679      Образование  Общеобразовательные учреждения  022-0170     1.4.2   \n5970     Образование  Общеобразовательные учреждения  022-0170         3   \n6551     Образование  Общеобразовательные учреждения  022-0170       3.1   \n6978     Образование  Общеобразовательные учреждения  022-0170      3.11   \n...              ...                             ...       ...       ...   \n1043575  Образование  Общеобразовательные учреждения  022-0170         5   \n1044416  Образование  Общеобразовательные учреждения  022-0170      5.11   \n1053503  Образование  Общеобразовательные учреждения  022-0170       7.1   \n1055199  Образование  Общеобразовательные учреждения  022-0170     7.1.8   \n1055369  Образование  Общеобразовательные учреждения  022-0170       7.4   \n\n         ПроцентЗавершенияЗадачи ДатаНачалаЗадачи ДатаОкончанияЗадачи  \\\n23                           100       2022-04-05          2022-05-30   \n679                          100       2022-05-03          2022-05-30   \n5970                          98       2022-04-20          2023-03-29   \n6551                         100       2022-04-25          2022-05-25   \n6978                          99       2022-04-20          2023-03-15   \n...                          ...              ...                 ...   \n1043575                        0       2022-12-23          2023-09-22   \n1044416                        0       2023-07-26          2023-07-30   \n1053503                        0       2023-07-03          2023-07-24   \n1055199                        0       2023-07-21          2023-07-24   \n1055369                        0       2023-07-24          2023-07-31   \n\n        ДатаначалаБП0 ДатаокончанияБП0  Статуспоэкспертизе  Экспертиза  \\\n23         2022-04-05       2022-05-30                   0           0   \n679        2022-05-03       2022-05-30                   0           0   \n5970       2022-06-30       2023-03-24                   0           0   \n6551       2022-06-30       2022-07-08                   0           0   \n6978       2022-06-30       2022-11-28                   0           0   \n...               ...              ...                 ...         ...   \n1043575    2022-12-09       2023-07-10                   0           0   \n1044416    2023-05-21       2023-05-25                   0           0   \n1053503    2023-05-26       2023-06-16                   0           0   \n1055199    2023-06-15       2023-06-16                   0           0   \n1055369    2023-06-16       2023-06-30                   0           0   \n\n        date_report  season  Скорость  Кол-во рабочих  Генподрядчик  \\\n23       2023-01-17       2  0.757576             NaN           NaN   \n679      2023-01-17       2  0.757576             NaN           NaN   \n5970     2023-01-17       2  0.750000             NaN           NaN   \n6551     2023-01-17       2  0.757576             NaN           NaN   \n6978     2023-01-17       2  0.757576             NaN           NaN   \n...             ...     ...       ...             ...           ...   \n1043575  2023-05-29       1  0.000000           465.0           2.0   \n1044416  2023-05-29       3  0.000000           465.0           2.0   \n1053503  2023-05-29       3  0.000000           465.0           2.0   \n1055199  2023-05-29       3  0.000000           465.0           2.0   \n1055369  2023-05-29       3  0.000000           465.0           2.0   \n\n         Генпроектировщик  \n23                    NaN  \n679                   NaN  \n5970                  NaN  \n6551                  NaN  \n6978                  NaN  \n...                   ...  \n1043575               1.0  \n1044416               1.0  \n1053503               1.0  \n1055199               1.0  \n1055369               1.0  \n\n[516 rows x 17 columns]",
      "text/html": "<div>\n<style scoped>\n    .dataframe tbody tr th:only-of-type {\n        vertical-align: middle;\n    }\n\n    .dataframe tbody tr th {\n        vertical-align: top;\n    }\n\n    .dataframe thead th {\n        text-align: right;\n    }\n</style>\n<table border=\"1\" class=\"dataframe\">\n  <thead>\n    <tr style=\"text-align: right;\">\n      <th></th>\n      <th>obj_prg</th>\n      <th>obj_subprg</th>\n      <th>obj_key</th>\n      <th>Кодзадачи</th>\n      <th>ПроцентЗавершенияЗадачи</th>\n      <th>ДатаНачалаЗадачи</th>\n      <th>ДатаОкончанияЗадачи</th>\n      <th>ДатаначалаБП0</th>\n      <th>ДатаокончанияБП0</th>\n      <th>Статуспоэкспертизе</th>\n      <th>Экспертиза</th>\n      <th>date_report</th>\n      <th>season</th>\n      <th>Скорость</th>\n      <th>Кол-во рабочих</th>\n      <th>Генподрядчик</th>\n      <th>Генпроектировщик</th>\n    </tr>\n  </thead>\n  <tbody>\n    <tr>\n      <th>23</th>\n      <td>Образование</td>\n      <td>Общеобразовательные учреждения</td>\n      <td>022-0170</td>\n      <td>1</td>\n      <td>100</td>\n      <td>2022-04-05</td>\n      <td>2022-05-30</td>\n      <td>2022-04-05</td>\n      <td>2022-05-30</td>\n      <td>0</td>\n      <td>0</td>\n      <td>2023-01-17</td>\n      <td>2</td>\n      <td>0.757576</td>\n      <td>NaN</td>\n      <td>NaN</td>\n      <td>NaN</td>\n    </tr>\n    <tr>\n      <th>679</th>\n      <td>Образование</td>\n      <td>Общеобразовательные учреждения</td>\n      <td>022-0170</td>\n      <td>1.4.2</td>\n      <td>100</td>\n      <td>2022-05-03</td>\n      <td>2022-05-30</td>\n      <td>2022-05-03</td>\n      <td>2022-05-30</td>\n      <td>0</td>\n      <td>0</td>\n      <td>2023-01-17</td>\n      <td>2</td>\n      <td>0.757576</td>\n      <td>NaN</td>\n      <td>NaN</td>\n      <td>NaN</td>\n    </tr>\n    <tr>\n      <th>5970</th>\n      <td>Образование</td>\n      <td>Общеобразовательные учреждения</td>\n      <td>022-0170</td>\n      <td>3</td>\n      <td>98</td>\n      <td>2022-04-20</td>\n      <td>2023-03-29</td>\n      <td>2022-06-30</td>\n      <td>2023-03-24</td>\n      <td>0</td>\n      <td>0</td>\n      <td>2023-01-17</td>\n      <td>2</td>\n      <td>0.750000</td>\n      <td>NaN</td>\n      <td>NaN</td>\n      <td>NaN</td>\n    </tr>\n    <tr>\n      <th>6551</th>\n      <td>Образование</td>\n      <td>Общеобразовательные учреждения</td>\n      <td>022-0170</td>\n      <td>3.1</td>\n      <td>100</td>\n      <td>2022-04-25</td>\n      <td>2022-05-25</td>\n      <td>2022-06-30</td>\n      <td>2022-07-08</td>\n      <td>0</td>\n      <td>0</td>\n      <td>2023-01-17</td>\n      <td>2</td>\n      <td>0.757576</td>\n      <td>NaN</td>\n      <td>NaN</td>\n      <td>NaN</td>\n    </tr>\n    <tr>\n      <th>6978</th>\n      <td>Образование</td>\n      <td>Общеобразовательные учреждения</td>\n      <td>022-0170</td>\n      <td>3.11</td>\n      <td>99</td>\n      <td>2022-04-20</td>\n      <td>2023-03-15</td>\n      <td>2022-06-30</td>\n      <td>2022-11-28</td>\n      <td>0</td>\n      <td>0</td>\n      <td>2023-01-17</td>\n      <td>2</td>\n      <td>0.757576</td>\n      <td>NaN</td>\n      <td>NaN</td>\n      <td>NaN</td>\n    </tr>\n    <tr>\n      <th>...</th>\n      <td>...</td>\n      <td>...</td>\n      <td>...</td>\n      <td>...</td>\n      <td>...</td>\n      <td>...</td>\n      <td>...</td>\n      <td>...</td>\n      <td>...</td>\n      <td>...</td>\n      <td>...</td>\n      <td>...</td>\n      <td>...</td>\n      <td>...</td>\n      <td>...</td>\n      <td>...</td>\n      <td>...</td>\n    </tr>\n    <tr>\n      <th>1043575</th>\n      <td>Образование</td>\n      <td>Общеобразовательные учреждения</td>\n      <td>022-0170</td>\n      <td>5</td>\n      <td>0</td>\n      <td>2022-12-23</td>\n      <td>2023-09-22</td>\n      <td>2022-12-09</td>\n      <td>2023-07-10</td>\n      <td>0</td>\n      <td>0</td>\n      <td>2023-05-29</td>\n      <td>1</td>\n      <td>0.000000</td>\n      <td>465.0</td>\n      <td>2.0</td>\n      <td>1.0</td>\n    </tr>\n    <tr>\n      <th>1044416</th>\n      <td>Образование</td>\n      <td>Общеобразовательные учреждения</td>\n      <td>022-0170</td>\n      <td>5.11</td>\n      <td>0</td>\n      <td>2023-07-26</td>\n      <td>2023-07-30</td>\n      <td>2023-05-21</td>\n      <td>2023-05-25</td>\n      <td>0</td>\n      <td>0</td>\n      <td>2023-05-29</td>\n      <td>3</td>\n      <td>0.000000</td>\n      <td>465.0</td>\n      <td>2.0</td>\n      <td>1.0</td>\n    </tr>\n    <tr>\n      <th>1053503</th>\n      <td>Образование</td>\n      <td>Общеобразовательные учреждения</td>\n      <td>022-0170</td>\n      <td>7.1</td>\n      <td>0</td>\n      <td>2023-07-03</td>\n      <td>2023-07-24</td>\n      <td>2023-05-26</td>\n      <td>2023-06-16</td>\n      <td>0</td>\n      <td>0</td>\n      <td>2023-05-29</td>\n      <td>3</td>\n      <td>0.000000</td>\n      <td>465.0</td>\n      <td>2.0</td>\n      <td>1.0</td>\n    </tr>\n    <tr>\n      <th>1055199</th>\n      <td>Образование</td>\n      <td>Общеобразовательные учреждения</td>\n      <td>022-0170</td>\n      <td>7.1.8</td>\n      <td>0</td>\n      <td>2023-07-21</td>\n      <td>2023-07-24</td>\n      <td>2023-06-15</td>\n      <td>2023-06-16</td>\n      <td>0</td>\n      <td>0</td>\n      <td>2023-05-29</td>\n      <td>3</td>\n      <td>0.000000</td>\n      <td>465.0</td>\n      <td>2.0</td>\n      <td>1.0</td>\n    </tr>\n    <tr>\n      <th>1055369</th>\n      <td>Образование</td>\n      <td>Общеобразовательные учреждения</td>\n      <td>022-0170</td>\n      <td>7.4</td>\n      <td>0</td>\n      <td>2023-07-24</td>\n      <td>2023-07-31</td>\n      <td>2023-06-16</td>\n      <td>2023-06-30</td>\n      <td>0</td>\n      <td>0</td>\n      <td>2023-05-29</td>\n      <td>3</td>\n      <td>0.000000</td>\n      <td>465.0</td>\n      <td>2.0</td>\n      <td>1.0</td>\n    </tr>\n  </tbody>\n</table>\n<p>516 rows × 17 columns</p>\n</div>"
     },
     "execution_count": 206,
     "metadata": {},
     "output_type": "execute_result"
    }
   ],
   "source": [
    "df[df['obj_key'] == '022-0170']"
   ],
   "metadata": {
    "collapsed": false,
    "ExecuteTime": {
     "end_time": "2023-06-24T12:12:44.745839Z",
     "start_time": "2023-06-24T12:12:44.678838800Z"
    }
   }
  },
  {
   "cell_type": "code",
   "execution_count": 207,
   "outputs": [
    {
     "data": {
      "text/plain": "35201"
     },
     "execution_count": 207,
     "metadata": {},
     "output_type": "execute_result"
    }
   ],
   "source": [
    "len(df)"
   ],
   "metadata": {
    "collapsed": false,
    "ExecuteTime": {
     "end_time": "2023-06-24T12:12:44.813838Z",
     "start_time": "2023-06-24T12:12:44.706838600Z"
    }
   }
  },
  {
   "cell_type": "code",
   "execution_count": 208,
   "outputs": [],
   "source": [
    "obj_prg_ex = df['obj_prg'].unique()\n",
    "obj_subprg_ex = df['obj_subprg'].unique()\n",
    "obj_subprg_ex_d = {obj_subprg_ex[i]: i for i in range(len(obj_subprg_ex))}\n",
    "obj_prg_ex_d = {obj_prg_ex[i]: i for i in range(len(obj_prg_ex))}\n",
    "df['obj_prg'] = df['obj_prg'].map(obj_prg_ex_d)\n",
    "df['obj_subprg'] = df['obj_subprg'].map(obj_subprg_ex_d)"
   ],
   "metadata": {
    "collapsed": false,
    "ExecuteTime": {
     "end_time": "2023-06-24T12:12:44.861838100Z",
     "start_time": "2023-06-24T12:12:44.721841100Z"
    }
   }
  },
  {
   "cell_type": "code",
   "execution_count": 209,
   "outputs": [
    {
     "data": {
      "text/plain": "         obj_prg  obj_subprg   obj_key Кодзадачи  ПроцентЗавершенияЗадачи  \\\n0              0           0  022-0527         1                        0   \n1              0           0  022-0354         1                        0   \n2              0           1  022-0513         1                        0   \n3              0           1  020-0684         1                        0   \n4              0           1  019-0589         1                        0   \n...          ...         ...       ...       ...                      ...   \n1055395        1           2  019-0477       7.4                       93   \n1056093        0           0  020-0710         8                        0   \n1056094        0           0  019-0675         8                        0   \n1056095        0           1  020-0712         8                        0   \n1056096        0           0  019-0429         8                        0   \n\n        ДатаНачалаЗадачи ДатаОкончанияЗадачи  Статуспоэкспертизе  Экспертиза  \\\n0             2022-01-14          2023-03-30                   0           0   \n1             2022-12-01          2023-07-27                   0           0   \n2             2023-01-23          2023-09-29                   0           0   \n3             2020-11-03          2022-02-01                   0           0   \n4             2020-11-03          2022-05-16                   0           0   \n...                  ...                 ...                 ...         ...   \n1055395       2020-04-28          2023-05-31                   0           0   \n1056093       2023-08-31          2024-04-10                   0           0   \n1056094       2023-09-01          2024-04-11                   0           0   \n1056095       2023-06-19          2024-01-26                   0           0   \n1056096       2024-05-30          2024-12-31                   0           0   \n\n        date_report  season  Скорость  Кол-во рабочих  Генподрядчик  \\\n0        2023-01-17       1  0.257576             NaN           NaN   \n1        2023-01-17       1  0.462121             NaN           NaN   \n2        2023-01-17       1  0.416667             NaN           NaN   \n3        2023-01-17       4  0.000000             NaN           NaN   \n4        2023-01-17       4  0.000000             NaN           NaN   \n...             ...     ...       ...             ...           ...   \n1055395  2023-05-29       2  0.704545             5.0          12.0   \n1056093  2023-05-29       3  0.000000           156.0           5.0   \n1056094  2023-05-29       4  0.000000           139.0          22.0   \n1056095  2023-05-29       2  0.000000            53.0           5.0   \n1056096  2023-05-29       2  0.000000           107.0           7.0   \n\n         Генпроектировщик  \n0                     NaN  \n1                     NaN  \n2                     NaN  \n3                     NaN  \n4                     NaN  \n...                   ...  \n1055395              16.0  \n1056093               8.0  \n1056094              33.0  \n1056095               8.0  \n1056096              11.0  \n\n[35201 rows x 15 columns]",
      "text/html": "<div>\n<style scoped>\n    .dataframe tbody tr th:only-of-type {\n        vertical-align: middle;\n    }\n\n    .dataframe tbody tr th {\n        vertical-align: top;\n    }\n\n    .dataframe thead th {\n        text-align: right;\n    }\n</style>\n<table border=\"1\" class=\"dataframe\">\n  <thead>\n    <tr style=\"text-align: right;\">\n      <th></th>\n      <th>obj_prg</th>\n      <th>obj_subprg</th>\n      <th>obj_key</th>\n      <th>Кодзадачи</th>\n      <th>ПроцентЗавершенияЗадачи</th>\n      <th>ДатаНачалаЗадачи</th>\n      <th>ДатаОкончанияЗадачи</th>\n      <th>Статуспоэкспертизе</th>\n      <th>Экспертиза</th>\n      <th>date_report</th>\n      <th>season</th>\n      <th>Скорость</th>\n      <th>Кол-во рабочих</th>\n      <th>Генподрядчик</th>\n      <th>Генпроектировщик</th>\n    </tr>\n  </thead>\n  <tbody>\n    <tr>\n      <th>0</th>\n      <td>0</td>\n      <td>0</td>\n      <td>022-0527</td>\n      <td>1</td>\n      <td>0</td>\n      <td>2022-01-14</td>\n      <td>2023-03-30</td>\n      <td>0</td>\n      <td>0</td>\n      <td>2023-01-17</td>\n      <td>1</td>\n      <td>0.257576</td>\n      <td>NaN</td>\n      <td>NaN</td>\n      <td>NaN</td>\n    </tr>\n    <tr>\n      <th>1</th>\n      <td>0</td>\n      <td>0</td>\n      <td>022-0354</td>\n      <td>1</td>\n      <td>0</td>\n      <td>2022-12-01</td>\n      <td>2023-07-27</td>\n      <td>0</td>\n      <td>0</td>\n      <td>2023-01-17</td>\n      <td>1</td>\n      <td>0.462121</td>\n      <td>NaN</td>\n      <td>NaN</td>\n      <td>NaN</td>\n    </tr>\n    <tr>\n      <th>2</th>\n      <td>0</td>\n      <td>1</td>\n      <td>022-0513</td>\n      <td>1</td>\n      <td>0</td>\n      <td>2023-01-23</td>\n      <td>2023-09-29</td>\n      <td>0</td>\n      <td>0</td>\n      <td>2023-01-17</td>\n      <td>1</td>\n      <td>0.416667</td>\n      <td>NaN</td>\n      <td>NaN</td>\n      <td>NaN</td>\n    </tr>\n    <tr>\n      <th>3</th>\n      <td>0</td>\n      <td>1</td>\n      <td>020-0684</td>\n      <td>1</td>\n      <td>0</td>\n      <td>2020-11-03</td>\n      <td>2022-02-01</td>\n      <td>0</td>\n      <td>0</td>\n      <td>2023-01-17</td>\n      <td>4</td>\n      <td>0.000000</td>\n      <td>NaN</td>\n      <td>NaN</td>\n      <td>NaN</td>\n    </tr>\n    <tr>\n      <th>4</th>\n      <td>0</td>\n      <td>1</td>\n      <td>019-0589</td>\n      <td>1</td>\n      <td>0</td>\n      <td>2020-11-03</td>\n      <td>2022-05-16</td>\n      <td>0</td>\n      <td>0</td>\n      <td>2023-01-17</td>\n      <td>4</td>\n      <td>0.000000</td>\n      <td>NaN</td>\n      <td>NaN</td>\n      <td>NaN</td>\n    </tr>\n    <tr>\n      <th>...</th>\n      <td>...</td>\n      <td>...</td>\n      <td>...</td>\n      <td>...</td>\n      <td>...</td>\n      <td>...</td>\n      <td>...</td>\n      <td>...</td>\n      <td>...</td>\n      <td>...</td>\n      <td>...</td>\n      <td>...</td>\n      <td>...</td>\n      <td>...</td>\n      <td>...</td>\n    </tr>\n    <tr>\n      <th>1055395</th>\n      <td>1</td>\n      <td>2</td>\n      <td>019-0477</td>\n      <td>7.4</td>\n      <td>93</td>\n      <td>2020-04-28</td>\n      <td>2023-05-31</td>\n      <td>0</td>\n      <td>0</td>\n      <td>2023-05-29</td>\n      <td>2</td>\n      <td>0.704545</td>\n      <td>5.0</td>\n      <td>12.0</td>\n      <td>16.0</td>\n    </tr>\n    <tr>\n      <th>1056093</th>\n      <td>0</td>\n      <td>0</td>\n      <td>020-0710</td>\n      <td>8</td>\n      <td>0</td>\n      <td>2023-08-31</td>\n      <td>2024-04-10</td>\n      <td>0</td>\n      <td>0</td>\n      <td>2023-05-29</td>\n      <td>3</td>\n      <td>0.000000</td>\n      <td>156.0</td>\n      <td>5.0</td>\n      <td>8.0</td>\n    </tr>\n    <tr>\n      <th>1056094</th>\n      <td>0</td>\n      <td>0</td>\n      <td>019-0675</td>\n      <td>8</td>\n      <td>0</td>\n      <td>2023-09-01</td>\n      <td>2024-04-11</td>\n      <td>0</td>\n      <td>0</td>\n      <td>2023-05-29</td>\n      <td>4</td>\n      <td>0.000000</td>\n      <td>139.0</td>\n      <td>22.0</td>\n      <td>33.0</td>\n    </tr>\n    <tr>\n      <th>1056095</th>\n      <td>0</td>\n      <td>1</td>\n      <td>020-0712</td>\n      <td>8</td>\n      <td>0</td>\n      <td>2023-06-19</td>\n      <td>2024-01-26</td>\n      <td>0</td>\n      <td>0</td>\n      <td>2023-05-29</td>\n      <td>2</td>\n      <td>0.000000</td>\n      <td>53.0</td>\n      <td>5.0</td>\n      <td>8.0</td>\n    </tr>\n    <tr>\n      <th>1056096</th>\n      <td>0</td>\n      <td>0</td>\n      <td>019-0429</td>\n      <td>8</td>\n      <td>0</td>\n      <td>2024-05-30</td>\n      <td>2024-12-31</td>\n      <td>0</td>\n      <td>0</td>\n      <td>2023-05-29</td>\n      <td>2</td>\n      <td>0.000000</td>\n      <td>107.0</td>\n      <td>7.0</td>\n      <td>11.0</td>\n    </tr>\n  </tbody>\n</table>\n<p>35201 rows × 15 columns</p>\n</div>"
     },
     "execution_count": 209,
     "metadata": {},
     "output_type": "execute_result"
    }
   ],
   "source": [
    "df.drop(['ДатаначалаБП0', 'ДатаокончанияБП0'], axis=1, inplace=True)\n",
    "df"
   ],
   "metadata": {
    "collapsed": false,
    "ExecuteTime": {
     "end_time": "2023-06-24T12:12:44.876837600Z",
     "start_time": "2023-06-24T12:12:44.755840200Z"
    }
   }
  },
  {
   "cell_type": "code",
   "execution_count": 210,
   "outputs": [
    {
     "data": {
      "text/plain": "         obj_prg  obj_subprg   obj_key Кодзадачи  ПроцентЗавершенияЗадачи  \\\n0              0           0  022-0527         1                        0   \n1              0           0  022-0354         1                        0   \n2              0           1  022-0513         1                        0   \n3              0           1  020-0684         1                        0   \n4              0           1  019-0589         1                        0   \n...          ...         ...       ...       ...                      ...   \n1055395        1           2  019-0477       7.4                       93   \n1056093        0           0  020-0710         8                        0   \n1056094        0           0  019-0675         8                        0   \n1056095        0           1  020-0712         8                        0   \n1056096        0           0  019-0429         8                        0   \n\n        ДатаНачалаЗадачи ДатаОкончанияЗадачи  Статуспоэкспертизе  Экспертиза  \\\n0             2022-01-14          2023-03-30                   0           0   \n1             2022-12-01          2023-07-27                   0           0   \n2             2023-01-23          2023-09-29                   0           0   \n3             2020-11-03          2022-02-01                   0           0   \n4             2020-11-03          2022-05-16                   0           0   \n...                  ...                 ...                 ...         ...   \n1055395       2020-04-28          2023-05-31                   0           0   \n1056093       2023-08-31          2024-04-10                   0           0   \n1056094       2023-09-01          2024-04-11                   0           0   \n1056095       2023-06-19          2024-01-26                   0           0   \n1056096       2024-05-30          2024-12-31                   0           0   \n\n        date_report  season  Скорость  Кол-во рабочих  Генподрядчик  \\\n0        2023-01-17       1  0.257576             NaN           NaN   \n1        2023-01-17       1  0.462121             NaN           NaN   \n2        2023-01-17       1  0.416667             NaN           NaN   \n3        2023-01-17       4  0.000000             NaN           NaN   \n4        2023-01-17       4  0.000000             NaN           NaN   \n...             ...     ...       ...             ...           ...   \n1055395  2023-05-29       2  0.704545             5.0          12.0   \n1056093  2023-05-29       3  0.000000           156.0           5.0   \n1056094  2023-05-29       4  0.000000           139.0          22.0   \n1056095  2023-05-29       2  0.000000            53.0           5.0   \n1056096  2023-05-29       2  0.000000           107.0           7.0   \n\n         Генпроектировщик  Время на выполнение  \n0                     NaN                  440  \n1                     NaN                  238  \n2                     NaN                  249  \n3                     NaN                  455  \n4                     NaN                  559  \n...                   ...                  ...  \n1055395              16.0                 1128  \n1056093               8.0                  223  \n1056094              33.0                  223  \n1056095               8.0                  221  \n1056096              11.0                  215  \n\n[35201 rows x 16 columns]",
      "text/html": "<div>\n<style scoped>\n    .dataframe tbody tr th:only-of-type {\n        vertical-align: middle;\n    }\n\n    .dataframe tbody tr th {\n        vertical-align: top;\n    }\n\n    .dataframe thead th {\n        text-align: right;\n    }\n</style>\n<table border=\"1\" class=\"dataframe\">\n  <thead>\n    <tr style=\"text-align: right;\">\n      <th></th>\n      <th>obj_prg</th>\n      <th>obj_subprg</th>\n      <th>obj_key</th>\n      <th>Кодзадачи</th>\n      <th>ПроцентЗавершенияЗадачи</th>\n      <th>ДатаНачалаЗадачи</th>\n      <th>ДатаОкончанияЗадачи</th>\n      <th>Статуспоэкспертизе</th>\n      <th>Экспертиза</th>\n      <th>date_report</th>\n      <th>season</th>\n      <th>Скорость</th>\n      <th>Кол-во рабочих</th>\n      <th>Генподрядчик</th>\n      <th>Генпроектировщик</th>\n      <th>Время на выполнение</th>\n    </tr>\n  </thead>\n  <tbody>\n    <tr>\n      <th>0</th>\n      <td>0</td>\n      <td>0</td>\n      <td>022-0527</td>\n      <td>1</td>\n      <td>0</td>\n      <td>2022-01-14</td>\n      <td>2023-03-30</td>\n      <td>0</td>\n      <td>0</td>\n      <td>2023-01-17</td>\n      <td>1</td>\n      <td>0.257576</td>\n      <td>NaN</td>\n      <td>NaN</td>\n      <td>NaN</td>\n      <td>440</td>\n    </tr>\n    <tr>\n      <th>1</th>\n      <td>0</td>\n      <td>0</td>\n      <td>022-0354</td>\n      <td>1</td>\n      <td>0</td>\n      <td>2022-12-01</td>\n      <td>2023-07-27</td>\n      <td>0</td>\n      <td>0</td>\n      <td>2023-01-17</td>\n      <td>1</td>\n      <td>0.462121</td>\n      <td>NaN</td>\n      <td>NaN</td>\n      <td>NaN</td>\n      <td>238</td>\n    </tr>\n    <tr>\n      <th>2</th>\n      <td>0</td>\n      <td>1</td>\n      <td>022-0513</td>\n      <td>1</td>\n      <td>0</td>\n      <td>2023-01-23</td>\n      <td>2023-09-29</td>\n      <td>0</td>\n      <td>0</td>\n      <td>2023-01-17</td>\n      <td>1</td>\n      <td>0.416667</td>\n      <td>NaN</td>\n      <td>NaN</td>\n      <td>NaN</td>\n      <td>249</td>\n    </tr>\n    <tr>\n      <th>3</th>\n      <td>0</td>\n      <td>1</td>\n      <td>020-0684</td>\n      <td>1</td>\n      <td>0</td>\n      <td>2020-11-03</td>\n      <td>2022-02-01</td>\n      <td>0</td>\n      <td>0</td>\n      <td>2023-01-17</td>\n      <td>4</td>\n      <td>0.000000</td>\n      <td>NaN</td>\n      <td>NaN</td>\n      <td>NaN</td>\n      <td>455</td>\n    </tr>\n    <tr>\n      <th>4</th>\n      <td>0</td>\n      <td>1</td>\n      <td>019-0589</td>\n      <td>1</td>\n      <td>0</td>\n      <td>2020-11-03</td>\n      <td>2022-05-16</td>\n      <td>0</td>\n      <td>0</td>\n      <td>2023-01-17</td>\n      <td>4</td>\n      <td>0.000000</td>\n      <td>NaN</td>\n      <td>NaN</td>\n      <td>NaN</td>\n      <td>559</td>\n    </tr>\n    <tr>\n      <th>...</th>\n      <td>...</td>\n      <td>...</td>\n      <td>...</td>\n      <td>...</td>\n      <td>...</td>\n      <td>...</td>\n      <td>...</td>\n      <td>...</td>\n      <td>...</td>\n      <td>...</td>\n      <td>...</td>\n      <td>...</td>\n      <td>...</td>\n      <td>...</td>\n      <td>...</td>\n      <td>...</td>\n    </tr>\n    <tr>\n      <th>1055395</th>\n      <td>1</td>\n      <td>2</td>\n      <td>019-0477</td>\n      <td>7.4</td>\n      <td>93</td>\n      <td>2020-04-28</td>\n      <td>2023-05-31</td>\n      <td>0</td>\n      <td>0</td>\n      <td>2023-05-29</td>\n      <td>2</td>\n      <td>0.704545</td>\n      <td>5.0</td>\n      <td>12.0</td>\n      <td>16.0</td>\n      <td>1128</td>\n    </tr>\n    <tr>\n      <th>1056093</th>\n      <td>0</td>\n      <td>0</td>\n      <td>020-0710</td>\n      <td>8</td>\n      <td>0</td>\n      <td>2023-08-31</td>\n      <td>2024-04-10</td>\n      <td>0</td>\n      <td>0</td>\n      <td>2023-05-29</td>\n      <td>3</td>\n      <td>0.000000</td>\n      <td>156.0</td>\n      <td>5.0</td>\n      <td>8.0</td>\n      <td>223</td>\n    </tr>\n    <tr>\n      <th>1056094</th>\n      <td>0</td>\n      <td>0</td>\n      <td>019-0675</td>\n      <td>8</td>\n      <td>0</td>\n      <td>2023-09-01</td>\n      <td>2024-04-11</td>\n      <td>0</td>\n      <td>0</td>\n      <td>2023-05-29</td>\n      <td>4</td>\n      <td>0.000000</td>\n      <td>139.0</td>\n      <td>22.0</td>\n      <td>33.0</td>\n      <td>223</td>\n    </tr>\n    <tr>\n      <th>1056095</th>\n      <td>0</td>\n      <td>1</td>\n      <td>020-0712</td>\n      <td>8</td>\n      <td>0</td>\n      <td>2023-06-19</td>\n      <td>2024-01-26</td>\n      <td>0</td>\n      <td>0</td>\n      <td>2023-05-29</td>\n      <td>2</td>\n      <td>0.000000</td>\n      <td>53.0</td>\n      <td>5.0</td>\n      <td>8.0</td>\n      <td>221</td>\n    </tr>\n    <tr>\n      <th>1056096</th>\n      <td>0</td>\n      <td>0</td>\n      <td>019-0429</td>\n      <td>8</td>\n      <td>0</td>\n      <td>2024-05-30</td>\n      <td>2024-12-31</td>\n      <td>0</td>\n      <td>0</td>\n      <td>2023-05-29</td>\n      <td>2</td>\n      <td>0.000000</td>\n      <td>107.0</td>\n      <td>7.0</td>\n      <td>11.0</td>\n      <td>215</td>\n    </tr>\n  </tbody>\n</table>\n<p>35201 rows × 16 columns</p>\n</div>"
     },
     "execution_count": 210,
     "metadata": {},
     "output_type": "execute_result"
    }
   ],
   "source": [
    "df['Время на выполнение'] = abs((df['ДатаНачалаЗадачи'] - df['ДатаОкончанияЗадачи']).dt.days)\n",
    "df"
   ],
   "metadata": {
    "collapsed": false,
    "ExecuteTime": {
     "end_time": "2023-06-24T12:12:44.876837600Z",
     "start_time": "2023-06-24T12:12:44.785838800Z"
    }
   }
  },
  {
   "cell_type": "code",
   "execution_count": 211,
   "outputs": [
    {
     "data": {
      "text/plain": "{'Образование': 0, 'Здравоохранение': 1}"
     },
     "execution_count": 211,
     "metadata": {},
     "output_type": "execute_result"
    }
   ],
   "source": [
    "obj_prg_ex_d"
   ],
   "metadata": {
    "collapsed": false,
    "ExecuteTime": {
     "end_time": "2023-06-24T12:12:44.909837Z",
     "start_time": "2023-06-24T12:12:44.816838800Z"
    }
   }
  },
  {
   "cell_type": "code",
   "execution_count": 212,
   "outputs": [
    {
     "data": {
      "text/plain": "obj_prg                             int64\nobj_subprg                          int64\nobj_key                            object\nКодзадачи                          object\nПроцентЗавершенияЗадачи             int32\nДатаНачалаЗадачи           datetime64[ns]\nДатаОкончанияЗадачи        datetime64[ns]\nСтатуспоэкспертизе                  int32\nЭкспертиза                          int64\ndate_report                datetime64[ns]\nseason                              int64\nСкорость                          float64\nКол-во рабочих                    float64\nГенподрядчик                      float64\nГенпроектировщик                  float64\nВремя на выполнение                 int64\ndtype: object"
     },
     "execution_count": 212,
     "metadata": {},
     "output_type": "execute_result"
    }
   ],
   "source": [
    "df.dtypes"
   ],
   "metadata": {
    "collapsed": false,
    "ExecuteTime": {
     "end_time": "2023-06-24T12:12:44.936839100Z",
     "start_time": "2023-06-24T12:12:44.832840500Z"
    }
   }
  },
  {
   "cell_type": "code",
   "execution_count": 213,
   "outputs": [
    {
     "data": {
      "text/plain": "array([[0, 1, '017-0520', ..., nan, nan, 1202],\n       [0, 1, '017-0520', ..., nan, nan, 1202],\n       [0, 1, '017-0520', ..., nan, nan, 1202],\n       ...,\n       [1, 3, '022-0631', ..., nan, nan, 221],\n       [1, 3, '022-0631', ..., nan, nan, 221],\n       [1, 3, '022-0631', ..., nan, nan, 221]], dtype=object)"
     },
     "execution_count": 213,
     "metadata": {},
     "output_type": "execute_result"
    }
   ],
   "source": [
    "df.sort_values(['obj_key', 'Кодзадачи', 'ПроцентЗавершенияЗадачи', 'date_report']).values"
   ],
   "metadata": {
    "collapsed": false,
    "ExecuteTime": {
     "end_time": "2023-06-24T12:12:45.198838900Z",
     "start_time": "2023-06-24T12:12:44.861838100Z"
    }
   }
  },
  {
   "cell_type": "code",
   "execution_count": 214,
   "outputs": [
    {
     "data": {
      "text/plain": "         obj_prg  obj_subprg   obj_key Кодзадачи  ПроцентЗавершенияЗадачи  \\\n23             0           0  022-0170         1                      100   \n47662          0           0  022-0170         1                      100   \n96346          0           0  022-0170         1                      100   \n148487         0           0  022-0170         1                      100   \n203056         0           0  022-0170         1                      100   \n...          ...         ...       ...       ...                      ...   \n996974         0           0  022-0170       7.4                        0   \n1055369        0           0  022-0170       7.4                        0   \n45766          0           0  022-0170         8                        0   \n94454          0           0  022-0170         8                        0   \n145342         0           0  022-0170         8                        0   \n\n        ДатаНачалаЗадачи ДатаОкончанияЗадачи  Статуспоэкспертизе  Экспертиза  \\\n23            2022-04-05          2022-05-30                   0           0   \n47662         2022-04-05          2022-05-30                   0           0   \n96346         2022-04-05          2022-05-30                   0           0   \n148487        2022-04-05          2022-05-30                   0           0   \n203056        2022-04-05          2022-05-30                   0           0   \n...                  ...                 ...                 ...         ...   \n996974        2023-07-24          2023-07-31                   0           0   \n1055369       2023-07-24          2023-07-31                   0           0   \n45766         2024-04-23          2024-11-22                   0           0   \n94454         2024-05-01          2024-12-02                   0           0   \n145342        2023-07-31          2024-03-08                   0           0   \n\n        date_report  season  Скорость  Кол-во рабочих  Генподрядчик  \\\n23       2023-01-17       2  0.757576             NaN           NaN   \n47662    2023-01-23       2  0.757576             NaN           NaN   \n96346    2023-02-06       2  0.757576             NaN           NaN   \n148487   2023-02-13       2  0.757576           338.0           2.0   \n203056   2023-02-20       2  0.757576           334.0           2.0   \n...             ...     ...       ...             ...           ...   \n996974   2023-05-22       3  0.000000           489.0           2.0   \n1055369  2023-05-29       3  0.000000           465.0           2.0   \n45766    2023-01-17       2  0.000000             NaN           NaN   \n94454    2023-01-23       2  0.000000             NaN           NaN   \n145342   2023-02-06       3  0.000000             NaN           NaN   \n\n         Генпроектировщик  Время на выполнение  \n23                    NaN                   55  \n47662                 NaN                   55  \n96346                 NaN                   55  \n148487                1.0                   55  \n203056                1.0                   55  \n...                   ...                  ...  \n996974                1.0                    7  \n1055369               1.0                    7  \n45766                 NaN                  213  \n94454                 NaN                  215  \n145342                NaN                  221  \n\n[516 rows x 16 columns]",
      "text/html": "<div>\n<style scoped>\n    .dataframe tbody tr th:only-of-type {\n        vertical-align: middle;\n    }\n\n    .dataframe tbody tr th {\n        vertical-align: top;\n    }\n\n    .dataframe thead th {\n        text-align: right;\n    }\n</style>\n<table border=\"1\" class=\"dataframe\">\n  <thead>\n    <tr style=\"text-align: right;\">\n      <th></th>\n      <th>obj_prg</th>\n      <th>obj_subprg</th>\n      <th>obj_key</th>\n      <th>Кодзадачи</th>\n      <th>ПроцентЗавершенияЗадачи</th>\n      <th>ДатаНачалаЗадачи</th>\n      <th>ДатаОкончанияЗадачи</th>\n      <th>Статуспоэкспертизе</th>\n      <th>Экспертиза</th>\n      <th>date_report</th>\n      <th>season</th>\n      <th>Скорость</th>\n      <th>Кол-во рабочих</th>\n      <th>Генподрядчик</th>\n      <th>Генпроектировщик</th>\n      <th>Время на выполнение</th>\n    </tr>\n  </thead>\n  <tbody>\n    <tr>\n      <th>23</th>\n      <td>0</td>\n      <td>0</td>\n      <td>022-0170</td>\n      <td>1</td>\n      <td>100</td>\n      <td>2022-04-05</td>\n      <td>2022-05-30</td>\n      <td>0</td>\n      <td>0</td>\n      <td>2023-01-17</td>\n      <td>2</td>\n      <td>0.757576</td>\n      <td>NaN</td>\n      <td>NaN</td>\n      <td>NaN</td>\n      <td>55</td>\n    </tr>\n    <tr>\n      <th>47662</th>\n      <td>0</td>\n      <td>0</td>\n      <td>022-0170</td>\n      <td>1</td>\n      <td>100</td>\n      <td>2022-04-05</td>\n      <td>2022-05-30</td>\n      <td>0</td>\n      <td>0</td>\n      <td>2023-01-23</td>\n      <td>2</td>\n      <td>0.757576</td>\n      <td>NaN</td>\n      <td>NaN</td>\n      <td>NaN</td>\n      <td>55</td>\n    </tr>\n    <tr>\n      <th>96346</th>\n      <td>0</td>\n      <td>0</td>\n      <td>022-0170</td>\n      <td>1</td>\n      <td>100</td>\n      <td>2022-04-05</td>\n      <td>2022-05-30</td>\n      <td>0</td>\n      <td>0</td>\n      <td>2023-02-06</td>\n      <td>2</td>\n      <td>0.757576</td>\n      <td>NaN</td>\n      <td>NaN</td>\n      <td>NaN</td>\n      <td>55</td>\n    </tr>\n    <tr>\n      <th>148487</th>\n      <td>0</td>\n      <td>0</td>\n      <td>022-0170</td>\n      <td>1</td>\n      <td>100</td>\n      <td>2022-04-05</td>\n      <td>2022-05-30</td>\n      <td>0</td>\n      <td>0</td>\n      <td>2023-02-13</td>\n      <td>2</td>\n      <td>0.757576</td>\n      <td>338.0</td>\n      <td>2.0</td>\n      <td>1.0</td>\n      <td>55</td>\n    </tr>\n    <tr>\n      <th>203056</th>\n      <td>0</td>\n      <td>0</td>\n      <td>022-0170</td>\n      <td>1</td>\n      <td>100</td>\n      <td>2022-04-05</td>\n      <td>2022-05-30</td>\n      <td>0</td>\n      <td>0</td>\n      <td>2023-02-20</td>\n      <td>2</td>\n      <td>0.757576</td>\n      <td>334.0</td>\n      <td>2.0</td>\n      <td>1.0</td>\n      <td>55</td>\n    </tr>\n    <tr>\n      <th>...</th>\n      <td>...</td>\n      <td>...</td>\n      <td>...</td>\n      <td>...</td>\n      <td>...</td>\n      <td>...</td>\n      <td>...</td>\n      <td>...</td>\n      <td>...</td>\n      <td>...</td>\n      <td>...</td>\n      <td>...</td>\n      <td>...</td>\n      <td>...</td>\n      <td>...</td>\n      <td>...</td>\n    </tr>\n    <tr>\n      <th>996974</th>\n      <td>0</td>\n      <td>0</td>\n      <td>022-0170</td>\n      <td>7.4</td>\n      <td>0</td>\n      <td>2023-07-24</td>\n      <td>2023-07-31</td>\n      <td>0</td>\n      <td>0</td>\n      <td>2023-05-22</td>\n      <td>3</td>\n      <td>0.000000</td>\n      <td>489.0</td>\n      <td>2.0</td>\n      <td>1.0</td>\n      <td>7</td>\n    </tr>\n    <tr>\n      <th>1055369</th>\n      <td>0</td>\n      <td>0</td>\n      <td>022-0170</td>\n      <td>7.4</td>\n      <td>0</td>\n      <td>2023-07-24</td>\n      <td>2023-07-31</td>\n      <td>0</td>\n      <td>0</td>\n      <td>2023-05-29</td>\n      <td>3</td>\n      <td>0.000000</td>\n      <td>465.0</td>\n      <td>2.0</td>\n      <td>1.0</td>\n      <td>7</td>\n    </tr>\n    <tr>\n      <th>45766</th>\n      <td>0</td>\n      <td>0</td>\n      <td>022-0170</td>\n      <td>8</td>\n      <td>0</td>\n      <td>2024-04-23</td>\n      <td>2024-11-22</td>\n      <td>0</td>\n      <td>0</td>\n      <td>2023-01-17</td>\n      <td>2</td>\n      <td>0.000000</td>\n      <td>NaN</td>\n      <td>NaN</td>\n      <td>NaN</td>\n      <td>213</td>\n    </tr>\n    <tr>\n      <th>94454</th>\n      <td>0</td>\n      <td>0</td>\n      <td>022-0170</td>\n      <td>8</td>\n      <td>0</td>\n      <td>2024-05-01</td>\n      <td>2024-12-02</td>\n      <td>0</td>\n      <td>0</td>\n      <td>2023-01-23</td>\n      <td>2</td>\n      <td>0.000000</td>\n      <td>NaN</td>\n      <td>NaN</td>\n      <td>NaN</td>\n      <td>215</td>\n    </tr>\n    <tr>\n      <th>145342</th>\n      <td>0</td>\n      <td>0</td>\n      <td>022-0170</td>\n      <td>8</td>\n      <td>0</td>\n      <td>2023-07-31</td>\n      <td>2024-03-08</td>\n      <td>0</td>\n      <td>0</td>\n      <td>2023-02-06</td>\n      <td>3</td>\n      <td>0.000000</td>\n      <td>NaN</td>\n      <td>NaN</td>\n      <td>NaN</td>\n      <td>221</td>\n    </tr>\n  </tbody>\n</table>\n<p>516 rows × 16 columns</p>\n</div>"
     },
     "execution_count": 214,
     "metadata": {},
     "output_type": "execute_result"
    }
   ],
   "source": [
    "df[df['obj_key']== '022-0170'].sort_values(['obj_key', 'Кодзадачи', 'ПроцентЗавершенияЗадачи', 'date_report'])"
   ],
   "metadata": {
    "collapsed": false,
    "ExecuteTime": {
     "end_time": "2023-06-24T12:12:45.271839100Z",
     "start_time": "2023-06-24T12:12:45.197840200Z"
    }
   }
  },
  {
   "cell_type": "code",
   "execution_count": 215,
   "outputs": [
    {
     "name": "stderr",
     "output_type": "stream",
     "text": [
      "5260it [00:12, 437.56it/s]\n"
     ]
    },
    {
     "data": {
      "text/plain": "        obj_prg  obj_subprg   obj_key Кодзадачи  ПроцентЗавершенияЗадачи  \\\n8             0           1  017-0520         1                      100   \n47646         0           1  017-0520         1                      100   \n96335         0           1  017-0520         1                      100   \n665           0           1  017-0520     1.4.2                      100   \n48319         0           1  017-0520     1.4.2                      100   \n...         ...         ...       ...       ...                      ...   \n93800         1           3  022-0631       7.4                        0   \n144656        1           3  022-0631       7.4                        0   \n45747         1           3  022-0631         8                        0   \n94431         1           3  022-0631         8                        0   \n145328        1           3  022-0631         8                        0   \n\n       ДатаНачалаЗадачи ДатаОкончанияЗадачи  Статуспоэкспертизе  Экспертиза  \\\n8            2018-11-01          2022-02-15                   0           0   \n47646        2018-11-01          2022-02-15                   0           0   \n96335        2018-11-01          2022-02-15                   0           0   \n665          2021-12-15          2022-02-15                   0           0   \n48319        2021-12-15          2022-02-15                   0           0   \n...                 ...                 ...                 ...         ...   \n93800        2024-11-12          2024-11-30                   0           0   \n144656       2024-11-12          2024-11-30                   0           0   \n45747        2024-12-02          2025-07-11                   0           0   \n94431        2024-12-02          2025-07-11                   0           0   \n145328       2024-12-02          2025-07-11                   0           0   \n\n       date_report  season  Скорость  Кол-во рабочих  Генподрядчик  \\\n8       2023-01-17       4  0.757576             0.0           5.0   \n47646   2023-01-23       4  0.757576             0.0           5.0   \n96335   2023-02-06       4  0.757576             0.0           5.0   \n665     2023-01-17       1  0.757576             0.0           5.0   \n48319   2023-01-23       1  0.757576             0.0           5.0   \n...            ...     ...       ...             ...           ...   \n93800   2023-01-23       4  0.000000             0.0           2.0   \n144656  2023-02-06       4  0.000000             0.0           2.0   \n45747   2023-01-17       1  0.000000             0.0           2.0   \n94431   2023-01-23       1  0.000000             0.0           2.0   \n145328  2023-02-06       1  0.000000             0.0           2.0   \n\n        Генпроектировщик  Время на выполнение  \n8                    8.0                 1202  \n47646                8.0                 1202  \n96335                8.0                 1202  \n665                  8.0                   62  \n48319                8.0                   62  \n...                  ...                  ...  \n93800                0.0                   18  \n144656               0.0                   18  \n45747                0.0                  221  \n94431                0.0                  221  \n145328               0.0                  221  \n\n[5260 rows x 16 columns]",
      "text/html": "<div>\n<style scoped>\n    .dataframe tbody tr th:only-of-type {\n        vertical-align: middle;\n    }\n\n    .dataframe tbody tr th {\n        vertical-align: top;\n    }\n\n    .dataframe thead th {\n        text-align: right;\n    }\n</style>\n<table border=\"1\" class=\"dataframe\">\n  <thead>\n    <tr style=\"text-align: right;\">\n      <th></th>\n      <th>obj_prg</th>\n      <th>obj_subprg</th>\n      <th>obj_key</th>\n      <th>Кодзадачи</th>\n      <th>ПроцентЗавершенияЗадачи</th>\n      <th>ДатаНачалаЗадачи</th>\n      <th>ДатаОкончанияЗадачи</th>\n      <th>Статуспоэкспертизе</th>\n      <th>Экспертиза</th>\n      <th>date_report</th>\n      <th>season</th>\n      <th>Скорость</th>\n      <th>Кол-во рабочих</th>\n      <th>Генподрядчик</th>\n      <th>Генпроектировщик</th>\n      <th>Время на выполнение</th>\n    </tr>\n  </thead>\n  <tbody>\n    <tr>\n      <th>8</th>\n      <td>0</td>\n      <td>1</td>\n      <td>017-0520</td>\n      <td>1</td>\n      <td>100</td>\n      <td>2018-11-01</td>\n      <td>2022-02-15</td>\n      <td>0</td>\n      <td>0</td>\n      <td>2023-01-17</td>\n      <td>4</td>\n      <td>0.757576</td>\n      <td>0.0</td>\n      <td>5.0</td>\n      <td>8.0</td>\n      <td>1202</td>\n    </tr>\n    <tr>\n      <th>47646</th>\n      <td>0</td>\n      <td>1</td>\n      <td>017-0520</td>\n      <td>1</td>\n      <td>100</td>\n      <td>2018-11-01</td>\n      <td>2022-02-15</td>\n      <td>0</td>\n      <td>0</td>\n      <td>2023-01-23</td>\n      <td>4</td>\n      <td>0.757576</td>\n      <td>0.0</td>\n      <td>5.0</td>\n      <td>8.0</td>\n      <td>1202</td>\n    </tr>\n    <tr>\n      <th>96335</th>\n      <td>0</td>\n      <td>1</td>\n      <td>017-0520</td>\n      <td>1</td>\n      <td>100</td>\n      <td>2018-11-01</td>\n      <td>2022-02-15</td>\n      <td>0</td>\n      <td>0</td>\n      <td>2023-02-06</td>\n      <td>4</td>\n      <td>0.757576</td>\n      <td>0.0</td>\n      <td>5.0</td>\n      <td>8.0</td>\n      <td>1202</td>\n    </tr>\n    <tr>\n      <th>665</th>\n      <td>0</td>\n      <td>1</td>\n      <td>017-0520</td>\n      <td>1.4.2</td>\n      <td>100</td>\n      <td>2021-12-15</td>\n      <td>2022-02-15</td>\n      <td>0</td>\n      <td>0</td>\n      <td>2023-01-17</td>\n      <td>1</td>\n      <td>0.757576</td>\n      <td>0.0</td>\n      <td>5.0</td>\n      <td>8.0</td>\n      <td>62</td>\n    </tr>\n    <tr>\n      <th>48319</th>\n      <td>0</td>\n      <td>1</td>\n      <td>017-0520</td>\n      <td>1.4.2</td>\n      <td>100</td>\n      <td>2021-12-15</td>\n      <td>2022-02-15</td>\n      <td>0</td>\n      <td>0</td>\n      <td>2023-01-23</td>\n      <td>1</td>\n      <td>0.757576</td>\n      <td>0.0</td>\n      <td>5.0</td>\n      <td>8.0</td>\n      <td>62</td>\n    </tr>\n    <tr>\n      <th>...</th>\n      <td>...</td>\n      <td>...</td>\n      <td>...</td>\n      <td>...</td>\n      <td>...</td>\n      <td>...</td>\n      <td>...</td>\n      <td>...</td>\n      <td>...</td>\n      <td>...</td>\n      <td>...</td>\n      <td>...</td>\n      <td>...</td>\n      <td>...</td>\n      <td>...</td>\n      <td>...</td>\n    </tr>\n    <tr>\n      <th>93800</th>\n      <td>1</td>\n      <td>3</td>\n      <td>022-0631</td>\n      <td>7.4</td>\n      <td>0</td>\n      <td>2024-11-12</td>\n      <td>2024-11-30</td>\n      <td>0</td>\n      <td>0</td>\n      <td>2023-01-23</td>\n      <td>4</td>\n      <td>0.000000</td>\n      <td>0.0</td>\n      <td>2.0</td>\n      <td>0.0</td>\n      <td>18</td>\n    </tr>\n    <tr>\n      <th>144656</th>\n      <td>1</td>\n      <td>3</td>\n      <td>022-0631</td>\n      <td>7.4</td>\n      <td>0</td>\n      <td>2024-11-12</td>\n      <td>2024-11-30</td>\n      <td>0</td>\n      <td>0</td>\n      <td>2023-02-06</td>\n      <td>4</td>\n      <td>0.000000</td>\n      <td>0.0</td>\n      <td>2.0</td>\n      <td>0.0</td>\n      <td>18</td>\n    </tr>\n    <tr>\n      <th>45747</th>\n      <td>1</td>\n      <td>3</td>\n      <td>022-0631</td>\n      <td>8</td>\n      <td>0</td>\n      <td>2024-12-02</td>\n      <td>2025-07-11</td>\n      <td>0</td>\n      <td>0</td>\n      <td>2023-01-17</td>\n      <td>1</td>\n      <td>0.000000</td>\n      <td>0.0</td>\n      <td>2.0</td>\n      <td>0.0</td>\n      <td>221</td>\n    </tr>\n    <tr>\n      <th>94431</th>\n      <td>1</td>\n      <td>3</td>\n      <td>022-0631</td>\n      <td>8</td>\n      <td>0</td>\n      <td>2024-12-02</td>\n      <td>2025-07-11</td>\n      <td>0</td>\n      <td>0</td>\n      <td>2023-01-23</td>\n      <td>1</td>\n      <td>0.000000</td>\n      <td>0.0</td>\n      <td>2.0</td>\n      <td>0.0</td>\n      <td>221</td>\n    </tr>\n    <tr>\n      <th>145328</th>\n      <td>1</td>\n      <td>3</td>\n      <td>022-0631</td>\n      <td>8</td>\n      <td>0</td>\n      <td>2024-12-02</td>\n      <td>2025-07-11</td>\n      <td>0</td>\n      <td>0</td>\n      <td>2023-02-06</td>\n      <td>1</td>\n      <td>0.000000</td>\n      <td>0.0</td>\n      <td>2.0</td>\n      <td>0.0</td>\n      <td>221</td>\n    </tr>\n  </tbody>\n</table>\n<p>5260 rows × 16 columns</p>\n</div>"
     },
     "execution_count": 215,
     "metadata": {},
     "output_type": "execute_result"
    }
   ],
   "source": [
    "tst_df = df.loc[df['Кол-во рабочих'].isna()].sort_values(['obj_key', 'Кодзадачи', 'ПроцентЗавершенияЗадачи', 'date_report'])\n",
    "for i, row in tqdm(tst_df.iterrows()):\n",
    "    obj_key = row[2]\n",
    "    date_df = row[9]\n",
    "    dates = atts[atts['obj_key'] == obj_key]['date_report'].unique()\n",
    "    min_date = min(dates, key=lambda x: abs(x - date_df))\n",
    "    query = atts[(atts['obj_key'] == obj_key) & (atts['date_report'] == min_date)].head(1)\n",
    "    gen_pod = query['Генподрядчик'].values[0]\n",
    "    gen_proc = query['Генпроектировщик'].values[0]\n",
    "    rab = query['Кол-во рабочих'].values[0]\n",
    "    tst_df.at[i, 'Генподрядчик'] = gen_pod\n",
    "    tst_df.at[i, 'Генпроектировщик'] = gen_proc\n",
    "    tst_df.at[i, 'Кол-во рабочих'] = rab\n",
    "tst_df"
   ],
   "metadata": {
    "collapsed": false,
    "ExecuteTime": {
     "end_time": "2023-06-24T12:12:57.279932200Z",
     "start_time": "2023-06-24T12:12:45.229837900Z"
    }
   }
  },
  {
   "cell_type": "code",
   "execution_count": 216,
   "outputs": [
    {
     "data": {
      "text/plain": "         obj_prg  obj_subprg   obj_key Кодзадачи  ПроцентЗавершенияЗадачи  \\\n0              0           0  022-0527         1                        0   \n1              0           0  022-0354         1                        0   \n2              0           1  022-0513         1                        0   \n3              0           1  020-0684         1                        0   \n4              0           1  019-0589         1                        0   \n...          ...         ...       ...       ...                      ...   \n1055395        1           2  019-0477       7.4                       93   \n1056093        0           0  020-0710         8                        0   \n1056094        0           0  019-0675         8                        0   \n1056095        0           1  020-0712         8                        0   \n1056096        0           0  019-0429         8                        0   \n\n        ДатаНачалаЗадачи ДатаОкончанияЗадачи  Статуспоэкспертизе  Экспертиза  \\\n0             2022-01-14          2023-03-30                   0           0   \n1             2022-12-01          2023-07-27                   0           0   \n2             2023-01-23          2023-09-29                   0           0   \n3             2020-11-03          2022-02-01                   0           0   \n4             2020-11-03          2022-05-16                   0           0   \n...                  ...                 ...                 ...         ...   \n1055395       2020-04-28          2023-05-31                   0           0   \n1056093       2023-08-31          2024-04-10                   0           0   \n1056094       2023-09-01          2024-04-11                   0           0   \n1056095       2023-06-19          2024-01-26                   0           0   \n1056096       2024-05-30          2024-12-31                   0           0   \n\n        date_report  season  Скорость  Кол-во рабочих  Генподрядчик  \\\n0        2023-01-17       1  0.257576             0.0           0.0   \n1        2023-01-17       1  0.462121             0.0           0.0   \n2        2023-01-17       1  0.416667             0.0           0.0   \n3        2023-01-17       4  0.000000             0.0           2.0   \n4        2023-01-17       4  0.000000             0.0           2.0   \n...             ...     ...       ...             ...           ...   \n1055395  2023-05-29       2  0.704545             5.0          12.0   \n1056093  2023-05-29       3  0.000000           156.0           5.0   \n1056094  2023-05-29       4  0.000000           139.0          22.0   \n1056095  2023-05-29       2  0.000000            53.0           5.0   \n1056096  2023-05-29       2  0.000000           107.0           7.0   \n\n         Генпроектировщик  Время на выполнение  \n0                     0.0                  440  \n1                     0.0                  238  \n2                     0.0                  249  \n3                     1.0                  455  \n4                     1.0                  559  \n...                   ...                  ...  \n1055395              16.0                 1128  \n1056093               8.0                  223  \n1056094              33.0                  223  \n1056095               8.0                  221  \n1056096              11.0                  215  \n\n[35201 rows x 16 columns]",
      "text/html": "<div>\n<style scoped>\n    .dataframe tbody tr th:only-of-type {\n        vertical-align: middle;\n    }\n\n    .dataframe tbody tr th {\n        vertical-align: top;\n    }\n\n    .dataframe thead th {\n        text-align: right;\n    }\n</style>\n<table border=\"1\" class=\"dataframe\">\n  <thead>\n    <tr style=\"text-align: right;\">\n      <th></th>\n      <th>obj_prg</th>\n      <th>obj_subprg</th>\n      <th>obj_key</th>\n      <th>Кодзадачи</th>\n      <th>ПроцентЗавершенияЗадачи</th>\n      <th>ДатаНачалаЗадачи</th>\n      <th>ДатаОкончанияЗадачи</th>\n      <th>Статуспоэкспертизе</th>\n      <th>Экспертиза</th>\n      <th>date_report</th>\n      <th>season</th>\n      <th>Скорость</th>\n      <th>Кол-во рабочих</th>\n      <th>Генподрядчик</th>\n      <th>Генпроектировщик</th>\n      <th>Время на выполнение</th>\n    </tr>\n  </thead>\n  <tbody>\n    <tr>\n      <th>0</th>\n      <td>0</td>\n      <td>0</td>\n      <td>022-0527</td>\n      <td>1</td>\n      <td>0</td>\n      <td>2022-01-14</td>\n      <td>2023-03-30</td>\n      <td>0</td>\n      <td>0</td>\n      <td>2023-01-17</td>\n      <td>1</td>\n      <td>0.257576</td>\n      <td>0.0</td>\n      <td>0.0</td>\n      <td>0.0</td>\n      <td>440</td>\n    </tr>\n    <tr>\n      <th>1</th>\n      <td>0</td>\n      <td>0</td>\n      <td>022-0354</td>\n      <td>1</td>\n      <td>0</td>\n      <td>2022-12-01</td>\n      <td>2023-07-27</td>\n      <td>0</td>\n      <td>0</td>\n      <td>2023-01-17</td>\n      <td>1</td>\n      <td>0.462121</td>\n      <td>0.0</td>\n      <td>0.0</td>\n      <td>0.0</td>\n      <td>238</td>\n    </tr>\n    <tr>\n      <th>2</th>\n      <td>0</td>\n      <td>1</td>\n      <td>022-0513</td>\n      <td>1</td>\n      <td>0</td>\n      <td>2023-01-23</td>\n      <td>2023-09-29</td>\n      <td>0</td>\n      <td>0</td>\n      <td>2023-01-17</td>\n      <td>1</td>\n      <td>0.416667</td>\n      <td>0.0</td>\n      <td>0.0</td>\n      <td>0.0</td>\n      <td>249</td>\n    </tr>\n    <tr>\n      <th>3</th>\n      <td>0</td>\n      <td>1</td>\n      <td>020-0684</td>\n      <td>1</td>\n      <td>0</td>\n      <td>2020-11-03</td>\n      <td>2022-02-01</td>\n      <td>0</td>\n      <td>0</td>\n      <td>2023-01-17</td>\n      <td>4</td>\n      <td>0.000000</td>\n      <td>0.0</td>\n      <td>2.0</td>\n      <td>1.0</td>\n      <td>455</td>\n    </tr>\n    <tr>\n      <th>4</th>\n      <td>0</td>\n      <td>1</td>\n      <td>019-0589</td>\n      <td>1</td>\n      <td>0</td>\n      <td>2020-11-03</td>\n      <td>2022-05-16</td>\n      <td>0</td>\n      <td>0</td>\n      <td>2023-01-17</td>\n      <td>4</td>\n      <td>0.000000</td>\n      <td>0.0</td>\n      <td>2.0</td>\n      <td>1.0</td>\n      <td>559</td>\n    </tr>\n    <tr>\n      <th>...</th>\n      <td>...</td>\n      <td>...</td>\n      <td>...</td>\n      <td>...</td>\n      <td>...</td>\n      <td>...</td>\n      <td>...</td>\n      <td>...</td>\n      <td>...</td>\n      <td>...</td>\n      <td>...</td>\n      <td>...</td>\n      <td>...</td>\n      <td>...</td>\n      <td>...</td>\n      <td>...</td>\n    </tr>\n    <tr>\n      <th>1055395</th>\n      <td>1</td>\n      <td>2</td>\n      <td>019-0477</td>\n      <td>7.4</td>\n      <td>93</td>\n      <td>2020-04-28</td>\n      <td>2023-05-31</td>\n      <td>0</td>\n      <td>0</td>\n      <td>2023-05-29</td>\n      <td>2</td>\n      <td>0.704545</td>\n      <td>5.0</td>\n      <td>12.0</td>\n      <td>16.0</td>\n      <td>1128</td>\n    </tr>\n    <tr>\n      <th>1056093</th>\n      <td>0</td>\n      <td>0</td>\n      <td>020-0710</td>\n      <td>8</td>\n      <td>0</td>\n      <td>2023-08-31</td>\n      <td>2024-04-10</td>\n      <td>0</td>\n      <td>0</td>\n      <td>2023-05-29</td>\n      <td>3</td>\n      <td>0.000000</td>\n      <td>156.0</td>\n      <td>5.0</td>\n      <td>8.0</td>\n      <td>223</td>\n    </tr>\n    <tr>\n      <th>1056094</th>\n      <td>0</td>\n      <td>0</td>\n      <td>019-0675</td>\n      <td>8</td>\n      <td>0</td>\n      <td>2023-09-01</td>\n      <td>2024-04-11</td>\n      <td>0</td>\n      <td>0</td>\n      <td>2023-05-29</td>\n      <td>4</td>\n      <td>0.000000</td>\n      <td>139.0</td>\n      <td>22.0</td>\n      <td>33.0</td>\n      <td>223</td>\n    </tr>\n    <tr>\n      <th>1056095</th>\n      <td>0</td>\n      <td>1</td>\n      <td>020-0712</td>\n      <td>8</td>\n      <td>0</td>\n      <td>2023-06-19</td>\n      <td>2024-01-26</td>\n      <td>0</td>\n      <td>0</td>\n      <td>2023-05-29</td>\n      <td>2</td>\n      <td>0.000000</td>\n      <td>53.0</td>\n      <td>5.0</td>\n      <td>8.0</td>\n      <td>221</td>\n    </tr>\n    <tr>\n      <th>1056096</th>\n      <td>0</td>\n      <td>0</td>\n      <td>019-0429</td>\n      <td>8</td>\n      <td>0</td>\n      <td>2024-05-30</td>\n      <td>2024-12-31</td>\n      <td>0</td>\n      <td>0</td>\n      <td>2023-05-29</td>\n      <td>2</td>\n      <td>0.000000</td>\n      <td>107.0</td>\n      <td>7.0</td>\n      <td>11.0</td>\n      <td>215</td>\n    </tr>\n  </tbody>\n</table>\n<p>35201 rows × 16 columns</p>\n</div>"
     },
     "execution_count": 216,
     "metadata": {},
     "output_type": "execute_result"
    }
   ],
   "source": [
    "df.update(tst_df[['Генподрядчик', 'Генпроектировщик', 'Кол-во рабочих']])\n",
    "df"
   ],
   "metadata": {
    "collapsed": false,
    "ExecuteTime": {
     "end_time": "2023-06-24T12:12:57.371928700Z",
     "start_time": "2023-06-24T12:12:57.281932100Z"
    }
   }
  },
  {
   "cell_type": "code",
   "execution_count": 217,
   "outputs": [],
   "source": [
    "df.to_csv(\"files\\\\pred_final.csv\", index=False)"
   ],
   "metadata": {
    "collapsed": false,
    "ExecuteTime": {
     "end_time": "2023-06-24T12:12:57.570929300Z",
     "start_time": "2023-06-24T12:12:57.310930Z"
    }
   }
  }
 ],
 "metadata": {
  "kernelspec": {
   "display_name": "Python 3",
   "language": "python",
   "name": "python3"
  },
  "language_info": {
   "codemirror_mode": {
    "name": "ipython",
    "version": 2
   },
   "file_extension": ".py",
   "mimetype": "text/x-python",
   "name": "python",
   "nbconvert_exporter": "python",
   "pygments_lexer": "ipython2",
   "version": "2.7.6"
  }
 },
 "nbformat": 4,
 "nbformat_minor": 0
}
