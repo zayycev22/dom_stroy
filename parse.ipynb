{
 "cells": [
  {
   "cell_type": "code",
   "execution_count": null,
   "metadata": {
    "collapsed": true
   },
   "outputs": [],
   "source": [
    "import numpy as np\n",
    "import pandas as pd\n",
    "import bisect\n",
    "from numpy import datetime64\n",
    "import warnings\n",
    "\n",
    "warnings.filterwarnings('ignore')"
   ]
  },
  {
   "cell_type": "code",
   "execution_count": null,
   "outputs": [],
   "source": [
    "def get_season(date: datetime64) -> int:\n",
    "    x = date.month\n",
    "    if x == 12:\n",
    "        return 1\n",
    "    return bisect.bisect_left([1, 6, 8, 11], x) + 1"
   ],
   "metadata": {
    "collapsed": false
   }
  },
  {
   "cell_type": "code",
   "execution_count": null,
   "outputs": [],
   "source": [
    "df = pd.read_csv('files\\\\main_kgs.csv')\n",
    "df"
   ],
   "metadata": {
    "collapsed": false
   }
  },
  {
   "cell_type": "code",
   "execution_count": null,
   "outputs": [],
   "source": [
    "df.dtypes"
   ],
   "metadata": {
    "collapsed": false
   }
  },
  {
   "cell_type": "code",
   "execution_count": null,
   "outputs": [],
   "source": [
    "keys = df['obj_key'].unique()"
   ],
   "metadata": {
    "collapsed": false
   }
  },
  {
   "cell_type": "code",
   "execution_count": null,
   "outputs": [],
   "source": [
    "df['ДатаначалаБП0'].fillna(df['ДатаНачалаЗадачи'], inplace=True)\n",
    "df['ДатаокончанияБП0'].fillna(df['ДатаОкончанияЗадачи'], inplace=True)\n",
    "df"
   ],
   "metadata": {
    "collapsed": false
   }
  },
  {
   "cell_type": "code",
   "execution_count": null,
   "outputs": [],
   "source": [
    "exs = df['Экспертиза'].unique()\n",
    "\n",
    "d_exs = {exs[i]: i for i in range(len(exs))}\n",
    "d_exs"
   ],
   "metadata": {
    "collapsed": false
   }
  },
  {
   "cell_type": "code",
   "execution_count": null,
   "outputs": [],
   "source": [
    "df['Статуспоэкспертизе'].fillna(0, inplace=True)\n",
    "df['Экспертиза'] = df['Экспертиза'].map(d_exs)\n",
    "df"
   ],
   "metadata": {
    "collapsed": false
   }
  },
  {
   "cell_type": "code",
   "execution_count": null,
   "outputs": [],
   "source": [
    "df['Статуспоэкспертизе'] = df['Статуспоэкспертизе'].astype(int)"
   ],
   "metadata": {
    "collapsed": false
   }
  },
  {
   "cell_type": "code",
   "execution_count": null,
   "outputs": [],
   "source": [
    "df['ПроцентЗавершенияЗадачи'].fillna(0, inplace=True)\n",
    "df['ПроцентЗавершенияЗадачи'] = df['ПроцентЗавершенияЗадачи'].astype(int)\n",
    "df"
   ],
   "metadata": {
    "collapsed": false
   }
  },
  {
   "cell_type": "code",
   "execution_count": null,
   "outputs": [],
   "source": [
    "atts = pd.read_csv(\"files\\\\attributes.csv\")\n",
    "atts['date_report'] = pd.to_datetime(atts['date_report'])"
   ],
   "metadata": {
    "collapsed": false
   }
  },
  {
   "cell_type": "code",
   "execution_count": null,
   "outputs": [],
   "source": [
    "len(df)"
   ],
   "metadata": {
    "collapsed": false
   }
  },
  {
   "cell_type": "code",
   "execution_count": null,
   "outputs": [],
   "source": [
    "df.drop_duplicates(inplace=True)\n",
    "len(df)"
   ],
   "metadata": {
    "collapsed": false
   }
  },
  {
   "cell_type": "code",
   "execution_count": null,
   "outputs": [],
   "source": [
    "df['ДатаНачалаЗадачи'] = pd.to_datetime(df['ДатаНачалаЗадачи'])\n",
    "df['ДатаОкончанияЗадачи'] = pd.to_datetime(df['ДатаОкончанияЗадачи'])\n",
    "df['ДатаначалаБП0'] = pd.to_datetime(df['ДатаначалаБП0'])\n",
    "df['ДатаокончанияБП0'] = pd.to_datetime(df['ДатаокончанияБП0'])\n",
    "df['date_report'] = pd.to_datetime(df['date_report'])"
   ],
   "metadata": {
    "collapsed": false
   }
  },
  {
   "cell_type": "code",
   "execution_count": null,
   "outputs": [],
   "source": [
    "main_keys = ['1', '1.4.2', '3', '3.1', '3.3', '3.8', '3.11', '3.13', '3.15', '4', '4.1.1', '4.2', '4.3', '4.4', '4.5',\n",
    "             '4.6', '4.7', '4.8', '4.9', '4.10', '4.11', '4.12', '5', '5.11', '7.1', '7.1.8', '7.4', '8']\n",
    "df"
   ],
   "metadata": {
    "collapsed": false
   }
  },
  {
   "cell_type": "code",
   "execution_count": null,
   "outputs": [],
   "source": [
    "df = df[df['Кодзадачи'].isin(main_keys)]"
   ],
   "metadata": {
    "collapsed": false
   }
  },
  {
   "cell_type": "code",
   "execution_count": null,
   "outputs": [],
   "source": [
    "df['season'] = df['ДатаНачалаЗадачи'].apply(get_season)\n",
    "df"
   ],
   "metadata": {
    "collapsed": false
   }
  },
  {
   "cell_type": "code",
   "execution_count": null,
   "outputs": [],
   "source": [
    "columns = ['obj_key', 'Кодзадачи', \"ДатаНачалаЗадачи\", \"ДатаОкончания задачи\", 'ПроцентЗавершенияЗадачи', 'obj_prg',\n",
    "           'obj_subprg', 'ДатаначалаБП0', 'ДатаокончанияБП0', 'Статуспоэкспертизе', 'Экспертиза',\n",
    "           'season', \"Сдвиг\", ]\n",
    "\n",
    "# Create an empty DataFrame with columns\n",
    "df2 = pd.DataFrame(columns=columns)\n",
    "from tqdm import tqdm\n",
    "\n",
    "# Iterate over rows and append data\n",
    "for key in tqdm(keys):\n",
    "    codes = df[df['obj_key'] == key]['Кодзадачи'].unique()\n",
    "    codes.sort()\n",
    "    for code in codes:\n",
    "        result = df[(df['obj_key'] == key) & (df['Кодзадачи'] == code)].sort_values(\n",
    "            ['ПроцентЗавершенияЗадачи', 'date_report'])\n",
    "        if not result.empty:\n",
    "            first_line = result.head(1)\n",
    "            last_line = result.tail(1)\n",
    "\n",
    "            start_date = first_line['ДатаНачалаЗадачи'].values[0]\n",
    "            end_date = last_line['ДатаОкончанияЗадачи'].values[0]\n",
    "            task_ready = last_line['ПроцентЗавершенияЗадачи'].values[0]\n",
    "            days_difference = (end_date - start_date) / np.timedelta64(1, 'D')\n",
    "            obj_prg = first_line['obj_prg'].values[0]\n",
    "            obj_subprg = first_line['obj_subprg'].values[0]\n",
    "            start_bpo = first_line['ДатаначалаБП0'].values[0]\n",
    "            end_bpo = last_line['ДатаокончанияБП0'].values[0]\n",
    "            status_exp = last_line['Статуспоэкспертизе'].values[0]\n",
    "            exp = last_line['Экспертиза'].values[0]\n",
    "            season = first_line['season'].values[0]\n",
    "            row_data = [key, code, start_date, end_date, task_ready, obj_prg, obj_subprg, start_bpo, end_bpo, status_exp, exp, season, abs(days_difference)] # abs(days_difference)\n",
    "            df2 = df2.append(pd.Series(row_data, index=columns), ignore_index=True)\n",
    "        else:\n",
    "            print(key, code)\n",
    "# Print the resulting DataFrame\n",
    "df2"
   ],
   "metadata": {
    "collapsed": false
   }
  },
  {
   "cell_type": "code",
   "execution_count": null,
   "outputs": [],
   "source": [
    "df2['Сдвиг'].replace({0.0: 1}, inplace=True)\n",
    "df2['Сдвиг'] = df2['Сдвиг'].astype(int)\n",
    "df2['Скорость'] = df2['ПроцентЗавершенияЗадачи'] / df2['Сдвиг']\n",
    "df2"
   ],
   "metadata": {
    "collapsed": false
   }
  },
  {
   "cell_type": "code",
   "execution_count": null,
   "outputs": [],
   "source": [
    "df['Скорость'] = 0\n",
    "keys = df['obj_key'].unique()\n",
    "for key in tqdm(keys):\n",
    "    codes = df[df['obj_key'] == key]['Кодзадачи'].unique()\n",
    "    codes.sort()\n",
    "    for code in codes:\n",
    "        speed = df2[(df2['obj_key'] == key) & (df2['Кодзадачи'] == code)].head(1)['Скорость'].values[0]\n",
    "        df.loc[(df['obj_key'] == key) & (df['Кодзадачи'] == code), 'Скорость'] = speed\n",
    "df"
   ],
   "metadata": {
    "collapsed": false
   }
  },
  {
   "cell_type": "code",
   "execution_count": null,
   "outputs": [],
   "source": [
    "atts['Площадь'].fillna(0, inplace=True)\n",
    "atts['Кол-во рабочих'].fillna(0, inplace=True)\n",
    "atts"
   ],
   "metadata": {
    "collapsed": false
   }
  },
  {
   "cell_type": "code",
   "execution_count": null,
   "outputs": [],
   "source": [
    "df['Кол-во рабочих'] = np.nan\n",
    "df['Генподрядчик'] = np.nan\n",
    "df['Генпроектировщик'] = np.nan"
   ],
   "metadata": {
    "collapsed": false
   }
  },
  {
   "cell_type": "code",
   "execution_count": null,
   "outputs": [],
   "source": [
    "for key in tqdm(keys):\n",
    "    dates = atts[atts['obj_key'] == key]['date_report'].unique()\n",
    "    dates.sort()\n",
    "    for date in dates:\n",
    "        query = atts[(atts['obj_key'] == key) & (atts['date_report'] == date)]\n",
    "        if not query.empty:\n",
    "            rab = query.head(1)['Кол-во рабочих'].values[0]\n",
    "            gen_pod = query.head(1)['Генподрядчик'].values[0]\n",
    "            gen_proc = query.head(1)['Генпроектировщик'].values[0]\n",
    "            mask = (df['obj_key'] == key) & (df['date_report'] == date)\n",
    "            df.loc[mask, 'Кол-во рабочих'] = rab\n",
    "            df.loc[mask, 'Генподрядчик'] = gen_pod\n",
    "            df.loc[mask, 'Генпроектировщик'] = gen_proc\n",
    "        else:\n",
    "            print(\"skip\")\n",
    "df"
   ],
   "metadata": {
    "collapsed": false
   }
  },
  {
   "cell_type": "code",
   "execution_count": null,
   "outputs": [],
   "source": [
    "df['Кол-во рабочих'].value_counts()"
   ],
   "metadata": {
    "collapsed": false
   }
  },
  {
   "cell_type": "code",
   "execution_count": null,
   "outputs": [],
   "source": [
    "df[df['obj_key'] == '022-0170']"
   ],
   "metadata": {
    "collapsed": false
   }
  },
  {
   "cell_type": "code",
   "execution_count": null,
   "outputs": [],
   "source": [
    "len(df)"
   ],
   "metadata": {
    "collapsed": false
   }
  },
  {
   "cell_type": "code",
   "execution_count": null,
   "outputs": [],
   "source": [
    "obj_prg_ex = df['obj_prg'].unique()\n",
    "obj_subprg_ex = df['obj_subprg'].unique()\n",
    "obj_subprg_ex_d = {obj_subprg_ex[i]: i for i in range(len(obj_subprg_ex))}\n",
    "obj_prg_ex_d = {obj_prg_ex[i]: i for i in range(len(obj_prg_ex))}\n",
    "df['obj_prg'] = df['obj_prg'].map(obj_prg_ex_d)\n",
    "df['obj_subprg'] = df['obj_subprg'].map(obj_subprg_ex_d)"
   ],
   "metadata": {
    "collapsed": false
   }
  },
  {
   "cell_type": "code",
   "execution_count": null,
   "outputs": [],
   "source": [
    "df.drop(['ДатаначалаБП0', 'ДатаокончанияБП0'], axis=1, inplace=True)\n",
    "df"
   ],
   "metadata": {
    "collapsed": false
   }
  },
  {
   "cell_type": "code",
   "execution_count": null,
   "outputs": [],
   "source": [
    "df['Время на выполнение'] = abs((df['ДатаНачалаЗадачи'] - df['ДатаОкончанияЗадачи']).dt.days)\n",
    "df"
   ],
   "metadata": {
    "collapsed": false
   }
  },
  {
   "cell_type": "code",
   "execution_count": null,
   "outputs": [],
   "source": [
    "obj_prg_ex_d"
   ],
   "metadata": {
    "collapsed": false
   }
  },
  {
   "cell_type": "code",
   "execution_count": null,
   "outputs": [],
   "source": [
    "df.dtypes"
   ],
   "metadata": {
    "collapsed": false
   }
  },
  {
   "cell_type": "code",
   "execution_count": null,
   "outputs": [],
   "source": [
    "df.sort_values(['obj_key', 'Кодзадачи', 'ПроцентЗавершенияЗадачи', 'date_report']).values"
   ],
   "metadata": {
    "collapsed": false
   }
  },
  {
   "cell_type": "code",
   "execution_count": null,
   "outputs": [],
   "source": [
    "df[df['obj_key']== '022-0170'].sort_values(['obj_key', 'Кодзадачи', 'ПроцентЗавершенияЗадачи', 'date_report'])"
   ],
   "metadata": {
    "collapsed": false
   }
  },
  {
   "cell_type": "code",
   "execution_count": null,
   "outputs": [],
   "source": [
    "tst_df = df.loc[df['Кол-во рабочих'].isna()].sort_values(['obj_key', 'Кодзадачи', 'ПроцентЗавершенияЗадачи', 'date_report'])\n",
    "for i, row in tqdm(tst_df.iterrows()):\n",
    "    obj_key = row[2]\n",
    "    date_df = row[9]\n",
    "    dates = atts[atts['obj_key'] == obj_key]['date_report'].unique()\n",
    "    min_date = min(dates, key=lambda x: abs(x - date_df))\n",
    "    query = atts[(atts['obj_key'] == obj_key) & (atts['date_report'] == min_date)].head(1)\n",
    "    gen_pod = query['Генподрядчик'].values[0]\n",
    "    gen_proc = query['Генпроектировщик'].values[0]\n",
    "    rab = query['Кол-во рабочих'].values[0]\n",
    "    tst_df.at[i, 'Генподрядчик'] = gen_pod\n",
    "    tst_df.at[i, 'Генпроектировщик'] = gen_proc\n",
    "    tst_df.at[i, 'Кол-во рабочих'] = rab\n",
    "tst_df"
   ],
   "metadata": {
    "collapsed": false
   }
  },
  {
   "cell_type": "code",
   "execution_count": null,
   "outputs": [],
   "source": [
    "df.update(tst_df[['Генподрядчик', 'Генпроектировщик', 'Кол-во рабочих']])\n",
    "df"
   ],
   "metadata": {
    "collapsed": false
   }
  },
  {
   "cell_type": "code",
   "execution_count": null,
   "outputs": [],
   "source": [
    "df.to_csv(\"files\\\\pred_final.csv\", index=False)"
   ],
   "metadata": {
    "collapsed": false
   }
  }
 ],
 "metadata": {
  "kernelspec": {
   "display_name": "Python 3",
   "language": "python",
   "name": "python3"
  },
  "language_info": {
   "codemirror_mode": {
    "name": "ipython",
    "version": 2
   },
   "file_extension": ".py",
   "mimetype": "text/x-python",
   "name": "python",
   "nbconvert_exporter": "python",
   "pygments_lexer": "ipython2",
   "version": "2.7.6"
  }
 },
 "nbformat": 4,
 "nbformat_minor": 0
}
