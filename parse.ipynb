{
 "cells": [
  {
   "cell_type": "code",
   "execution_count": null,
   "metadata": {
    "collapsed": true
   },
   "outputs": [],
   "source": [
    "import numpy as np\n",
    "import pandas as pd\n",
    "import bisect\n",
    "from numpy import datetime64\n",
    "import warnings\n",
    "\n",
    "warnings.filterwarnings('ignore')"
   ]
  },
  {
   "cell_type": "code",
   "execution_count": null,
   "outputs": [],
   "source": [
    "def get_season(date: datetime64) -> int:\n",
    "    x = date.month\n",
    "    if x == 12:\n",
    "        return 1\n",
    "    return bisect.bisect_left([1, 6, 8, 11], x) + 1"
   ],
   "metadata": {
    "collapsed": false
   }
  },
  {
   "cell_type": "code",
   "execution_count": null,
   "outputs": [],
   "source": [
    "df = pd.read_csv('files\\\\main_kgs.csv')\n",
    "df"
   ],
   "metadata": {
    "collapsed": false
   }
  },
  {
   "cell_type": "code",
   "execution_count": null,
   "outputs": [],
   "source": [
    "df.dtypes"
   ],
   "metadata": {
    "collapsed": false
   }
  },
  {
   "cell_type": "code",
   "execution_count": null,
   "outputs": [],
   "source": [
    "keys = df['obj_key'].unique()"
   ],
   "metadata": {
    "collapsed": false
   }
  },
  {
   "cell_type": "code",
   "execution_count": null,
   "outputs": [],
   "source": [
    "df['ДатаначалаБП0'].fillna(df['ДатаНачалаЗадачи'], inplace=True)\n",
    "df['ДатаокончанияБП0'].fillna(df['ДатаОкончанияЗадачи'], inplace=True)\n",
    "df"
   ],
   "metadata": {
    "collapsed": false
   }
  },
  {
   "cell_type": "code",
   "execution_count": null,
   "outputs": [],
   "source": [
    "exs = df['Экспертиза'].unique()\n",
    "\n",
    "d_exs = {exs[i]: i for i in range(len(exs))}\n",
    "d_exs"
   ],
   "metadata": {
    "collapsed": false
   }
  },
  {
   "cell_type": "code",
   "execution_count": null,
   "outputs": [],
   "source": [
    "df['Статуспоэкспертизе'].fillna(0, inplace=True)\n",
    "df['Экспертиза'] = df['Экспертиза'].map(d_exs)\n",
    "df"
   ],
   "metadata": {
    "collapsed": false
   }
  },
  {
   "cell_type": "code",
   "execution_count": null,
   "outputs": [],
   "source": [
    "df['Статуспоэкспертизе'] = df['Статуспоэкспертизе'].astype(int)"
   ],
   "metadata": {
    "collapsed": false
   }
  },
  {
   "cell_type": "code",
   "execution_count": null,
   "outputs": [],
   "source": [
    "df['ПроцентЗавершенияЗадачи'].fillna(0, inplace=True)\n",
    "df['ПроцентЗавершенияЗадачи'] = df['ПроцентЗавершенияЗадачи'].astype(int)\n",
    "df"
   ],
   "metadata": {
    "collapsed": false
   }
  },
  {
   "cell_type": "code",
   "execution_count": null,
   "outputs": [],
   "source": [
    "atts = pd.read_csv(\"files\\\\attributes.csv\")\n",
    "atts['date_report'] = pd.to_datetime(atts['date_report'])"
   ],
   "metadata": {
    "collapsed": false
   }
  },
  {
   "cell_type": "code",
   "execution_count": null,
   "outputs": [],
   "source": [
    "len(df)"
   ],
   "metadata": {
    "collapsed": false
   }
  },
  {
   "cell_type": "code",
   "execution_count": null,
   "outputs": [],
   "source": [
    "df.drop_duplicates(inplace=True)\n",
    "len(df)"
   ],
   "metadata": {
    "collapsed": false
   }
  },
  {
   "cell_type": "code",
   "execution_count": null,
   "outputs": [],
   "source": [
    "df['ДатаНачалаЗадачи'] = pd.to_datetime(df['ДатаНачалаЗадачи'])\n",
    "df['ДатаОкончанияЗадачи'] = pd.to_datetime(df['ДатаОкончанияЗадачи'])\n",
    "df['ДатаначалаБП0'] = pd.to_datetime(df['ДатаначалаБП0'])\n",
    "df['ДатаокончанияБП0'] = pd.to_datetime(df['ДатаокончанияБП0'])\n",
    "df['date_report'] = pd.to_datetime(df['date_report'])"
   ],
   "metadata": {
    "collapsed": false
   }
  },
  {
   "cell_type": "code",
   "execution_count": null,
   "outputs": [],
   "source": [
    "main_keys = ['1', '1.4.2', '3', '3.1', '3.3', '3.8', '3.11', '3.13', '3.15', '4', '4.1.1', '4.2', '4.3', '4.4', '4.5',\n",
    "             '4.6', '4.7', '4.8', '4.9', '4.10', '4.11', '4.12', '5', '5.11', '7.1', '7.1.8', '7.4', '8']\n",
    "df"
   ],
   "metadata": {
    "collapsed": false
   }
  },
  {
   "cell_type": "code",
   "execution_count": null,
   "outputs": [],
   "source": [
    "df = df[df['Кодзадачи'].isin(main_keys)]"
   ],
   "metadata": {
    "collapsed": false
   }
  },
  {
   "cell_type": "code",
   "execution_count": null,
   "outputs": [],
   "source": [
    "df['season'] = df['ДатаНачалаЗадачи'].apply(get_season)\n",
    "df"
   ],
   "metadata": {
    "collapsed": false
   }
  },
  {
   "cell_type": "code",
   "execution_count": null,
   "outputs": [],
   "source": [
    "columns = ['obj_key', 'Кодзадачи', \"ДатаНачалаЗадачи\", \"ДатаОкончания задачи\", 'ПроцентЗавершенияЗадачи', 'obj_prg',\n",
    "           'obj_subprg', 'ДатаначалаБП0', 'ДатаокончанияБП0', 'Статуспоэкспертизе', 'Экспертиза',\n",
    "           'season', \"Сдвиг\", ]\n",
    "\n",
    "# Create an empty DataFrame with columns\n",
    "df2 = pd.DataFrame(columns=columns)\n",
    "from tqdm import tqdm\n",
    "\n",
    "# Iterate over rows and append data\n",
    "for key in tqdm(keys):\n",
    "    codes = df[df['obj_key'] == key]['Кодзадачи'].unique()\n",
    "    codes.sort()\n",
    "    for code in codes:\n",
    "        result = df[(df['obj_key'] == key) & (df['Кодзадачи'] == code)].sort_values(\n",
    "            ['ПроцентЗавершенияЗадачи', 'date_report'])\n",
    "        if not result.empty:\n",
    "            first_line = result.head(1)\n",
    "            last_line = result.tail(1)\n",
    "\n",
    "            start_date = first_line['date_report'].values[0]\n",
    "            end_date = last_line['date_report'].values[0]\n",
    "            task_ready = last_line['ПроцентЗавершенияЗадачи'].values[0]\n",
    "            days_difference = (end_date - start_date) / np.timedelta64(1, 'D')\n",
    "            obj_prg = first_line['obj_prg'].values[0]\n",
    "            obj_subprg = first_line['obj_subprg'].values[0]\n",
    "            start_bpo = first_line['ДатаначалаБП0'].values[0]\n",
    "            end_bpo = last_line['ДатаокончанияБП0'].values[0]\n",
    "            status_exp = last_line['Статуспоэкспертизе'].values[0]\n",
    "            exp = last_line['Экспертиза'].values[0]\n",
    "            season = first_line['season'].values[0]\n",
    "            row_data = [key, code, start_date, end_date, task_ready, obj_prg, obj_subprg, start_bpo, end_bpo, status_exp, exp, season, abs(days_difference)] # abs(days_difference)\n",
    "            df2 = df2.append(pd.Series(row_data, index=columns), ignore_index=True)\n",
    "        else:\n",
    "            print(key, code)\n",
    "# Print the resulting DataFrame\n",
    "df2"
   ],
   "metadata": {
    "collapsed": false
   }
  },
  {
   "cell_type": "code",
   "execution_count": null,
   "outputs": [],
   "source": [
    "df2['Сдвиг'].replace({0.0: 1}, inplace=True)\n",
    "df2['Сдвиг'] = df2['Сдвиг'].astype(int)\n",
    "df2['Скорость'] = df2['ПроцентЗавершенияЗадачи'] / df2['Сдвиг']\n",
    "df2"
   ],
   "metadata": {
    "collapsed": false
   }
  },
  {
   "cell_type": "code",
   "execution_count": null,
   "outputs": [],
   "source": [
    "df['Скорость'] = 0\n",
    "keys = df['obj_key'].unique()\n",
    "for key in tqdm(keys):\n",
    "    codes = df[df['obj_key'] == key]['Кодзадачи'].unique()\n",
    "    codes.sort()\n",
    "    for code in codes:\n",
    "        speed = df2[(df2['obj_key'] == key) & (df2['Кодзадачи'] == code)].head(1)['Скорость'].values[0]\n",
    "        df.loc[(df['obj_key'] == key) & (df['Кодзадачи'] == code), 'Скорость'] = speed\n",
    "df"
   ],
   "metadata": {
    "collapsed": false
   }
  },
  {
   "cell_type": "code",
   "execution_count": null,
   "outputs": [],
   "source": [
    "atts['Площадь'].fillna(0, inplace=True)\n",
    "atts['Кол-во рабочих'].fillna(0, inplace=True)\n",
    "atts"
   ],
   "metadata": {
    "collapsed": false
   }
  },
  {
   "cell_type": "code",
   "execution_count": null,
   "outputs": [],
   "source": [
    "df['Кол-во рабочих'] = np.nan\n",
    "df['Генподрядчик'] = np.nan\n",
    "df['Генпроектировщик'] = np.nan"
   ],
   "metadata": {
    "collapsed": false
   }
  },
  {
   "cell_type": "code",
   "execution_count": null,
   "outputs": [],
   "source": [
    "for key in tqdm(keys):\n",
    "    dates = atts[atts['obj_key'] == key]['date_report'].unique()\n",
    "    dates.sort()\n",
    "    for date in dates:\n",
    "        query = atts[(atts['obj_key'] == key) & (atts['date_report'] == date)]\n",
    "        if not query.empty:\n",
    "            rab = query.head(1)['Кол-во рабочих'].values[0]\n",
    "            gen_pod = query.head(1)['Генподрядчик'].values[0]\n",
    "            gen_proc = query.head(1)['Генпроектировщик'].values[0]\n",
    "            mask = (df['obj_key'] == key) & (df['date_report'] == date)\n",
    "            df.loc[mask, 'Кол-во рабочих'] = rab\n",
    "            df.loc[mask, 'Генподрядчик'] = gen_pod\n",
    "            df.loc[mask, 'Генпроектировщик'] = gen_proc\n",
    "        else:\n",
    "            print(\"skip\")\n",
    "df"
   ],
   "metadata": {
    "collapsed": false
   }
  },
  {
   "cell_type": "code",
   "execution_count": null,
   "outputs": [],
   "source": [
    "df['Кол-во рабочих'].value_counts()"
   ],
   "metadata": {
    "collapsed": false
   }
  },
  {
   "cell_type": "code",
   "execution_count": null,
   "outputs": [],
   "source": [
    "df[df['obj_key'] == '022-0170']"
   ],
   "metadata": {
    "collapsed": false
   }
  },
  {
   "cell_type": "code",
   "execution_count": null,
   "outputs": [],
   "source": [
    "len(df)"
   ],
   "metadata": {
    "collapsed": false
   }
  },
  {
   "cell_type": "code",
   "execution_count": null,
   "outputs": [],
   "source": [
    "obj_prg_ex = df['obj_prg'].unique()\n",
    "obj_subprg_ex = df['obj_subprg'].unique()\n",
    "obj_subprg_ex_d = {obj_subprg_ex[i]: i for i in range(len(obj_subprg_ex))}\n",
    "obj_prg_ex_d = {obj_prg_ex[i]: i for i in range(len(obj_prg_ex))}\n",
    "df['obj_prg'] = df['obj_prg'].map(obj_prg_ex_d)\n",
    "df['obj_subprg'] = df['obj_subprg'].map(obj_subprg_ex_d)"
   ],
   "metadata": {
    "collapsed": false
   }
  },
  {
   "cell_type": "code",
   "execution_count": null,
   "outputs": [],
   "source": [
    "df.drop(['ДатаначалаБП0', 'ДатаокончанияБП0'], axis=1, inplace=True)\n",
    "df"
   ],
   "metadata": {
    "collapsed": false
   }
  },
  {
   "cell_type": "code",
   "execution_count": null,
   "outputs": [],
   "source": [
    "df['Время на выполнение'] = abs((df['ДатаНачалаЗадачи'] - df['ДатаОкончанияЗадачи']).dt.days)\n",
    "df"
   ],
   "metadata": {
    "collapsed": false
   }
  },
  {
   "cell_type": "code",
   "execution_count": null,
   "outputs": [],
   "source": [
    "obj_prg_ex_d"
   ],
   "metadata": {
    "collapsed": false
   }
  },
  {
   "cell_type": "code",
   "execution_count": null,
   "outputs": [],
   "source": [
    "df.dtypes"
   ],
   "metadata": {
    "collapsed": false
   }
  },
  {
   "cell_type": "code",
   "execution_count": null,
   "outputs": [],
   "source": [
    "df.sort_values(['obj_key', 'Кодзадачи', 'ПроцентЗавершенияЗадачи', 'date_report']).values"
   ],
   "metadata": {
    "collapsed": false
   }
  },
  {
   "cell_type": "code",
   "execution_count": null,
   "outputs": [],
   "source": [
    "df[df['obj_key']== '022-0170'].sort_values(['obj_key', 'Кодзадачи', 'ПроцентЗавершенияЗадачи', 'date_report'])"
   ],
   "metadata": {
    "collapsed": false
   }
  },
  {
   "cell_type": "code",
   "execution_count": null,
   "outputs": [],
   "source": [
    "tst_df = df.loc[df['Кол-во рабочих'].isna()].sort_values(['obj_key', 'Кодзадачи', 'ПроцентЗавершенияЗадачи', 'date_report'])\n",
    "for i, row in tqdm(tst_df.iterrows()):\n",
    "    obj_key = row[2]\n",
    "    date_df = row[9]\n",
    "    dates = atts[atts['obj_key'] == obj_key]['date_report'].unique()\n",
    "    min_date = min(dates, key=lambda x: abs(x - date_df))\n",
    "    query = atts[(atts['obj_key'] == obj_key) & (atts['date_report'] == min_date)].head(1)\n",
    "    gen_pod = query['Генподрядчик'].values[0]\n",
    "    gen_proc = query['Генпроектировщик'].values[0]\n",
    "    rab = query['Кол-во рабочих'].values[0]\n",
    "    square = query['Площадь'].values[0]\n",
    "    tst_df.at[i, 'Генподрядчик'] = gen_pod\n",
    "    tst_df.at[i, 'Генпроектировщик'] = gen_proc\n",
    "    tst_df.at[i, 'Кол-во рабочих'] = rab\n",
    "    tst_df.at[i, 'Площадь'] = square\n",
    "tst_df"
   ],
   "metadata": {
    "collapsed": false
   }
  },
  {
   "cell_type": "code",
   "execution_count": 261,
   "outputs": [
    {
     "data": {
      "text/plain": "         obj_prg  obj_subprg   obj_key Кодзадачи  ПроцентЗавершенияЗадачи  \\\n0              0           0  022-0527         1                        0   \n1              0           0  022-0354         1                        0   \n2              0           1  022-0513         1                        0   \n3              0           1  020-0684         1                        0   \n4              0           1  019-0589         1                        0   \n...          ...         ...       ...       ...                      ...   \n1055395        1           2  019-0477       7.4                       93   \n1056093        0           0  020-0710         8                        0   \n1056094        0           0  019-0675         8                        0   \n1056095        0           1  020-0712         8                        0   \n1056096        0           0  019-0429         8                        0   \n\n        ДатаНачалаЗадачи ДатаОкончанияЗадачи  Статуспоэкспертизе  Экспертиза  \\\n0             2022-01-14          2023-03-30                   0           0   \n1             2022-12-01          2023-07-27                   0           0   \n2             2023-01-23          2023-09-29                   0           0   \n3             2020-11-03          2022-02-01                   0           0   \n4             2020-11-03          2022-05-16                   0           0   \n...                  ...                 ...                 ...         ...   \n1055395       2020-04-28          2023-05-31                   0           0   \n1056093       2023-08-31          2024-04-10                   0           0   \n1056094       2023-09-01          2024-04-11                   0           0   \n1056095       2023-06-19          2024-01-26                   0           0   \n1056096       2024-05-30          2024-12-31                   0           0   \n\n        date_report  season  Скорость  Кол-во рабочих  Генподрядчик  \\\n0        2023-01-17       1  0.257576             0.0           0.0   \n1        2023-01-17       1  0.462121             0.0           0.0   \n2        2023-01-17       1  0.416667             0.0           0.0   \n3        2023-01-17       4  0.000000             0.0           2.0   \n4        2023-01-17       4  0.000000             0.0           2.0   \n...             ...     ...       ...             ...           ...   \n1055395  2023-05-29       2  0.704545             5.0          12.0   \n1056093  2023-05-29       3  0.000000           156.0           5.0   \n1056094  2023-05-29       4  0.000000           139.0          22.0   \n1056095  2023-05-29       2  0.000000            53.0           5.0   \n1056096  2023-05-29       2  0.000000           107.0           7.0   \n\n         Генпроектировщик  Время на выполнение  \n0                     0.0                  440  \n1                     0.0                  238  \n2                     0.0                  249  \n3                     1.0                  455  \n4                     1.0                  559  \n...                   ...                  ...  \n1055395              16.0                 1128  \n1056093               8.0                  223  \n1056094              33.0                  223  \n1056095               8.0                  221  \n1056096              11.0                  215  \n\n[35201 rows x 16 columns]",
      "text/html": "<div>\n<style scoped>\n    .dataframe tbody tr th:only-of-type {\n        vertical-align: middle;\n    }\n\n    .dataframe tbody tr th {\n        vertical-align: top;\n    }\n\n    .dataframe thead th {\n        text-align: right;\n    }\n</style>\n<table border=\"1\" class=\"dataframe\">\n  <thead>\n    <tr style=\"text-align: right;\">\n      <th></th>\n      <th>obj_prg</th>\n      <th>obj_subprg</th>\n      <th>obj_key</th>\n      <th>Кодзадачи</th>\n      <th>ПроцентЗавершенияЗадачи</th>\n      <th>ДатаНачалаЗадачи</th>\n      <th>ДатаОкончанияЗадачи</th>\n      <th>Статуспоэкспертизе</th>\n      <th>Экспертиза</th>\n      <th>date_report</th>\n      <th>season</th>\n      <th>Скорость</th>\n      <th>Кол-во рабочих</th>\n      <th>Генподрядчик</th>\n      <th>Генпроектировщик</th>\n      <th>Время на выполнение</th>\n    </tr>\n  </thead>\n  <tbody>\n    <tr>\n      <th>0</th>\n      <td>0</td>\n      <td>0</td>\n      <td>022-0527</td>\n      <td>1</td>\n      <td>0</td>\n      <td>2022-01-14</td>\n      <td>2023-03-30</td>\n      <td>0</td>\n      <td>0</td>\n      <td>2023-01-17</td>\n      <td>1</td>\n      <td>0.257576</td>\n      <td>0.0</td>\n      <td>0.0</td>\n      <td>0.0</td>\n      <td>440</td>\n    </tr>\n    <tr>\n      <th>1</th>\n      <td>0</td>\n      <td>0</td>\n      <td>022-0354</td>\n      <td>1</td>\n      <td>0</td>\n      <td>2022-12-01</td>\n      <td>2023-07-27</td>\n      <td>0</td>\n      <td>0</td>\n      <td>2023-01-17</td>\n      <td>1</td>\n      <td>0.462121</td>\n      <td>0.0</td>\n      <td>0.0</td>\n      <td>0.0</td>\n      <td>238</td>\n    </tr>\n    <tr>\n      <th>2</th>\n      <td>0</td>\n      <td>1</td>\n      <td>022-0513</td>\n      <td>1</td>\n      <td>0</td>\n      <td>2023-01-23</td>\n      <td>2023-09-29</td>\n      <td>0</td>\n      <td>0</td>\n      <td>2023-01-17</td>\n      <td>1</td>\n      <td>0.416667</td>\n      <td>0.0</td>\n      <td>0.0</td>\n      <td>0.0</td>\n      <td>249</td>\n    </tr>\n    <tr>\n      <th>3</th>\n      <td>0</td>\n      <td>1</td>\n      <td>020-0684</td>\n      <td>1</td>\n      <td>0</td>\n      <td>2020-11-03</td>\n      <td>2022-02-01</td>\n      <td>0</td>\n      <td>0</td>\n      <td>2023-01-17</td>\n      <td>4</td>\n      <td>0.000000</td>\n      <td>0.0</td>\n      <td>2.0</td>\n      <td>1.0</td>\n      <td>455</td>\n    </tr>\n    <tr>\n      <th>4</th>\n      <td>0</td>\n      <td>1</td>\n      <td>019-0589</td>\n      <td>1</td>\n      <td>0</td>\n      <td>2020-11-03</td>\n      <td>2022-05-16</td>\n      <td>0</td>\n      <td>0</td>\n      <td>2023-01-17</td>\n      <td>4</td>\n      <td>0.000000</td>\n      <td>0.0</td>\n      <td>2.0</td>\n      <td>1.0</td>\n      <td>559</td>\n    </tr>\n    <tr>\n      <th>...</th>\n      <td>...</td>\n      <td>...</td>\n      <td>...</td>\n      <td>...</td>\n      <td>...</td>\n      <td>...</td>\n      <td>...</td>\n      <td>...</td>\n      <td>...</td>\n      <td>...</td>\n      <td>...</td>\n      <td>...</td>\n      <td>...</td>\n      <td>...</td>\n      <td>...</td>\n      <td>...</td>\n    </tr>\n    <tr>\n      <th>1055395</th>\n      <td>1</td>\n      <td>2</td>\n      <td>019-0477</td>\n      <td>7.4</td>\n      <td>93</td>\n      <td>2020-04-28</td>\n      <td>2023-05-31</td>\n      <td>0</td>\n      <td>0</td>\n      <td>2023-05-29</td>\n      <td>2</td>\n      <td>0.704545</td>\n      <td>5.0</td>\n      <td>12.0</td>\n      <td>16.0</td>\n      <td>1128</td>\n    </tr>\n    <tr>\n      <th>1056093</th>\n      <td>0</td>\n      <td>0</td>\n      <td>020-0710</td>\n      <td>8</td>\n      <td>0</td>\n      <td>2023-08-31</td>\n      <td>2024-04-10</td>\n      <td>0</td>\n      <td>0</td>\n      <td>2023-05-29</td>\n      <td>3</td>\n      <td>0.000000</td>\n      <td>156.0</td>\n      <td>5.0</td>\n      <td>8.0</td>\n      <td>223</td>\n    </tr>\n    <tr>\n      <th>1056094</th>\n      <td>0</td>\n      <td>0</td>\n      <td>019-0675</td>\n      <td>8</td>\n      <td>0</td>\n      <td>2023-09-01</td>\n      <td>2024-04-11</td>\n      <td>0</td>\n      <td>0</td>\n      <td>2023-05-29</td>\n      <td>4</td>\n      <td>0.000000</td>\n      <td>139.0</td>\n      <td>22.0</td>\n      <td>33.0</td>\n      <td>223</td>\n    </tr>\n    <tr>\n      <th>1056095</th>\n      <td>0</td>\n      <td>1</td>\n      <td>020-0712</td>\n      <td>8</td>\n      <td>0</td>\n      <td>2023-06-19</td>\n      <td>2024-01-26</td>\n      <td>0</td>\n      <td>0</td>\n      <td>2023-05-29</td>\n      <td>2</td>\n      <td>0.000000</td>\n      <td>53.0</td>\n      <td>5.0</td>\n      <td>8.0</td>\n      <td>221</td>\n    </tr>\n    <tr>\n      <th>1056096</th>\n      <td>0</td>\n      <td>0</td>\n      <td>019-0429</td>\n      <td>8</td>\n      <td>0</td>\n      <td>2024-05-30</td>\n      <td>2024-12-31</td>\n      <td>0</td>\n      <td>0</td>\n      <td>2023-05-29</td>\n      <td>2</td>\n      <td>0.000000</td>\n      <td>107.0</td>\n      <td>7.0</td>\n      <td>11.0</td>\n      <td>215</td>\n    </tr>\n  </tbody>\n</table>\n<p>35201 rows × 16 columns</p>\n</div>"
     },
     "execution_count": 261,
     "metadata": {},
     "output_type": "execute_result"
    }
   ],
   "source": [
    "df.update(tst_df[['Генподрядчик', 'Генпроектировщик', 'Кол-во рабочих', 'Площадь']])\n",
    "df"
   ],
   "metadata": {
    "collapsed": false,
    "ExecuteTime": {
     "end_time": "2023-06-24T20:03:44.995959800Z",
     "start_time": "2023-06-24T20:03:44.971959700Z"
    }
   }
  },
  {
   "cell_type": "code",
   "execution_count": 263,
   "outputs": [
    {
     "data": {
      "text/plain": "         obj_prg  obj_subprg   obj_key Кодзадачи  ПроцентЗавершенияЗадачи  \\\n0              0           0  022-0527         1                        0   \n1              0           0  022-0354         1                        0   \n2              0           1  022-0513         1                        0   \n3              0           1  020-0684         1                        0   \n4              0           1  019-0589         1                        0   \n...          ...         ...       ...       ...                      ...   \n1055395        1           2  019-0477       7.4                       93   \n1056093        0           0  020-0710         8                        0   \n1056094        0           0  019-0675         8                        0   \n1056095        0           1  020-0712         8                        0   \n1056096        0           0  019-0429         8                        0   \n\n        ДатаНачалаЗадачи ДатаОкончанияЗадачи  Статуспоэкспертизе  Экспертиза  \\\n0             2022-01-14          2023-03-30                   0           0   \n1             2022-12-01          2023-07-27                   0           0   \n2             2023-01-23          2023-09-29                   0           0   \n3             2020-11-03          2022-02-01                   0           0   \n4             2020-11-03          2022-05-16                   0           0   \n...                  ...                 ...                 ...         ...   \n1055395       2020-04-28          2023-05-31                   0           0   \n1056093       2023-08-31          2024-04-10                   0           0   \n1056094       2023-09-01          2024-04-11                   0           0   \n1056095       2023-06-19          2024-01-26                   0           0   \n1056096       2024-05-30          2024-12-31                   0           0   \n\n        date_report  season  Скорость  Кол-во рабочих  Генподрядчик  \\\n0        2023-01-17       1  0.257576             0.0           0.0   \n1        2023-01-17       1  0.462121             0.0           0.0   \n2        2023-01-17       1  0.416667             0.0           0.0   \n3        2023-01-17       4  0.000000             0.0           2.0   \n4        2023-01-17       4  0.000000             0.0           2.0   \n...             ...     ...       ...             ...           ...   \n1055395  2023-05-29       2  0.704545             5.0          12.0   \n1056093  2023-05-29       3  0.000000           156.0           5.0   \n1056094  2023-05-29       4  0.000000           139.0          22.0   \n1056095  2023-05-29       2  0.000000            53.0           5.0   \n1056096  2023-05-29       2  0.000000           107.0           7.0   \n\n         Генпроектировщик  Время на выполнение  Площадь  \n0                     0.0                  440   9850.0  \n1                     0.0                  238  20271.0  \n2                     0.0                  249   6892.0  \n3                     1.0                  455   2488.6  \n4                     1.0                  559   3751.1  \n...                   ...                  ...      ...  \n1055395              16.0                 1128      0.0  \n1056093               8.0                  223      0.0  \n1056094              33.0                  223      0.0  \n1056095               8.0                  221      0.0  \n1056096              11.0                  215      0.0  \n\n[35201 rows x 17 columns]",
      "text/html": "<div>\n<style scoped>\n    .dataframe tbody tr th:only-of-type {\n        vertical-align: middle;\n    }\n\n    .dataframe tbody tr th {\n        vertical-align: top;\n    }\n\n    .dataframe thead th {\n        text-align: right;\n    }\n</style>\n<table border=\"1\" class=\"dataframe\">\n  <thead>\n    <tr style=\"text-align: right;\">\n      <th></th>\n      <th>obj_prg</th>\n      <th>obj_subprg</th>\n      <th>obj_key</th>\n      <th>Кодзадачи</th>\n      <th>ПроцентЗавершенияЗадачи</th>\n      <th>ДатаНачалаЗадачи</th>\n      <th>ДатаОкончанияЗадачи</th>\n      <th>Статуспоэкспертизе</th>\n      <th>Экспертиза</th>\n      <th>date_report</th>\n      <th>season</th>\n      <th>Скорость</th>\n      <th>Кол-во рабочих</th>\n      <th>Генподрядчик</th>\n      <th>Генпроектировщик</th>\n      <th>Время на выполнение</th>\n      <th>Площадь</th>\n    </tr>\n  </thead>\n  <tbody>\n    <tr>\n      <th>0</th>\n      <td>0</td>\n      <td>0</td>\n      <td>022-0527</td>\n      <td>1</td>\n      <td>0</td>\n      <td>2022-01-14</td>\n      <td>2023-03-30</td>\n      <td>0</td>\n      <td>0</td>\n      <td>2023-01-17</td>\n      <td>1</td>\n      <td>0.257576</td>\n      <td>0.0</td>\n      <td>0.0</td>\n      <td>0.0</td>\n      <td>440</td>\n      <td>9850.0</td>\n    </tr>\n    <tr>\n      <th>1</th>\n      <td>0</td>\n      <td>0</td>\n      <td>022-0354</td>\n      <td>1</td>\n      <td>0</td>\n      <td>2022-12-01</td>\n      <td>2023-07-27</td>\n      <td>0</td>\n      <td>0</td>\n      <td>2023-01-17</td>\n      <td>1</td>\n      <td>0.462121</td>\n      <td>0.0</td>\n      <td>0.0</td>\n      <td>0.0</td>\n      <td>238</td>\n      <td>20271.0</td>\n    </tr>\n    <tr>\n      <th>2</th>\n      <td>0</td>\n      <td>1</td>\n      <td>022-0513</td>\n      <td>1</td>\n      <td>0</td>\n      <td>2023-01-23</td>\n      <td>2023-09-29</td>\n      <td>0</td>\n      <td>0</td>\n      <td>2023-01-17</td>\n      <td>1</td>\n      <td>0.416667</td>\n      <td>0.0</td>\n      <td>0.0</td>\n      <td>0.0</td>\n      <td>249</td>\n      <td>6892.0</td>\n    </tr>\n    <tr>\n      <th>3</th>\n      <td>0</td>\n      <td>1</td>\n      <td>020-0684</td>\n      <td>1</td>\n      <td>0</td>\n      <td>2020-11-03</td>\n      <td>2022-02-01</td>\n      <td>0</td>\n      <td>0</td>\n      <td>2023-01-17</td>\n      <td>4</td>\n      <td>0.000000</td>\n      <td>0.0</td>\n      <td>2.0</td>\n      <td>1.0</td>\n      <td>455</td>\n      <td>2488.6</td>\n    </tr>\n    <tr>\n      <th>4</th>\n      <td>0</td>\n      <td>1</td>\n      <td>019-0589</td>\n      <td>1</td>\n      <td>0</td>\n      <td>2020-11-03</td>\n      <td>2022-05-16</td>\n      <td>0</td>\n      <td>0</td>\n      <td>2023-01-17</td>\n      <td>4</td>\n      <td>0.000000</td>\n      <td>0.0</td>\n      <td>2.0</td>\n      <td>1.0</td>\n      <td>559</td>\n      <td>3751.1</td>\n    </tr>\n    <tr>\n      <th>...</th>\n      <td>...</td>\n      <td>...</td>\n      <td>...</td>\n      <td>...</td>\n      <td>...</td>\n      <td>...</td>\n      <td>...</td>\n      <td>...</td>\n      <td>...</td>\n      <td>...</td>\n      <td>...</td>\n      <td>...</td>\n      <td>...</td>\n      <td>...</td>\n      <td>...</td>\n      <td>...</td>\n      <td>...</td>\n    </tr>\n    <tr>\n      <th>1055395</th>\n      <td>1</td>\n      <td>2</td>\n      <td>019-0477</td>\n      <td>7.4</td>\n      <td>93</td>\n      <td>2020-04-28</td>\n      <td>2023-05-31</td>\n      <td>0</td>\n      <td>0</td>\n      <td>2023-05-29</td>\n      <td>2</td>\n      <td>0.704545</td>\n      <td>5.0</td>\n      <td>12.0</td>\n      <td>16.0</td>\n      <td>1128</td>\n      <td>0.0</td>\n    </tr>\n    <tr>\n      <th>1056093</th>\n      <td>0</td>\n      <td>0</td>\n      <td>020-0710</td>\n      <td>8</td>\n      <td>0</td>\n      <td>2023-08-31</td>\n      <td>2024-04-10</td>\n      <td>0</td>\n      <td>0</td>\n      <td>2023-05-29</td>\n      <td>3</td>\n      <td>0.000000</td>\n      <td>156.0</td>\n      <td>5.0</td>\n      <td>8.0</td>\n      <td>223</td>\n      <td>0.0</td>\n    </tr>\n    <tr>\n      <th>1056094</th>\n      <td>0</td>\n      <td>0</td>\n      <td>019-0675</td>\n      <td>8</td>\n      <td>0</td>\n      <td>2023-09-01</td>\n      <td>2024-04-11</td>\n      <td>0</td>\n      <td>0</td>\n      <td>2023-05-29</td>\n      <td>4</td>\n      <td>0.000000</td>\n      <td>139.0</td>\n      <td>22.0</td>\n      <td>33.0</td>\n      <td>223</td>\n      <td>0.0</td>\n    </tr>\n    <tr>\n      <th>1056095</th>\n      <td>0</td>\n      <td>1</td>\n      <td>020-0712</td>\n      <td>8</td>\n      <td>0</td>\n      <td>2023-06-19</td>\n      <td>2024-01-26</td>\n      <td>0</td>\n      <td>0</td>\n      <td>2023-05-29</td>\n      <td>2</td>\n      <td>0.000000</td>\n      <td>53.0</td>\n      <td>5.0</td>\n      <td>8.0</td>\n      <td>221</td>\n      <td>0.0</td>\n    </tr>\n    <tr>\n      <th>1056096</th>\n      <td>0</td>\n      <td>0</td>\n      <td>019-0429</td>\n      <td>8</td>\n      <td>0</td>\n      <td>2024-05-30</td>\n      <td>2024-12-31</td>\n      <td>0</td>\n      <td>0</td>\n      <td>2023-05-29</td>\n      <td>2</td>\n      <td>0.000000</td>\n      <td>107.0</td>\n      <td>7.0</td>\n      <td>11.0</td>\n      <td>215</td>\n      <td>0.0</td>\n    </tr>\n  </tbody>\n</table>\n<p>35201 rows × 17 columns</p>\n</div>"
     },
     "execution_count": 263,
     "metadata": {},
     "output_type": "execute_result"
    }
   ],
   "source": [
    "df['Площадь'] = tst_df['Площадь']\n",
    "df['Площадь'].fillna(0, inplace=True)\n",
    "df"
   ],
   "metadata": {
    "collapsed": false,
    "ExecuteTime": {
     "end_time": "2023-06-24T20:07:20.796658200Z",
     "start_time": "2023-06-24T20:07:20.763369400Z"
    }
   }
  },
  {
   "cell_type": "code",
   "execution_count": 264,
   "outputs": [],
   "source": [
    "df.to_csv(\"files\\\\pred_final.csv\", index=False)"
   ],
   "metadata": {
    "collapsed": false,
    "ExecuteTime": {
     "end_time": "2023-06-24T20:09:12.371168Z",
     "start_time": "2023-06-24T20:09:12.127170600Z"
    }
   }
  }
 ],
 "metadata": {
  "kernelspec": {
   "display_name": "Python 3",
   "language": "python",
   "name": "python3"
  },
  "language_info": {
   "codemirror_mode": {
    "name": "ipython",
    "version": 2
   },
   "file_extension": ".py",
   "mimetype": "text/x-python",
   "name": "python",
   "nbconvert_exporter": "python",
   "pygments_lexer": "ipython2",
   "version": "2.7.6"
  }
 },
 "nbformat": 4,
 "nbformat_minor": 0
}
