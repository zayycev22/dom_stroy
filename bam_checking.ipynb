{
 "cells": [
  {
   "cell_type": "code",
   "execution_count": 1,
   "metadata": {
    "ExecuteTime": {
     "end_time": "2023-06-23T13:06:57.624584200Z",
     "start_time": "2023-06-23T13:06:56.136583400Z"
    },
    "collapsed": true
   },
   "outputs": [],
   "source": [
    "import bamboolib as bam"
   ]
  },
  {
   "cell_type": "code",
   "execution_count": 3,
   "metadata": {
    "ExecuteTime": {
     "end_time": "2023-06-23T13:06:58.520179600Z",
     "start_time": "2023-06-23T13:06:57.626583800Z"
    }
   },
   "outputs": [
    {
     "data": {
      "application/vnd.jupyter.widget-view+json": {
       "model_id": "40515efed18640c9b123c437ed978ae3"
      },
      "text/plain": [
       "        № п/п   obj_key Кодзадачи  ПроцентЗавершенияЗадачи ДатаНачалаЗадачи  \\\n",
       "0          81  022-0527         1                      0.0       2022-01-14   \n",
       "1          75  022-0354         1                      0.0       2022-12-01   \n",
       "2          58  019-0594         1                      0.0       2021-05-04   \n",
       "3          57  019-0431         1                    100.0       2020-11-02   \n",
       "4          61  019-0676         1                    100.0       2021-02-01   \n",
       "...       ...       ...       ...                      ...              ...   \n",
       "446971     83  022-0526     9.6.2                      0.0       2025-08-11   \n",
       "446972     79  022-0354     9.6.2                      0.0       2025-07-21   \n",
       "446973     86  023-0093       NaN                      NaN              NaN   \n",
       "446974     87  023-0091       NaN                      NaN              NaN   \n",
       "446975     88  023-0089       NaN                      NaN              NaN   \n",
       "\n",
       "       ДатаОкончанияЗадачи ДатаначалаБП0 ДатаокончанияБП0  Статуспоэкспертизе  \\\n",
       "0               2023-03-30           NaN              NaN                 NaN   \n",
       "1               2023-07-27           NaN              NaN                 NaN   \n",
       "2               2021-12-15    2021-05-04       2021-12-15                 NaN   \n",
       "3               2021-07-26    2020-11-02       2021-07-26                 NaN   \n",
       "4               2022-09-15    2021-02-01       2022-07-31                 NaN   \n",
       "...                    ...           ...              ...                 ...   \n",
       "446971          2025-08-11    2025-08-11       2025-08-11                 NaN   \n",
       "446972          2025-07-21    2025-07-21       2025-07-21                 NaN   \n",
       "446973                 NaN           NaN              NaN                 NaN   \n",
       "446974                 NaN           NaN              NaN                 NaN   \n",
       "446975                 NaN           NaN              NaN                 NaN   \n",
       "\n",
       "       Экспертиза date_report  \n",
       "0             NaN  2023.01.17  \n",
       "1             NaN  2023.01.17  \n",
       "2             NaN  2023.01.17  \n",
       "3             NaN  2023.01.17  \n",
       "4             NaN  2023.01.17  \n",
       "...           ...         ...  \n",
       "446971        NaN  2023.05.29  \n",
       "446972        NaN  2023.05.29  \n",
       "446973        NaN  2023.05.29  \n",
       "446974        NaN  2023.05.29  \n",
       "446975        NaN  2023.05.29  \n",
       "\n",
       "[446976 rows x 11 columns]"
      ]
     },
     "metadata": {},
     "output_type": "display_data"
    }
   ],
   "source": [
    "import pandas as pd; import numpy as np\n",
    "df = pd.read_csv(r'C:\\Users\\zayyc\\Desktop\\programming\\dom_stroy\\files\\dataset_ksg.csv', sep=',', decimal='.', nrows=446976)\n",
    "df"
   ]
  },
  {
   "cell_type": "code",
   "execution_count": 2,
   "metadata": {},
   "outputs": [],
   "source": []
  }
 ],
 "metadata": {
  "kernelspec": {
   "display_name": "Python 3 (ipykernel)",
   "language": "python",
   "name": "python3"
  },
  "language_info": {
   "codemirror_mode": {
    "name": "ipython",
    "version": 3
   },
   "file_extension": ".py",
   "mimetype": "text/x-python",
   "name": "python",
   "nbconvert_exporter": "python",
   "pygments_lexer": "ipython3",
   "version": "3.9.0"
  }
 },
 "nbformat": 4,
 "nbformat_minor": 1
}
