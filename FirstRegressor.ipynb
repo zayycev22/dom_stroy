{
 "cells": [
  {
   "cell_type": "code",
   "execution_count": 1,
   "metadata": {
    "collapsed": true
   },
   "outputs": [],
   "source": [
    "import tensorflow as tf\n",
    "import numpy as np\n",
    "import pandas as pd\n",
    "from sklearn.model_selection import train_test_split\n",
    "import sklearn as sk"
   ]
  },
  {
   "cell_type": "code",
   "execution_count": 2,
   "outputs": [
    {
     "data": {
      "text/plain": "       obj_prg  obj_subprg   obj_key Кодзадачи  ПроцентЗавершенияЗадачи  \\\n0            0           0  022-0527         1                        0   \n1            0           0  022-0354         1                        0   \n2            0           1  022-0513         1                        0   \n3            0           1  020-0684         1                        0   \n4            0           1  019-0589         1                        0   \n...        ...         ...       ...       ...                      ...   \n35196        1           2  019-0477       7.4                       93   \n35197        0           0  020-0710         8                        0   \n35198        0           0  019-0675         8                        0   \n35199        0           1  020-0712         8                        0   \n35200        0           0  019-0429         8                        0   \n\n      ДатаНачалаЗадачи ДатаОкончанияЗадачи  Статуспоэкспертизе  Экспертиза  \\\n0           2022-01-14          2023-03-30                   0           0   \n1           2022-12-01          2023-07-27                   0           0   \n2           2023-01-23          2023-09-29                   0           0   \n3           2020-11-03          2022-02-01                   0           0   \n4           2020-11-03          2022-05-16                   0           0   \n...                ...                 ...                 ...         ...   \n35196       2020-04-28          2023-05-31                   0           0   \n35197       2023-08-31          2024-04-10                   0           0   \n35198       2023-09-01          2024-04-11                   0           0   \n35199       2023-06-19          2024-01-26                   0           0   \n35200       2024-05-30          2024-12-31                   0           0   \n\n      date_report  season  Скорость  Кол-во рабочих  Генподрядчик  \\\n0      2023-01-17       1  0.051988             0.0           0.0   \n1      2023-01-17       1  0.224265             0.0           0.0   \n2      2023-01-17       1  0.117271             0.0           0.0   \n3      2023-01-17       4  0.000000             0.0           2.0   \n4      2023-01-17       4  0.000000             0.0           2.0   \n...           ...     ...       ...             ...           ...   \n35196  2023-05-29       2  0.082447             5.0          12.0   \n35197  2023-05-29       3  0.000000           156.0           5.0   \n35198  2023-05-29       4  0.000000           139.0          22.0   \n35199  2023-05-29       2  0.000000            53.0           5.0   \n35200  2023-05-29       2  0.000000           107.0           7.0   \n\n       Генпроектировщик  Время на выполнение  \n0                   0.0                  440  \n1                   0.0                  238  \n2                   0.0                  249  \n3                   1.0                  455  \n4                   1.0                  559  \n...                 ...                  ...  \n35196              16.0                 1128  \n35197               8.0                  223  \n35198              33.0                  223  \n35199               8.0                  221  \n35200              11.0                  215  \n\n[35201 rows x 16 columns]",
      "text/html": "<div>\n<style scoped>\n    .dataframe tbody tr th:only-of-type {\n        vertical-align: middle;\n    }\n\n    .dataframe tbody tr th {\n        vertical-align: top;\n    }\n\n    .dataframe thead th {\n        text-align: right;\n    }\n</style>\n<table border=\"1\" class=\"dataframe\">\n  <thead>\n    <tr style=\"text-align: right;\">\n      <th></th>\n      <th>obj_prg</th>\n      <th>obj_subprg</th>\n      <th>obj_key</th>\n      <th>Кодзадачи</th>\n      <th>ПроцентЗавершенияЗадачи</th>\n      <th>ДатаНачалаЗадачи</th>\n      <th>ДатаОкончанияЗадачи</th>\n      <th>Статуспоэкспертизе</th>\n      <th>Экспертиза</th>\n      <th>date_report</th>\n      <th>season</th>\n      <th>Скорость</th>\n      <th>Кол-во рабочих</th>\n      <th>Генподрядчик</th>\n      <th>Генпроектировщик</th>\n      <th>Время на выполнение</th>\n    </tr>\n  </thead>\n  <tbody>\n    <tr>\n      <th>0</th>\n      <td>0</td>\n      <td>0</td>\n      <td>022-0527</td>\n      <td>1</td>\n      <td>0</td>\n      <td>2022-01-14</td>\n      <td>2023-03-30</td>\n      <td>0</td>\n      <td>0</td>\n      <td>2023-01-17</td>\n      <td>1</td>\n      <td>0.051988</td>\n      <td>0.0</td>\n      <td>0.0</td>\n      <td>0.0</td>\n      <td>440</td>\n    </tr>\n    <tr>\n      <th>1</th>\n      <td>0</td>\n      <td>0</td>\n      <td>022-0354</td>\n      <td>1</td>\n      <td>0</td>\n      <td>2022-12-01</td>\n      <td>2023-07-27</td>\n      <td>0</td>\n      <td>0</td>\n      <td>2023-01-17</td>\n      <td>1</td>\n      <td>0.224265</td>\n      <td>0.0</td>\n      <td>0.0</td>\n      <td>0.0</td>\n      <td>238</td>\n    </tr>\n    <tr>\n      <th>2</th>\n      <td>0</td>\n      <td>1</td>\n      <td>022-0513</td>\n      <td>1</td>\n      <td>0</td>\n      <td>2023-01-23</td>\n      <td>2023-09-29</td>\n      <td>0</td>\n      <td>0</td>\n      <td>2023-01-17</td>\n      <td>1</td>\n      <td>0.117271</td>\n      <td>0.0</td>\n      <td>0.0</td>\n      <td>0.0</td>\n      <td>249</td>\n    </tr>\n    <tr>\n      <th>3</th>\n      <td>0</td>\n      <td>1</td>\n      <td>020-0684</td>\n      <td>1</td>\n      <td>0</td>\n      <td>2020-11-03</td>\n      <td>2022-02-01</td>\n      <td>0</td>\n      <td>0</td>\n      <td>2023-01-17</td>\n      <td>4</td>\n      <td>0.000000</td>\n      <td>0.0</td>\n      <td>2.0</td>\n      <td>1.0</td>\n      <td>455</td>\n    </tr>\n    <tr>\n      <th>4</th>\n      <td>0</td>\n      <td>1</td>\n      <td>019-0589</td>\n      <td>1</td>\n      <td>0</td>\n      <td>2020-11-03</td>\n      <td>2022-05-16</td>\n      <td>0</td>\n      <td>0</td>\n      <td>2023-01-17</td>\n      <td>4</td>\n      <td>0.000000</td>\n      <td>0.0</td>\n      <td>2.0</td>\n      <td>1.0</td>\n      <td>559</td>\n    </tr>\n    <tr>\n      <th>...</th>\n      <td>...</td>\n      <td>...</td>\n      <td>...</td>\n      <td>...</td>\n      <td>...</td>\n      <td>...</td>\n      <td>...</td>\n      <td>...</td>\n      <td>...</td>\n      <td>...</td>\n      <td>...</td>\n      <td>...</td>\n      <td>...</td>\n      <td>...</td>\n      <td>...</td>\n      <td>...</td>\n    </tr>\n    <tr>\n      <th>35196</th>\n      <td>1</td>\n      <td>2</td>\n      <td>019-0477</td>\n      <td>7.4</td>\n      <td>93</td>\n      <td>2020-04-28</td>\n      <td>2023-05-31</td>\n      <td>0</td>\n      <td>0</td>\n      <td>2023-05-29</td>\n      <td>2</td>\n      <td>0.082447</td>\n      <td>5.0</td>\n      <td>12.0</td>\n      <td>16.0</td>\n      <td>1128</td>\n    </tr>\n    <tr>\n      <th>35197</th>\n      <td>0</td>\n      <td>0</td>\n      <td>020-0710</td>\n      <td>8</td>\n      <td>0</td>\n      <td>2023-08-31</td>\n      <td>2024-04-10</td>\n      <td>0</td>\n      <td>0</td>\n      <td>2023-05-29</td>\n      <td>3</td>\n      <td>0.000000</td>\n      <td>156.0</td>\n      <td>5.0</td>\n      <td>8.0</td>\n      <td>223</td>\n    </tr>\n    <tr>\n      <th>35198</th>\n      <td>0</td>\n      <td>0</td>\n      <td>019-0675</td>\n      <td>8</td>\n      <td>0</td>\n      <td>2023-09-01</td>\n      <td>2024-04-11</td>\n      <td>0</td>\n      <td>0</td>\n      <td>2023-05-29</td>\n      <td>4</td>\n      <td>0.000000</td>\n      <td>139.0</td>\n      <td>22.0</td>\n      <td>33.0</td>\n      <td>223</td>\n    </tr>\n    <tr>\n      <th>35199</th>\n      <td>0</td>\n      <td>1</td>\n      <td>020-0712</td>\n      <td>8</td>\n      <td>0</td>\n      <td>2023-06-19</td>\n      <td>2024-01-26</td>\n      <td>0</td>\n      <td>0</td>\n      <td>2023-05-29</td>\n      <td>2</td>\n      <td>0.000000</td>\n      <td>53.0</td>\n      <td>5.0</td>\n      <td>8.0</td>\n      <td>221</td>\n    </tr>\n    <tr>\n      <th>35200</th>\n      <td>0</td>\n      <td>0</td>\n      <td>019-0429</td>\n      <td>8</td>\n      <td>0</td>\n      <td>2024-05-30</td>\n      <td>2024-12-31</td>\n      <td>0</td>\n      <td>0</td>\n      <td>2023-05-29</td>\n      <td>2</td>\n      <td>0.000000</td>\n      <td>107.0</td>\n      <td>7.0</td>\n      <td>11.0</td>\n      <td>215</td>\n    </tr>\n  </tbody>\n</table>\n<p>35201 rows × 16 columns</p>\n</div>"
     },
     "execution_count": 2,
     "metadata": {},
     "output_type": "execute_result"
    }
   ],
   "source": [
    "df = pd.read_csv(\"docs/pred_final.csv\")\n",
    "df"
   ],
   "metadata": {
    "collapsed": false,
    "pycharm": {
     "name": "#%%\n"
    }
   }
  },
  {
   "cell_type": "code",
   "execution_count": 3,
   "outputs": [
    {
     "data": {
      "text/plain": "       obj_prg  obj_subprg   obj_key Кодзадачи  ПроцентЗавершенияЗадачи  \\\n8            0           1  017-0520         1                      100   \n1699         0           1  017-0520         1                      100   \n3432         0           1  017-0520         1                      100   \n5219         0           1  017-0520         1                      100   \n7030         0           1  017-0520         1                      100   \n...        ...         ...       ...       ...                      ...   \n33242        1           3  022-0631       7.4                        0   \n35153        1           3  022-0631       7.4                        0   \n1665         1           3  022-0631         8                        0   \n3393         1           3  022-0631         8                        0   \n5191         1           3  022-0631         8                        0   \n\n      ДатаНачалаЗадачи ДатаОкончанияЗадачи  Статуспоэкспертизе  Экспертиза  \\\n8           2018-11-01          2022-02-15                   0           0   \n1699        2018-11-01          2022-02-15                   0           0   \n3432        2018-11-01          2022-02-15                   0           0   \n5219        2018-11-01          2022-02-15                   0           0   \n7030        2018-11-01          2022-02-15                   0           0   \n...                ...                 ...                 ...         ...   \n33242       2024-10-14          2024-11-11                   0           0   \n35153       2024-10-14          2024-11-11                   0           0   \n1665        2024-12-02          2025-07-11                   0           0   \n3393        2024-12-02          2025-07-11                   0           0   \n5191        2024-12-02          2025-07-11                   0           0   \n\n      date_report  season  Скорость  Кол-во рабочих  Генподрядчик  \\\n8      2023-01-17       4  0.083195             0.0           5.0   \n1699   2023-01-23       4  0.083195             0.0           5.0   \n3432   2023-02-06       4  0.083195             0.0           5.0   \n5219   2023-02-13       4  0.083195             0.0           5.0   \n7030   2023-02-20       4  0.083195             0.0           5.0   \n...           ...     ...       ...             ...           ...   \n33242  2023-05-22       4  0.000000             0.0           2.0   \n35153  2023-05-29       4  0.000000             0.0           2.0   \n1665   2023-01-17       1  0.000000             0.0           2.0   \n3393   2023-01-23       1  0.000000             0.0           2.0   \n5191   2023-02-06       1  0.000000             0.0           2.0   \n\n       Генпроектировщик  Время на выполнение  \n8                   8.0                 1202  \n1699                8.0                 1202  \n3432                8.0                 1202  \n5219                8.0                 1202  \n7030                8.0                 1202  \n...                 ...                  ...  \n33242               1.0                   28  \n35153               1.0                   28  \n1665                0.0                  221  \n3393                0.0                  221  \n5191                0.0                  221  \n\n[35201 rows x 16 columns]",
      "text/html": "<div>\n<style scoped>\n    .dataframe tbody tr th:only-of-type {\n        vertical-align: middle;\n    }\n\n    .dataframe tbody tr th {\n        vertical-align: top;\n    }\n\n    .dataframe thead th {\n        text-align: right;\n    }\n</style>\n<table border=\"1\" class=\"dataframe\">\n  <thead>\n    <tr style=\"text-align: right;\">\n      <th></th>\n      <th>obj_prg</th>\n      <th>obj_subprg</th>\n      <th>obj_key</th>\n      <th>Кодзадачи</th>\n      <th>ПроцентЗавершенияЗадачи</th>\n      <th>ДатаНачалаЗадачи</th>\n      <th>ДатаОкончанияЗадачи</th>\n      <th>Статуспоэкспертизе</th>\n      <th>Экспертиза</th>\n      <th>date_report</th>\n      <th>season</th>\n      <th>Скорость</th>\n      <th>Кол-во рабочих</th>\n      <th>Генподрядчик</th>\n      <th>Генпроектировщик</th>\n      <th>Время на выполнение</th>\n    </tr>\n  </thead>\n  <tbody>\n    <tr>\n      <th>8</th>\n      <td>0</td>\n      <td>1</td>\n      <td>017-0520</td>\n      <td>1</td>\n      <td>100</td>\n      <td>2018-11-01</td>\n      <td>2022-02-15</td>\n      <td>0</td>\n      <td>0</td>\n      <td>2023-01-17</td>\n      <td>4</td>\n      <td>0.083195</td>\n      <td>0.0</td>\n      <td>5.0</td>\n      <td>8.0</td>\n      <td>1202</td>\n    </tr>\n    <tr>\n      <th>1699</th>\n      <td>0</td>\n      <td>1</td>\n      <td>017-0520</td>\n      <td>1</td>\n      <td>100</td>\n      <td>2018-11-01</td>\n      <td>2022-02-15</td>\n      <td>0</td>\n      <td>0</td>\n      <td>2023-01-23</td>\n      <td>4</td>\n      <td>0.083195</td>\n      <td>0.0</td>\n      <td>5.0</td>\n      <td>8.0</td>\n      <td>1202</td>\n    </tr>\n    <tr>\n      <th>3432</th>\n      <td>0</td>\n      <td>1</td>\n      <td>017-0520</td>\n      <td>1</td>\n      <td>100</td>\n      <td>2018-11-01</td>\n      <td>2022-02-15</td>\n      <td>0</td>\n      <td>0</td>\n      <td>2023-02-06</td>\n      <td>4</td>\n      <td>0.083195</td>\n      <td>0.0</td>\n      <td>5.0</td>\n      <td>8.0</td>\n      <td>1202</td>\n    </tr>\n    <tr>\n      <th>5219</th>\n      <td>0</td>\n      <td>1</td>\n      <td>017-0520</td>\n      <td>1</td>\n      <td>100</td>\n      <td>2018-11-01</td>\n      <td>2022-02-15</td>\n      <td>0</td>\n      <td>0</td>\n      <td>2023-02-13</td>\n      <td>4</td>\n      <td>0.083195</td>\n      <td>0.0</td>\n      <td>5.0</td>\n      <td>8.0</td>\n      <td>1202</td>\n    </tr>\n    <tr>\n      <th>7030</th>\n      <td>0</td>\n      <td>1</td>\n      <td>017-0520</td>\n      <td>1</td>\n      <td>100</td>\n      <td>2018-11-01</td>\n      <td>2022-02-15</td>\n      <td>0</td>\n      <td>0</td>\n      <td>2023-02-20</td>\n      <td>4</td>\n      <td>0.083195</td>\n      <td>0.0</td>\n      <td>5.0</td>\n      <td>8.0</td>\n      <td>1202</td>\n    </tr>\n    <tr>\n      <th>...</th>\n      <td>...</td>\n      <td>...</td>\n      <td>...</td>\n      <td>...</td>\n      <td>...</td>\n      <td>...</td>\n      <td>...</td>\n      <td>...</td>\n      <td>...</td>\n      <td>...</td>\n      <td>...</td>\n      <td>...</td>\n      <td>...</td>\n      <td>...</td>\n      <td>...</td>\n      <td>...</td>\n    </tr>\n    <tr>\n      <th>33242</th>\n      <td>1</td>\n      <td>3</td>\n      <td>022-0631</td>\n      <td>7.4</td>\n      <td>0</td>\n      <td>2024-10-14</td>\n      <td>2024-11-11</td>\n      <td>0</td>\n      <td>0</td>\n      <td>2023-05-22</td>\n      <td>4</td>\n      <td>0.000000</td>\n      <td>0.0</td>\n      <td>2.0</td>\n      <td>1.0</td>\n      <td>28</td>\n    </tr>\n    <tr>\n      <th>35153</th>\n      <td>1</td>\n      <td>3</td>\n      <td>022-0631</td>\n      <td>7.4</td>\n      <td>0</td>\n      <td>2024-10-14</td>\n      <td>2024-11-11</td>\n      <td>0</td>\n      <td>0</td>\n      <td>2023-05-29</td>\n      <td>4</td>\n      <td>0.000000</td>\n      <td>0.0</td>\n      <td>2.0</td>\n      <td>1.0</td>\n      <td>28</td>\n    </tr>\n    <tr>\n      <th>1665</th>\n      <td>1</td>\n      <td>3</td>\n      <td>022-0631</td>\n      <td>8</td>\n      <td>0</td>\n      <td>2024-12-02</td>\n      <td>2025-07-11</td>\n      <td>0</td>\n      <td>0</td>\n      <td>2023-01-17</td>\n      <td>1</td>\n      <td>0.000000</td>\n      <td>0.0</td>\n      <td>2.0</td>\n      <td>0.0</td>\n      <td>221</td>\n    </tr>\n    <tr>\n      <th>3393</th>\n      <td>1</td>\n      <td>3</td>\n      <td>022-0631</td>\n      <td>8</td>\n      <td>0</td>\n      <td>2024-12-02</td>\n      <td>2025-07-11</td>\n      <td>0</td>\n      <td>0</td>\n      <td>2023-01-23</td>\n      <td>1</td>\n      <td>0.000000</td>\n      <td>0.0</td>\n      <td>2.0</td>\n      <td>0.0</td>\n      <td>221</td>\n    </tr>\n    <tr>\n      <th>5191</th>\n      <td>1</td>\n      <td>3</td>\n      <td>022-0631</td>\n      <td>8</td>\n      <td>0</td>\n      <td>2024-12-02</td>\n      <td>2025-07-11</td>\n      <td>0</td>\n      <td>0</td>\n      <td>2023-02-06</td>\n      <td>1</td>\n      <td>0.000000</td>\n      <td>0.0</td>\n      <td>2.0</td>\n      <td>0.0</td>\n      <td>221</td>\n    </tr>\n  </tbody>\n</table>\n<p>35201 rows × 16 columns</p>\n</div>"
     },
     "execution_count": 3,
     "metadata": {},
     "output_type": "execute_result"
    }
   ],
   "source": [
    "df = df.sort_values(['obj_key', 'Кодзадачи', 'ПроцентЗавершенияЗадачи', 'date_report'])\n",
    "df"
   ],
   "metadata": {
    "collapsed": false,
    "pycharm": {
     "name": "#%%\n"
    }
   }
  },
  {
   "cell_type": "code",
   "execution_count": 4,
   "outputs": [
    {
     "data": {
      "text/plain": "       obj_prg  obj_subprg   obj_key  Кодзадачи  ПроцентЗавершенияЗадачи  \\\n8            0           1  017-0520          0                      100   \n1699         0           1  017-0520          0                      100   \n3432         0           1  017-0520          0                      100   \n5219         0           1  017-0520          0                      100   \n7030         0           1  017-0520          0                      100   \n...        ...         ...       ...        ...                      ...   \n33242        1           3  022-0631         26                        0   \n35153        1           3  022-0631         26                        0   \n1665         1           3  022-0631         27                        0   \n3393         1           3  022-0631         27                        0   \n5191         1           3  022-0631         27                        0   \n\n      ДатаНачалаЗадачи ДатаОкончанияЗадачи  Статуспоэкспертизе  Экспертиза  \\\n8           2018-11-01          2022-02-15                   0           0   \n1699        2018-11-01          2022-02-15                   0           0   \n3432        2018-11-01          2022-02-15                   0           0   \n5219        2018-11-01          2022-02-15                   0           0   \n7030        2018-11-01          2022-02-15                   0           0   \n...                ...                 ...                 ...         ...   \n33242       2024-10-14          2024-11-11                   0           0   \n35153       2024-10-14          2024-11-11                   0           0   \n1665        2024-12-02          2025-07-11                   0           0   \n3393        2024-12-02          2025-07-11                   0           0   \n5191        2024-12-02          2025-07-11                   0           0   \n\n      date_report  season  Скорость  Кол-во рабочих  Генподрядчик  \\\n8      2023-01-17       4  0.083195             0.0           5.0   \n1699   2023-01-23       4  0.083195             0.0           5.0   \n3432   2023-02-06       4  0.083195             0.0           5.0   \n5219   2023-02-13       4  0.083195             0.0           5.0   \n7030   2023-02-20       4  0.083195             0.0           5.0   \n...           ...     ...       ...             ...           ...   \n33242  2023-05-22       4  0.000000             0.0           2.0   \n35153  2023-05-29       4  0.000000             0.0           2.0   \n1665   2023-01-17       1  0.000000             0.0           2.0   \n3393   2023-01-23       1  0.000000             0.0           2.0   \n5191   2023-02-06       1  0.000000             0.0           2.0   \n\n       Генпроектировщик  Время на выполнение  \n8                   8.0                 1202  \n1699                8.0                 1202  \n3432                8.0                 1202  \n5219                8.0                 1202  \n7030                8.0                 1202  \n...                 ...                  ...  \n33242               1.0                   28  \n35153               1.0                   28  \n1665                0.0                  221  \n3393                0.0                  221  \n5191                0.0                  221  \n\n[35201 rows x 16 columns]",
      "text/html": "<div>\n<style scoped>\n    .dataframe tbody tr th:only-of-type {\n        vertical-align: middle;\n    }\n\n    .dataframe tbody tr th {\n        vertical-align: top;\n    }\n\n    .dataframe thead th {\n        text-align: right;\n    }\n</style>\n<table border=\"1\" class=\"dataframe\">\n  <thead>\n    <tr style=\"text-align: right;\">\n      <th></th>\n      <th>obj_prg</th>\n      <th>obj_subprg</th>\n      <th>obj_key</th>\n      <th>Кодзадачи</th>\n      <th>ПроцентЗавершенияЗадачи</th>\n      <th>ДатаНачалаЗадачи</th>\n      <th>ДатаОкончанияЗадачи</th>\n      <th>Статуспоэкспертизе</th>\n      <th>Экспертиза</th>\n      <th>date_report</th>\n      <th>season</th>\n      <th>Скорость</th>\n      <th>Кол-во рабочих</th>\n      <th>Генподрядчик</th>\n      <th>Генпроектировщик</th>\n      <th>Время на выполнение</th>\n    </tr>\n  </thead>\n  <tbody>\n    <tr>\n      <th>8</th>\n      <td>0</td>\n      <td>1</td>\n      <td>017-0520</td>\n      <td>0</td>\n      <td>100</td>\n      <td>2018-11-01</td>\n      <td>2022-02-15</td>\n      <td>0</td>\n      <td>0</td>\n      <td>2023-01-17</td>\n      <td>4</td>\n      <td>0.083195</td>\n      <td>0.0</td>\n      <td>5.0</td>\n      <td>8.0</td>\n      <td>1202</td>\n    </tr>\n    <tr>\n      <th>1699</th>\n      <td>0</td>\n      <td>1</td>\n      <td>017-0520</td>\n      <td>0</td>\n      <td>100</td>\n      <td>2018-11-01</td>\n      <td>2022-02-15</td>\n      <td>0</td>\n      <td>0</td>\n      <td>2023-01-23</td>\n      <td>4</td>\n      <td>0.083195</td>\n      <td>0.0</td>\n      <td>5.0</td>\n      <td>8.0</td>\n      <td>1202</td>\n    </tr>\n    <tr>\n      <th>3432</th>\n      <td>0</td>\n      <td>1</td>\n      <td>017-0520</td>\n      <td>0</td>\n      <td>100</td>\n      <td>2018-11-01</td>\n      <td>2022-02-15</td>\n      <td>0</td>\n      <td>0</td>\n      <td>2023-02-06</td>\n      <td>4</td>\n      <td>0.083195</td>\n      <td>0.0</td>\n      <td>5.0</td>\n      <td>8.0</td>\n      <td>1202</td>\n    </tr>\n    <tr>\n      <th>5219</th>\n      <td>0</td>\n      <td>1</td>\n      <td>017-0520</td>\n      <td>0</td>\n      <td>100</td>\n      <td>2018-11-01</td>\n      <td>2022-02-15</td>\n      <td>0</td>\n      <td>0</td>\n      <td>2023-02-13</td>\n      <td>4</td>\n      <td>0.083195</td>\n      <td>0.0</td>\n      <td>5.0</td>\n      <td>8.0</td>\n      <td>1202</td>\n    </tr>\n    <tr>\n      <th>7030</th>\n      <td>0</td>\n      <td>1</td>\n      <td>017-0520</td>\n      <td>0</td>\n      <td>100</td>\n      <td>2018-11-01</td>\n      <td>2022-02-15</td>\n      <td>0</td>\n      <td>0</td>\n      <td>2023-02-20</td>\n      <td>4</td>\n      <td>0.083195</td>\n      <td>0.0</td>\n      <td>5.0</td>\n      <td>8.0</td>\n      <td>1202</td>\n    </tr>\n    <tr>\n      <th>...</th>\n      <td>...</td>\n      <td>...</td>\n      <td>...</td>\n      <td>...</td>\n      <td>...</td>\n      <td>...</td>\n      <td>...</td>\n      <td>...</td>\n      <td>...</td>\n      <td>...</td>\n      <td>...</td>\n      <td>...</td>\n      <td>...</td>\n      <td>...</td>\n      <td>...</td>\n      <td>...</td>\n    </tr>\n    <tr>\n      <th>33242</th>\n      <td>1</td>\n      <td>3</td>\n      <td>022-0631</td>\n      <td>26</td>\n      <td>0</td>\n      <td>2024-10-14</td>\n      <td>2024-11-11</td>\n      <td>0</td>\n      <td>0</td>\n      <td>2023-05-22</td>\n      <td>4</td>\n      <td>0.000000</td>\n      <td>0.0</td>\n      <td>2.0</td>\n      <td>1.0</td>\n      <td>28</td>\n    </tr>\n    <tr>\n      <th>35153</th>\n      <td>1</td>\n      <td>3</td>\n      <td>022-0631</td>\n      <td>26</td>\n      <td>0</td>\n      <td>2024-10-14</td>\n      <td>2024-11-11</td>\n      <td>0</td>\n      <td>0</td>\n      <td>2023-05-29</td>\n      <td>4</td>\n      <td>0.000000</td>\n      <td>0.0</td>\n      <td>2.0</td>\n      <td>1.0</td>\n      <td>28</td>\n    </tr>\n    <tr>\n      <th>1665</th>\n      <td>1</td>\n      <td>3</td>\n      <td>022-0631</td>\n      <td>27</td>\n      <td>0</td>\n      <td>2024-12-02</td>\n      <td>2025-07-11</td>\n      <td>0</td>\n      <td>0</td>\n      <td>2023-01-17</td>\n      <td>1</td>\n      <td>0.000000</td>\n      <td>0.0</td>\n      <td>2.0</td>\n      <td>0.0</td>\n      <td>221</td>\n    </tr>\n    <tr>\n      <th>3393</th>\n      <td>1</td>\n      <td>3</td>\n      <td>022-0631</td>\n      <td>27</td>\n      <td>0</td>\n      <td>2024-12-02</td>\n      <td>2025-07-11</td>\n      <td>0</td>\n      <td>0</td>\n      <td>2023-01-23</td>\n      <td>1</td>\n      <td>0.000000</td>\n      <td>0.0</td>\n      <td>2.0</td>\n      <td>0.0</td>\n      <td>221</td>\n    </tr>\n    <tr>\n      <th>5191</th>\n      <td>1</td>\n      <td>3</td>\n      <td>022-0631</td>\n      <td>27</td>\n      <td>0</td>\n      <td>2024-12-02</td>\n      <td>2025-07-11</td>\n      <td>0</td>\n      <td>0</td>\n      <td>2023-02-06</td>\n      <td>1</td>\n      <td>0.000000</td>\n      <td>0.0</td>\n      <td>2.0</td>\n      <td>0.0</td>\n      <td>221</td>\n    </tr>\n  </tbody>\n</table>\n<p>35201 rows × 16 columns</p>\n</div>"
     },
     "execution_count": 4,
     "metadata": {},
     "output_type": "execute_result"
    }
   ],
   "source": [
    "lk = sk.preprocessing.LabelEncoder()\n",
    "lk.fit(df[\"Кодзадачи\"])\n",
    "df[\"Кодзадачи\"] = lk.transform(df[\"Кодзадачи\"])\n",
    "df"
   ],
   "metadata": {
    "collapsed": false,
    "pycharm": {
     "name": "#%%\n"
    }
   }
  },
  {
   "cell_type": "code",
   "execution_count": 5,
   "outputs": [
    {
     "data": {
      "text/plain": "array([1202, 1202, 1202, ...,  221,  221,  221], dtype=int64)"
     },
     "execution_count": 5,
     "metadata": {},
     "output_type": "execute_result"
    }
   ],
   "source": [
    "y = np.array(df[\"Время на выполнение\"])\n",
    "y"
   ],
   "metadata": {
    "collapsed": false,
    "pycharm": {
     "name": "#%%\n"
    }
   }
  },
  {
   "cell_type": "code",
   "execution_count": 6,
   "outputs": [
    {
     "data": {
      "text/plain": "       obj_prg  obj_subprg  ПроцентЗавершенияЗадачи  Статуспоэкспертизе  \\\n8            0           1                      100                   0   \n1699         0           1                      100                   0   \n3432         0           1                      100                   0   \n5219         0           1                      100                   0   \n7030         0           1                      100                   0   \n...        ...         ...                      ...                 ...   \n33242        1           3                        0                   0   \n35153        1           3                        0                   0   \n1665         1           3                        0                   0   \n3393         1           3                        0                   0   \n5191         1           3                        0                   0   \n\n       Экспертиза  season  Скорость  Кол-во рабочих  Генподрядчик  \\\n8               0       4  0.083195             0.0           5.0   \n1699            0       4  0.083195             0.0           5.0   \n3432            0       4  0.083195             0.0           5.0   \n5219            0       4  0.083195             0.0           5.0   \n7030            0       4  0.083195             0.0           5.0   \n...           ...     ...       ...             ...           ...   \n33242           0       4  0.000000             0.0           2.0   \n35153           0       4  0.000000             0.0           2.0   \n1665            0       1  0.000000             0.0           2.0   \n3393            0       1  0.000000             0.0           2.0   \n5191            0       1  0.000000             0.0           2.0   \n\n       Генпроектировщик  \n8                   8.0  \n1699                8.0  \n3432                8.0  \n5219                8.0  \n7030                8.0  \n...                 ...  \n33242               1.0  \n35153               1.0  \n1665                0.0  \n3393                0.0  \n5191                0.0  \n\n[35201 rows x 10 columns]",
      "text/html": "<div>\n<style scoped>\n    .dataframe tbody tr th:only-of-type {\n        vertical-align: middle;\n    }\n\n    .dataframe tbody tr th {\n        vertical-align: top;\n    }\n\n    .dataframe thead th {\n        text-align: right;\n    }\n</style>\n<table border=\"1\" class=\"dataframe\">\n  <thead>\n    <tr style=\"text-align: right;\">\n      <th></th>\n      <th>obj_prg</th>\n      <th>obj_subprg</th>\n      <th>ПроцентЗавершенияЗадачи</th>\n      <th>Статуспоэкспертизе</th>\n      <th>Экспертиза</th>\n      <th>season</th>\n      <th>Скорость</th>\n      <th>Кол-во рабочих</th>\n      <th>Генподрядчик</th>\n      <th>Генпроектировщик</th>\n    </tr>\n  </thead>\n  <tbody>\n    <tr>\n      <th>8</th>\n      <td>0</td>\n      <td>1</td>\n      <td>100</td>\n      <td>0</td>\n      <td>0</td>\n      <td>4</td>\n      <td>0.083195</td>\n      <td>0.0</td>\n      <td>5.0</td>\n      <td>8.0</td>\n    </tr>\n    <tr>\n      <th>1699</th>\n      <td>0</td>\n      <td>1</td>\n      <td>100</td>\n      <td>0</td>\n      <td>0</td>\n      <td>4</td>\n      <td>0.083195</td>\n      <td>0.0</td>\n      <td>5.0</td>\n      <td>8.0</td>\n    </tr>\n    <tr>\n      <th>3432</th>\n      <td>0</td>\n      <td>1</td>\n      <td>100</td>\n      <td>0</td>\n      <td>0</td>\n      <td>4</td>\n      <td>0.083195</td>\n      <td>0.0</td>\n      <td>5.0</td>\n      <td>8.0</td>\n    </tr>\n    <tr>\n      <th>5219</th>\n      <td>0</td>\n      <td>1</td>\n      <td>100</td>\n      <td>0</td>\n      <td>0</td>\n      <td>4</td>\n      <td>0.083195</td>\n      <td>0.0</td>\n      <td>5.0</td>\n      <td>8.0</td>\n    </tr>\n    <tr>\n      <th>7030</th>\n      <td>0</td>\n      <td>1</td>\n      <td>100</td>\n      <td>0</td>\n      <td>0</td>\n      <td>4</td>\n      <td>0.083195</td>\n      <td>0.0</td>\n      <td>5.0</td>\n      <td>8.0</td>\n    </tr>\n    <tr>\n      <th>...</th>\n      <td>...</td>\n      <td>...</td>\n      <td>...</td>\n      <td>...</td>\n      <td>...</td>\n      <td>...</td>\n      <td>...</td>\n      <td>...</td>\n      <td>...</td>\n      <td>...</td>\n    </tr>\n    <tr>\n      <th>33242</th>\n      <td>1</td>\n      <td>3</td>\n      <td>0</td>\n      <td>0</td>\n      <td>0</td>\n      <td>4</td>\n      <td>0.000000</td>\n      <td>0.0</td>\n      <td>2.0</td>\n      <td>1.0</td>\n    </tr>\n    <tr>\n      <th>35153</th>\n      <td>1</td>\n      <td>3</td>\n      <td>0</td>\n      <td>0</td>\n      <td>0</td>\n      <td>4</td>\n      <td>0.000000</td>\n      <td>0.0</td>\n      <td>2.0</td>\n      <td>1.0</td>\n    </tr>\n    <tr>\n      <th>1665</th>\n      <td>1</td>\n      <td>3</td>\n      <td>0</td>\n      <td>0</td>\n      <td>0</td>\n      <td>1</td>\n      <td>0.000000</td>\n      <td>0.0</td>\n      <td>2.0</td>\n      <td>0.0</td>\n    </tr>\n    <tr>\n      <th>3393</th>\n      <td>1</td>\n      <td>3</td>\n      <td>0</td>\n      <td>0</td>\n      <td>0</td>\n      <td>1</td>\n      <td>0.000000</td>\n      <td>0.0</td>\n      <td>2.0</td>\n      <td>0.0</td>\n    </tr>\n    <tr>\n      <th>5191</th>\n      <td>1</td>\n      <td>3</td>\n      <td>0</td>\n      <td>0</td>\n      <td>0</td>\n      <td>1</td>\n      <td>0.000000</td>\n      <td>0.0</td>\n      <td>2.0</td>\n      <td>0.0</td>\n    </tr>\n  </tbody>\n</table>\n<p>35201 rows × 10 columns</p>\n</div>"
     },
     "execution_count": 6,
     "metadata": {},
     "output_type": "execute_result"
    }
   ],
   "source": [
    "df.drop(['ДатаНачалаЗадачи', 'ДатаОкончанияЗадачи', 'date_report', 'Время на выполнение', 'obj_key', 'Кодзадачи'], axis=1, inplace=True)\n",
    "df"
   ],
   "metadata": {
    "collapsed": false,
    "pycharm": {
     "name": "#%%\n"
    }
   }
  },
  {
   "cell_type": "code",
   "execution_count": 7,
   "outputs": [
    {
     "data": {
      "text/plain": "         0    1    2    3    4    5    6    7    8    9   10   11   12  \\\n0      1.0  0.0  0.0  1.0  0.0  0.0  1.0  0.0  0.0  0.0  0.0  0.0  1.0   \n1      1.0  0.0  0.0  1.0  0.0  0.0  1.0  0.0  0.0  0.0  0.0  0.0  1.0   \n2      1.0  0.0  0.0  1.0  0.0  0.0  1.0  0.0  0.0  0.0  0.0  0.0  1.0   \n3      1.0  0.0  0.0  1.0  0.0  0.0  1.0  0.0  0.0  0.0  0.0  0.0  1.0   \n4      1.0  0.0  0.0  1.0  0.0  0.0  1.0  0.0  0.0  0.0  0.0  0.0  1.0   \n...    ...  ...  ...  ...  ...  ...  ...  ...  ...  ...  ...  ...  ...   \n35196  0.0  1.0  0.0  0.0  0.0  1.0  1.0  0.0  0.0  0.0  0.0  0.0  1.0   \n35197  0.0  1.0  0.0  0.0  0.0  1.0  1.0  0.0  0.0  0.0  0.0  0.0  1.0   \n35198  0.0  1.0  0.0  0.0  0.0  1.0  1.0  0.0  0.0  1.0  0.0  0.0  0.0   \n35199  0.0  1.0  0.0  0.0  0.0  1.0  1.0  0.0  0.0  1.0  0.0  0.0  0.0   \n35200  0.0  1.0  0.0  0.0  0.0  1.0  1.0  0.0  0.0  1.0  0.0  0.0  0.0   \n\n       ПроцентЗавершенияЗадачи  Экспертиза  Скорость  Кол-во рабочих  \\\n0                          100           0  0.083195             0.0   \n1                          100           0  0.083195             0.0   \n2                          100           0  0.083195             0.0   \n3                          100           0  0.083195             0.0   \n4                          100           0  0.083195             0.0   \n...                        ...         ...       ...             ...   \n35196                        0           0  0.000000             0.0   \n35197                        0           0  0.000000             0.0   \n35198                        0           0  0.000000             0.0   \n35199                        0           0  0.000000             0.0   \n35200                        0           0  0.000000             0.0   \n\n       Генподрядчик  Генпроектировщик  \n0               5.0               8.0  \n1               5.0               8.0  \n2               5.0               8.0  \n3               5.0               8.0  \n4               5.0               8.0  \n...             ...               ...  \n35196           2.0               1.0  \n35197           2.0               1.0  \n35198           2.0               0.0  \n35199           2.0               0.0  \n35200           2.0               0.0  \n\n[35201 rows x 19 columns]",
      "text/html": "<div>\n<style scoped>\n    .dataframe tbody tr th:only-of-type {\n        vertical-align: middle;\n    }\n\n    .dataframe tbody tr th {\n        vertical-align: top;\n    }\n\n    .dataframe thead th {\n        text-align: right;\n    }\n</style>\n<table border=\"1\" class=\"dataframe\">\n  <thead>\n    <tr style=\"text-align: right;\">\n      <th></th>\n      <th>0</th>\n      <th>1</th>\n      <th>2</th>\n      <th>3</th>\n      <th>4</th>\n      <th>5</th>\n      <th>6</th>\n      <th>7</th>\n      <th>8</th>\n      <th>9</th>\n      <th>10</th>\n      <th>11</th>\n      <th>12</th>\n      <th>ПроцентЗавершенияЗадачи</th>\n      <th>Экспертиза</th>\n      <th>Скорость</th>\n      <th>Кол-во рабочих</th>\n      <th>Генподрядчик</th>\n      <th>Генпроектировщик</th>\n    </tr>\n  </thead>\n  <tbody>\n    <tr>\n      <th>0</th>\n      <td>1.0</td>\n      <td>0.0</td>\n      <td>0.0</td>\n      <td>1.0</td>\n      <td>0.0</td>\n      <td>0.0</td>\n      <td>1.0</td>\n      <td>0.0</td>\n      <td>0.0</td>\n      <td>0.0</td>\n      <td>0.0</td>\n      <td>0.0</td>\n      <td>1.0</td>\n      <td>100</td>\n      <td>0</td>\n      <td>0.083195</td>\n      <td>0.0</td>\n      <td>5.0</td>\n      <td>8.0</td>\n    </tr>\n    <tr>\n      <th>1</th>\n      <td>1.0</td>\n      <td>0.0</td>\n      <td>0.0</td>\n      <td>1.0</td>\n      <td>0.0</td>\n      <td>0.0</td>\n      <td>1.0</td>\n      <td>0.0</td>\n      <td>0.0</td>\n      <td>0.0</td>\n      <td>0.0</td>\n      <td>0.0</td>\n      <td>1.0</td>\n      <td>100</td>\n      <td>0</td>\n      <td>0.083195</td>\n      <td>0.0</td>\n      <td>5.0</td>\n      <td>8.0</td>\n    </tr>\n    <tr>\n      <th>2</th>\n      <td>1.0</td>\n      <td>0.0</td>\n      <td>0.0</td>\n      <td>1.0</td>\n      <td>0.0</td>\n      <td>0.0</td>\n      <td>1.0</td>\n      <td>0.0</td>\n      <td>0.0</td>\n      <td>0.0</td>\n      <td>0.0</td>\n      <td>0.0</td>\n      <td>1.0</td>\n      <td>100</td>\n      <td>0</td>\n      <td>0.083195</td>\n      <td>0.0</td>\n      <td>5.0</td>\n      <td>8.0</td>\n    </tr>\n    <tr>\n      <th>3</th>\n      <td>1.0</td>\n      <td>0.0</td>\n      <td>0.0</td>\n      <td>1.0</td>\n      <td>0.0</td>\n      <td>0.0</td>\n      <td>1.0</td>\n      <td>0.0</td>\n      <td>0.0</td>\n      <td>0.0</td>\n      <td>0.0</td>\n      <td>0.0</td>\n      <td>1.0</td>\n      <td>100</td>\n      <td>0</td>\n      <td>0.083195</td>\n      <td>0.0</td>\n      <td>5.0</td>\n      <td>8.0</td>\n    </tr>\n    <tr>\n      <th>4</th>\n      <td>1.0</td>\n      <td>0.0</td>\n      <td>0.0</td>\n      <td>1.0</td>\n      <td>0.0</td>\n      <td>0.0</td>\n      <td>1.0</td>\n      <td>0.0</td>\n      <td>0.0</td>\n      <td>0.0</td>\n      <td>0.0</td>\n      <td>0.0</td>\n      <td>1.0</td>\n      <td>100</td>\n      <td>0</td>\n      <td>0.083195</td>\n      <td>0.0</td>\n      <td>5.0</td>\n      <td>8.0</td>\n    </tr>\n    <tr>\n      <th>...</th>\n      <td>...</td>\n      <td>...</td>\n      <td>...</td>\n      <td>...</td>\n      <td>...</td>\n      <td>...</td>\n      <td>...</td>\n      <td>...</td>\n      <td>...</td>\n      <td>...</td>\n      <td>...</td>\n      <td>...</td>\n      <td>...</td>\n      <td>...</td>\n      <td>...</td>\n      <td>...</td>\n      <td>...</td>\n      <td>...</td>\n      <td>...</td>\n    </tr>\n    <tr>\n      <th>35196</th>\n      <td>0.0</td>\n      <td>1.0</td>\n      <td>0.0</td>\n      <td>0.0</td>\n      <td>0.0</td>\n      <td>1.0</td>\n      <td>1.0</td>\n      <td>0.0</td>\n      <td>0.0</td>\n      <td>0.0</td>\n      <td>0.0</td>\n      <td>0.0</td>\n      <td>1.0</td>\n      <td>0</td>\n      <td>0</td>\n      <td>0.000000</td>\n      <td>0.0</td>\n      <td>2.0</td>\n      <td>1.0</td>\n    </tr>\n    <tr>\n      <th>35197</th>\n      <td>0.0</td>\n      <td>1.0</td>\n      <td>0.0</td>\n      <td>0.0</td>\n      <td>0.0</td>\n      <td>1.0</td>\n      <td>1.0</td>\n      <td>0.0</td>\n      <td>0.0</td>\n      <td>0.0</td>\n      <td>0.0</td>\n      <td>0.0</td>\n      <td>1.0</td>\n      <td>0</td>\n      <td>0</td>\n      <td>0.000000</td>\n      <td>0.0</td>\n      <td>2.0</td>\n      <td>1.0</td>\n    </tr>\n    <tr>\n      <th>35198</th>\n      <td>0.0</td>\n      <td>1.0</td>\n      <td>0.0</td>\n      <td>0.0</td>\n      <td>0.0</td>\n      <td>1.0</td>\n      <td>1.0</td>\n      <td>0.0</td>\n      <td>0.0</td>\n      <td>1.0</td>\n      <td>0.0</td>\n      <td>0.0</td>\n      <td>0.0</td>\n      <td>0</td>\n      <td>0</td>\n      <td>0.000000</td>\n      <td>0.0</td>\n      <td>2.0</td>\n      <td>0.0</td>\n    </tr>\n    <tr>\n      <th>35199</th>\n      <td>0.0</td>\n      <td>1.0</td>\n      <td>0.0</td>\n      <td>0.0</td>\n      <td>0.0</td>\n      <td>1.0</td>\n      <td>1.0</td>\n      <td>0.0</td>\n      <td>0.0</td>\n      <td>1.0</td>\n      <td>0.0</td>\n      <td>0.0</td>\n      <td>0.0</td>\n      <td>0</td>\n      <td>0</td>\n      <td>0.000000</td>\n      <td>0.0</td>\n      <td>2.0</td>\n      <td>0.0</td>\n    </tr>\n    <tr>\n      <th>35200</th>\n      <td>0.0</td>\n      <td>1.0</td>\n      <td>0.0</td>\n      <td>0.0</td>\n      <td>0.0</td>\n      <td>1.0</td>\n      <td>1.0</td>\n      <td>0.0</td>\n      <td>0.0</td>\n      <td>1.0</td>\n      <td>0.0</td>\n      <td>0.0</td>\n      <td>0.0</td>\n      <td>0</td>\n      <td>0</td>\n      <td>0.000000</td>\n      <td>0.0</td>\n      <td>2.0</td>\n      <td>0.0</td>\n    </tr>\n  </tbody>\n</table>\n<p>35201 rows × 19 columns</p>\n</div>"
     },
     "execution_count": 7,
     "metadata": {},
     "output_type": "execute_result"
    }
   ],
   "source": [
    "cat_features = ['obj_prg', 'obj_subprg', 'Статуспоэкспертизе', 'season']\n",
    "\n",
    "encoder = sk.preprocessing.OneHotEncoder()\n",
    "encoded_features = encoder.fit_transform(df[cat_features])\n",
    "\n",
    "# Сбрасываем индексы датафреймов\n",
    "encoded_df = pd.DataFrame(encoded_features.toarray()).reset_index(drop=True)\n",
    "df_no_cat = df.drop(cat_features, axis=1).reset_index(drop=True)\n",
    "\n",
    "# Объединяем закодированные признаки и не-категориальные признаки\n",
    "new_data = pd.concat([encoded_df, df_no_cat], axis=1)\n",
    "\n",
    "df.drop(cat_features, inplace=True, axis=1)\n",
    "new_data.columns = [str(col) for col in new_data.columns] # добавляем префикс к имени каждой колонки, чтобы избежать дубликатов\n",
    "df = new_data.copy()\n",
    "df"
   ],
   "metadata": {
    "collapsed": false,
    "pycharm": {
     "name": "#%%\n"
    }
   }
  },
  {
   "cell_type": "code",
   "execution_count": 8,
   "outputs": [
    {
     "data": {
      "text/plain": "array([[1., 0., 0., ..., 0., 5., 8.],\n       [1., 0., 0., ..., 0., 5., 8.],\n       [1., 0., 0., ..., 0., 5., 8.],\n       ...,\n       [0., 1., 0., ..., 0., 2., 0.],\n       [0., 1., 0., ..., 0., 2., 0.],\n       [0., 1., 0., ..., 0., 2., 0.]])"
     },
     "execution_count": 8,
     "metadata": {},
     "output_type": "execute_result"
    }
   ],
   "source": [
    "x = np.array(df)\n",
    "x"
   ],
   "metadata": {
    "collapsed": false,
    "pycharm": {
     "name": "#%%\n"
    }
   }
  },
  {
   "cell_type": "code",
   "execution_count": 9,
   "outputs": [
    {
     "name": "stdout",
     "output_type": "stream",
     "text": [
      "[[0.00995382 0.         0.         ... 0.         0.04976909 0.07963055]\n",
      " [0.00995382 0.         0.         ... 0.         0.04976909 0.07963055]\n",
      " [0.00995382 0.         0.         ... 0.         0.04976909 0.07963055]\n",
      " ...\n",
      " [0.         0.35355339 0.         ... 0.         0.70710678 0.        ]\n",
      " [0.         0.35355339 0.         ... 0.         0.70710678 0.        ]\n",
      " [0.         0.35355339 0.         ... 0.         0.70710678 0.        ]]\n"
     ]
    }
   ],
   "source": [
    "x = np.array(df)\n",
    "x = sk.preprocessing.normalize(x, axis=1)\n",
    "print(x)"
   ],
   "metadata": {
    "collapsed": false,
    "pycharm": {
     "name": "#%%\n"
    }
   }
  },
  {
   "cell_type": "code",
   "execution_count": 10,
   "outputs": [
    {
     "data": {
      "text/plain": "(10560, 19)"
     },
     "execution_count": 10,
     "metadata": {},
     "output_type": "execute_result"
    }
   ],
   "source": [
    "X_train, X_test, y_train, y_test = train_test_split(x, y, test_size=0.7, random_state=117)\n",
    "X_train.shape"
   ],
   "metadata": {
    "collapsed": false,
    "pycharm": {
     "name": "#%%\n"
    }
   }
  },
  {
   "cell_type": "code",
   "execution_count": 11,
   "outputs": [
    {
     "data": {
      "text/plain": "array([[[0.33333333, 0.        , 0.33333333, ..., 0.        ,\n         0.66666667, 0.33333333]],\n\n       [[0.00790609, 0.        , 0.        , ..., 0.60876878,\n         0.03162435, 0.05534262]],\n\n       [[0.5       , 0.        , 0.5       , ..., 0.        ,\n         0.        , 0.        ]],\n\n       ...,\n\n       [[0.00957032, 0.        , 0.00957032, ..., 0.        ,\n         0.16269547, 0.23925804]],\n\n       [[0.00211204, 0.        , 0.00211204, ..., 0.97787529,\n         0.00422408, 0.00211204]],\n\n       [[0.        , 0.00472767, 0.        , ..., 0.73751652,\n         0.00472767, 0.0945534 ]]])"
     },
     "execution_count": 11,
     "metadata": {},
     "output_type": "execute_result"
    }
   ],
   "source": [
    "X_train = X_train.reshape(X_train.shape[0], 1, 19)\n",
    "X_train"
   ],
   "metadata": {
    "collapsed": false,
    "pycharm": {
     "name": "#%%\n"
    }
   }
  },
  {
   "cell_type": "code",
   "execution_count": 12,
   "outputs": [
    {
     "data": {
      "text/plain": "array([[[0.15811388, 0.        , 0.15811388, ..., 0.        ,\n         0.        , 0.9486833 ]],\n\n       [[0.03863337, 0.        , 0.        , ..., 0.        ,\n         0.57950056, 0.81130078]],\n\n       [[0.5       , 0.        , 0.        , ..., 0.        ,\n         0.        , 0.        ]],\n\n       ...,\n\n       [[0.        , 0.00980908, 0.        , ..., 0.14713621,\n         0.07847265, 0.09809081]],\n\n       [[0.49999968, 0.        , 0.49999968, ..., 0.        ,\n         0.        , 0.        ]],\n\n       [[0.03118914, 0.        , 0.        , ..., 0.        ,\n         0.        , 0.99805258]]])"
     },
     "execution_count": 12,
     "metadata": {},
     "output_type": "execute_result"
    }
   ],
   "source": [
    "X_test = X_test.reshape(X_test.shape[0], 1, 19)\n",
    "X_test"
   ],
   "metadata": {
    "collapsed": false,
    "pycharm": {
     "name": "#%%\n"
    }
   }
  },
  {
   "cell_type": "code",
   "execution_count": 13,
   "outputs": [
    {
     "name": "stdout",
     "output_type": "stream",
     "text": [
      "Model: \"model\"\n",
      "_________________________________________________________________\n",
      " Layer (type)                Output Shape              Param #   \n",
      "=================================================================\n",
      " input_1 (InputLayer)        [(None, 1, 19)]           0         \n",
      "                                                                 \n",
      " lstm (LSTM)                 (None, 16)                2304      \n",
      "                                                                 \n",
      " reshape (Reshape)           (None, 1, 16)             0         \n",
      "                                                                 \n",
      " lstm_1 (LSTM)               (None, 32)                6272      \n",
      "                                                                 \n",
      " dense (Dense)               (None, 1)                 33        \n",
      "                                                                 \n",
      "=================================================================\n",
      "Total params: 8,609\n",
      "Trainable params: 8,609\n",
      "Non-trainable params: 0\n",
      "_________________________________________________________________\n",
      "Epoch 1/50\n",
      "330/330 [==============================] - 3s 2ms/step - loss: 117045.0156 - mae: 215.8095\n",
      "Epoch 2/50\n",
      "330/330 [==============================] - 1s 2ms/step - loss: 78482.4453 - mae: 182.1989\n",
      "Epoch 3/50\n",
      "330/330 [==============================] - 1s 2ms/step - loss: 65494.5703 - mae: 183.3444\n",
      "Epoch 4/50\n",
      "330/330 [==============================] - 1s 2ms/step - loss: 63818.4961 - mae: 178.2622\n",
      "Epoch 5/50\n",
      "330/330 [==============================] - 1s 2ms/step - loss: 62958.1094 - mae: 175.7453\n",
      "Epoch 6/50\n",
      "330/330 [==============================] - 1s 2ms/step - loss: 62309.3086 - mae: 174.3779\n",
      "Epoch 7/50\n",
      "330/330 [==============================] - 1s 2ms/step - loss: 61784.7266 - mae: 173.0262\n",
      "Epoch 8/50\n",
      "330/330 [==============================] - 1s 2ms/step - loss: 61496.2227 - mae: 171.7552\n",
      "Epoch 9/50\n",
      "330/330 [==============================] - 1s 2ms/step - loss: 61170.2383 - mae: 171.2736\n",
      "Epoch 10/50\n",
      "330/330 [==============================] - 1s 2ms/step - loss: 60929.5391 - mae: 170.2730\n",
      "Epoch 11/50\n",
      "330/330 [==============================] - 1s 2ms/step - loss: 60640.8359 - mae: 170.2779\n",
      "Epoch 12/50\n",
      "330/330 [==============================] - 1s 2ms/step - loss: 60406.2773 - mae: 169.0085\n",
      "Epoch 13/50\n",
      "330/330 [==============================] - 1s 2ms/step - loss: 60112.3984 - mae: 168.7300\n",
      "Epoch 14/50\n",
      "330/330 [==============================] - 1s 2ms/step - loss: 59898.7109 - mae: 168.4842\n",
      "Epoch 15/50\n",
      "330/330 [==============================] - 1s 2ms/step - loss: 59661.0547 - mae: 168.1107\n",
      "Epoch 16/50\n",
      "330/330 [==============================] - 1s 2ms/step - loss: 59431.8867 - mae: 167.7997\n",
      "Epoch 17/50\n",
      "330/330 [==============================] - 1s 2ms/step - loss: 59206.5273 - mae: 166.9447\n",
      "Epoch 18/50\n",
      "330/330 [==============================] - 1s 2ms/step - loss: 58947.8477 - mae: 167.1011\n",
      "Epoch 19/50\n",
      "330/330 [==============================] - 1s 2ms/step - loss: 58721.9023 - mae: 166.4572\n",
      "Epoch 20/50\n",
      "330/330 [==============================] - 1s 2ms/step - loss: 58464.7617 - mae: 166.5109\n",
      "Epoch 21/50\n",
      "330/330 [==============================] - 1s 2ms/step - loss: 58230.0781 - mae: 165.8087\n",
      "Epoch 22/50\n",
      "330/330 [==============================] - 1s 2ms/step - loss: 57968.9336 - mae: 165.3873\n",
      "Epoch 23/50\n",
      "330/330 [==============================] - 1s 2ms/step - loss: 57732.0234 - mae: 165.2109\n",
      "Epoch 24/50\n",
      "330/330 [==============================] - 1s 2ms/step - loss: 57496.5469 - mae: 164.6341\n",
      "Epoch 25/50\n",
      "330/330 [==============================] - 1s 2ms/step - loss: 57267.5469 - mae: 164.2270\n",
      "Epoch 26/50\n",
      "330/330 [==============================] - 1s 2ms/step - loss: 56978.9688 - mae: 163.7902\n",
      "Epoch 27/50\n",
      "330/330 [==============================] - 1s 2ms/step - loss: 56744.0117 - mae: 163.3346\n",
      "Epoch 28/50\n",
      "330/330 [==============================] - 1s 2ms/step - loss: 56467.6602 - mae: 163.1168\n",
      "Epoch 29/50\n",
      "330/330 [==============================] - 1s 2ms/step - loss: 56275.3164 - mae: 162.4767\n",
      "Epoch 30/50\n",
      "330/330 [==============================] - 1s 2ms/step - loss: 55936.0430 - mae: 162.4604\n",
      "Epoch 31/50\n",
      "330/330 [==============================] - 1s 2ms/step - loss: 55706.6289 - mae: 161.8128\n",
      "Epoch 32/50\n",
      "330/330 [==============================] - 1s 2ms/step - loss: 55435.2969 - mae: 160.8932\n",
      "Epoch 33/50\n",
      "330/330 [==============================] - 1s 2ms/step - loss: 55136.5938 - mae: 161.1198\n",
      "Epoch 34/50\n",
      "330/330 [==============================] - 1s 2ms/step - loss: 54854.4922 - mae: 159.8251\n",
      "Epoch 35/50\n",
      "330/330 [==============================] - 1s 2ms/step - loss: 54574.9648 - mae: 159.7068\n",
      "Epoch 36/50\n",
      "330/330 [==============================] - 1s 2ms/step - loss: 54273.2656 - mae: 159.4952\n",
      "Epoch 37/50\n",
      "330/330 [==============================] - 1s 2ms/step - loss: 53982.1406 - mae: 158.5460\n",
      "Epoch 38/50\n",
      "330/330 [==============================] - 1s 2ms/step - loss: 53640.9102 - mae: 158.0028\n",
      "Epoch 39/50\n",
      "330/330 [==============================] - 1s 2ms/step - loss: 53328.3945 - mae: 157.8485\n",
      "Epoch 40/50\n",
      "330/330 [==============================] - 1s 2ms/step - loss: 52988.6602 - mae: 157.2161\n",
      "Epoch 41/50\n",
      "330/330 [==============================] - 1s 2ms/step - loss: 52639.5859 - mae: 156.1703\n",
      "Epoch 42/50\n",
      "330/330 [==============================] - 1s 2ms/step - loss: 52295.2188 - mae: 155.7054\n",
      "Epoch 43/50\n",
      "330/330 [==============================] - 1s 2ms/step - loss: 51863.2539 - mae: 155.2376\n",
      "Epoch 44/50\n",
      "330/330 [==============================] - 1s 2ms/step - loss: 51479.1641 - mae: 153.9893\n",
      "Epoch 45/50\n",
      "330/330 [==============================] - 1s 2ms/step - loss: 51067.6133 - mae: 153.8758\n",
      "Epoch 46/50\n",
      "330/330 [==============================] - 1s 2ms/step - loss: 50676.6953 - mae: 152.7527\n",
      "Epoch 47/50\n",
      "330/330 [==============================] - 1s 2ms/step - loss: 50245.0195 - mae: 151.9317\n",
      "Epoch 48/50\n",
      "330/330 [==============================] - 1s 2ms/step - loss: 49731.4648 - mae: 151.4629\n",
      "Epoch 49/50\n",
      "330/330 [==============================] - 1s 2ms/step - loss: 49288.4805 - mae: 150.6573\n",
      "Epoch 50/50\n",
      "330/330 [==============================] - 1s 2ms/step - loss: 48754.9102 - mae: 149.7589\n"
     ]
    },
    {
     "data": {
      "text/plain": "<keras.callbacks.History at 0x23bc058a620>"
     },
     "execution_count": 13,
     "metadata": {},
     "output_type": "execute_result"
    }
   ],
   "source": [
    "inputs = tf.keras.layers.Input(shape=(1, 19))\n",
    "x = tf.keras.layers.LSTM(16, activation=\"linear\")(inputs)\n",
    "x = tf.keras.layers.Reshape((-1, 16))(x)\n",
    "x = tf.keras.layers.LSTM(32, activation=\"linear\")(x)\n",
    "outputs = tf.keras.layers.Dense(1, activation=\"linear\")(x)\n",
    "model = tf.keras.models.Model(inputs=inputs, outputs=outputs)\n",
    "model.compile(optimizer=\"rmsprop\", loss=\"mse\", metrics=[\"mae\"])\n",
    "model.summary()\n",
    "model.fit(X_train, y_train, epochs=50, batch_size=32)"
   ],
   "metadata": {
    "collapsed": false,
    "pycharm": {
     "name": "#%%\n"
    }
   }
  },
  {
   "cell_type": "code",
   "execution_count": 14,
   "outputs": [
    {
     "name": "stdout",
     "output_type": "stream",
     "text": [
      "771/771 [==============================] - 2s 2ms/step - loss: 47876.1523 - mae: 149.6524\n"
     ]
    },
    {
     "data": {
      "text/plain": "[47876.15234375, 149.6524200439453]"
     },
     "execution_count": 14,
     "metadata": {},
     "output_type": "execute_result"
    }
   ],
   "source": [
    "model.evaluate(X_test, y_test)"
   ],
   "metadata": {
    "collapsed": false,
    "pycharm": {
     "name": "#%%\n"
    }
   }
  },
  {
   "cell_type": "code",
   "execution_count": 16,
   "outputs": [
    {
     "name": "stdout",
     "output_type": "stream",
     "text": [
      "771/771 [==============================] - 1s 1ms/step\n"
     ]
    },
    {
     "data": {
      "text/plain": "array([[117.412445],\n       [185.41899 ],\n       [ 98.07495 ],\n       ...,\n       [356.62085 ],\n       [106.55222 ],\n       [136.06435 ]], dtype=float32)"
     },
     "execution_count": 16,
     "metadata": {},
     "output_type": "execute_result"
    }
   ],
   "source": [
    "model.predict(X_test)"
   ],
   "metadata": {
    "collapsed": false,
    "pycharm": {
     "name": "#%%\n"
    }
   }
  },
  {
   "cell_type": "code",
   "execution_count": 17,
   "outputs": [
    {
     "data": {
      "text/plain": "array([273, 321,  77, ..., 413, 314,   6], dtype=int64)"
     },
     "execution_count": 17,
     "metadata": {},
     "output_type": "execute_result"
    }
   ],
   "source": [
    "y_test"
   ],
   "metadata": {
    "collapsed": false,
    "pycharm": {
     "name": "#%%\n"
    }
   }
  },
  {
   "cell_type": "code",
   "execution_count": 17,
   "outputs": [
    {
     "data": {
      "text/plain": "array([[-0.22501098,  0.13826676,  0.40884626, ...,  0.01521915,\n        -0.03551817,  0.20440136],\n       [-0.6566628 , -0.53413326, -0.065002  , ..., -0.19308382,\n        -0.41872603, -1.4276019 ],\n       [ 0.02251637, -0.5791174 ,  0.1713511 , ..., -0.22114797,\n        -0.6440146 , -0.55723727],\n       ...,\n       [ 0.68843305,  0.27674663,  0.29867148, ...,  0.22198799,\n         0.20543922,  0.04458469],\n       [-0.7225975 ,  0.14406292,  0.16471517, ...,  0.18203092,\n         0.12097705,  0.09596353],\n       [-0.2175599 , -0.43855178,  0.5815875 , ...,  0.3030519 ,\n        -0.15593535, -0.08719396]], dtype=float32)"
     },
     "execution_count": 17,
     "metadata": {},
     "output_type": "execute_result"
    }
   ],
   "source": [
    "model.get_weights()[0]"
   ],
   "metadata": {
    "collapsed": false,
    "pycharm": {
     "name": "#%%\n"
    }
   }
  },
  {
   "cell_type": "code",
   "execution_count": 19,
   "outputs": [],
   "source": [
    "from keras.wrappers.scikit_learn import KerasClassifier, KerasRegressor\n",
    "import eli5\n",
    "from eli5.sklearn import PermutationImportance"
   ],
   "metadata": {
    "collapsed": false,
    "pycharm": {
     "name": "#%%\n"
    }
   }
  },
  {
   "cell_type": "code",
   "execution_count": 20,
   "outputs": [
    {
     "name": "stderr",
     "output_type": "stream",
     "text": [
      "C:\\Users\\I\\AppData\\Local\\Temp\\ipykernel_13892\\2748285309.py:1: DeprecationWarning: KerasRegressor is deprecated, use Sci-Keras (https://github.com/adriangb/scikeras) instead. See https://www.adriangb.com/scikeras/stable/migration.html for help migrating.\n",
      "  my_model = KerasRegressor(build_fn=model)\n"
     ]
    },
    {
     "ename": "ValueError",
     "evalue": "The first argument to `Layer.call` must always be passed.",
     "output_type": "error",
     "traceback": [
      "\u001B[1;31m---------------------------------------------------------------------------\u001B[0m",
      "\u001B[1;31mValueError\u001B[0m                                Traceback (most recent call last)",
      "Cell \u001B[1;32mIn[20], line 2\u001B[0m\n\u001B[0;32m      1\u001B[0m my_model \u001B[38;5;241m=\u001B[39m KerasRegressor(build_fn\u001B[38;5;241m=\u001B[39mmodel)\n\u001B[1;32m----> 2\u001B[0m \u001B[43mmy_model\u001B[49m\u001B[38;5;241;43m.\u001B[39;49m\u001B[43mfit\u001B[49m\u001B[43m(\u001B[49m\u001B[43mX_train\u001B[49m\u001B[43m,\u001B[49m\u001B[43my\u001B[49m\u001B[43m)\u001B[49m\n\u001B[0;32m      4\u001B[0m perm \u001B[38;5;241m=\u001B[39m PermutationImportance(my_model, random_state\u001B[38;5;241m=\u001B[39m\u001B[38;5;241m1\u001B[39m)\u001B[38;5;241m.\u001B[39mfit(X_train,y_train)\n\u001B[0;32m      5\u001B[0m eli5\u001B[38;5;241m.\u001B[39mshow_weights(perm, feature_names \u001B[38;5;241m=\u001B[39m X_train\u001B[38;5;241m.\u001B[39mcolumns\u001B[38;5;241m.\u001B[39mtolist())\n",
      "File \u001B[1;32m~\\PycharmProjects\\dom_stroy\\venv\\lib\\site-packages\\keras\\wrappers\\scikit_learn.py:160\u001B[0m, in \u001B[0;36mBaseWrapper.fit\u001B[1;34m(self, x, y, **kwargs)\u001B[0m\n\u001B[0;32m    156\u001B[0m     \u001B[38;5;28mself\u001B[39m\u001B[38;5;241m.\u001B[39mmodel \u001B[38;5;241m=\u001B[39m \u001B[38;5;28mself\u001B[39m\u001B[38;5;241m.\u001B[39m\u001B[38;5;21m__call__\u001B[39m(\u001B[38;5;241m*\u001B[39m\u001B[38;5;241m*\u001B[39m\u001B[38;5;28mself\u001B[39m\u001B[38;5;241m.\u001B[39mfilter_sk_params(\u001B[38;5;28mself\u001B[39m\u001B[38;5;241m.\u001B[39m\u001B[38;5;21m__call__\u001B[39m))\n\u001B[0;32m    157\u001B[0m \u001B[38;5;28;01melif\u001B[39;00m \u001B[38;5;129;01mnot\u001B[39;00m \u001B[38;5;28misinstance\u001B[39m(\n\u001B[0;32m    158\u001B[0m     \u001B[38;5;28mself\u001B[39m\u001B[38;5;241m.\u001B[39mbuild_fn, types\u001B[38;5;241m.\u001B[39mFunctionType\n\u001B[0;32m    159\u001B[0m ) \u001B[38;5;129;01mand\u001B[39;00m \u001B[38;5;129;01mnot\u001B[39;00m \u001B[38;5;28misinstance\u001B[39m(\u001B[38;5;28mself\u001B[39m\u001B[38;5;241m.\u001B[39mbuild_fn, types\u001B[38;5;241m.\u001B[39mMethodType):\n\u001B[1;32m--> 160\u001B[0m     \u001B[38;5;28mself\u001B[39m\u001B[38;5;241m.\u001B[39mmodel \u001B[38;5;241m=\u001B[39m \u001B[38;5;28mself\u001B[39m\u001B[38;5;241m.\u001B[39mbuild_fn(\n\u001B[0;32m    161\u001B[0m         \u001B[38;5;241m*\u001B[39m\u001B[38;5;241m*\u001B[39m\u001B[38;5;28mself\u001B[39m\u001B[38;5;241m.\u001B[39mfilter_sk_params(\u001B[38;5;28mself\u001B[39m\u001B[38;5;241m.\u001B[39mbuild_fn\u001B[38;5;241m.\u001B[39m\u001B[38;5;21m__call__\u001B[39m)\n\u001B[0;32m    162\u001B[0m     )\n\u001B[0;32m    163\u001B[0m \u001B[38;5;28;01melse\u001B[39;00m:\n\u001B[0;32m    164\u001B[0m     \u001B[38;5;28mself\u001B[39m\u001B[38;5;241m.\u001B[39mmodel \u001B[38;5;241m=\u001B[39m \u001B[38;5;28mself\u001B[39m\u001B[38;5;241m.\u001B[39mbuild_fn(\u001B[38;5;241m*\u001B[39m\u001B[38;5;241m*\u001B[39m\u001B[38;5;28mself\u001B[39m\u001B[38;5;241m.\u001B[39mfilter_sk_params(\u001B[38;5;28mself\u001B[39m\u001B[38;5;241m.\u001B[39mbuild_fn))\n",
      "File \u001B[1;32m~\\PycharmProjects\\dom_stroy\\venv\\lib\\site-packages\\keras\\utils\\traceback_utils.py:70\u001B[0m, in \u001B[0;36mfilter_traceback.<locals>.error_handler\u001B[1;34m(*args, **kwargs)\u001B[0m\n\u001B[0;32m     67\u001B[0m     filtered_tb \u001B[38;5;241m=\u001B[39m _process_traceback_frames(e\u001B[38;5;241m.\u001B[39m__traceback__)\n\u001B[0;32m     68\u001B[0m     \u001B[38;5;66;03m# To get the full stack trace, call:\u001B[39;00m\n\u001B[0;32m     69\u001B[0m     \u001B[38;5;66;03m# `tf.debugging.disable_traceback_filtering()`\u001B[39;00m\n\u001B[1;32m---> 70\u001B[0m     \u001B[38;5;28;01mraise\u001B[39;00m e\u001B[38;5;241m.\u001B[39mwith_traceback(filtered_tb) \u001B[38;5;28;01mfrom\u001B[39;00m \u001B[38;5;28mNone\u001B[39m\n\u001B[0;32m     71\u001B[0m \u001B[38;5;28;01mfinally\u001B[39;00m:\n\u001B[0;32m     72\u001B[0m     \u001B[38;5;28;01mdel\u001B[39;00m filtered_tb\n",
      "File \u001B[1;32m~\\PycharmProjects\\dom_stroy\\venv\\lib\\site-packages\\keras\\utils\\layer_utils.py:809\u001B[0m, in \u001B[0;36mCallFunctionSpec.split_out_first_arg\u001B[1;34m(self, args, kwargs)\u001B[0m\n\u001B[0;32m    807\u001B[0m     inputs \u001B[38;5;241m=\u001B[39m kwargs\u001B[38;5;241m.\u001B[39mpop(\u001B[38;5;28mself\u001B[39m\u001B[38;5;241m.\u001B[39m_arg_names[\u001B[38;5;241m0\u001B[39m])\n\u001B[0;32m    808\u001B[0m \u001B[38;5;28;01melse\u001B[39;00m:\n\u001B[1;32m--> 809\u001B[0m     \u001B[38;5;28;01mraise\u001B[39;00m \u001B[38;5;167;01mValueError\u001B[39;00m(\n\u001B[0;32m    810\u001B[0m         \u001B[38;5;124m\"\u001B[39m\u001B[38;5;124mThe first argument to `Layer.call` must always be passed.\u001B[39m\u001B[38;5;124m\"\u001B[39m\n\u001B[0;32m    811\u001B[0m     )\n\u001B[0;32m    812\u001B[0m \u001B[38;5;28;01mreturn\u001B[39;00m inputs, args, kwargs\n",
      "\u001B[1;31mValueError\u001B[0m: The first argument to `Layer.call` must always be passed."
     ]
    }
   ],
   "source": [
    "my_model = KerasRegressor(build_fn=model)\n",
    "my_model.fit(X_train,y)\n",
    "perm = PermutationImportance(my_model, random_state=1).fit(X_train,y_train)\n",
    "eli5.show_weights(perm, feature_names = X_train.columns.tolist())"
   ],
   "metadata": {
    "collapsed": false,
    "pycharm": {
     "name": "#%%\n"
    }
   }
  }
 ],
 "metadata": {
  "kernelspec": {
   "display_name": "Python 3",
   "language": "python",
   "name": "python3"
  },
  "language_info": {
   "codemirror_mode": {
    "name": "ipython",
    "version": 2
   },
   "file_extension": ".py",
   "mimetype": "text/x-python",
   "name": "python",
   "nbconvert_exporter": "python",
   "pygments_lexer": "ipython2",
   "version": "2.7.6"
  }
 },
 "nbformat": 4,
 "nbformat_minor": 0
}