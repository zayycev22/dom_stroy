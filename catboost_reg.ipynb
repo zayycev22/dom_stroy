{
 "cells": [
  {
   "cell_type": "code",
   "execution_count": null,
   "metadata": {
    "collapsed": true
   },
   "outputs": [],
   "source": [
    "import numpy as np\n",
    "from catboost import CatBoostRegressor\n",
    "import pandas as pd\n",
    "from sklearn.metrics import mean_absolute_error"
   ]
  },
  {
   "cell_type": "code",
   "execution_count": null,
   "outputs": [],
   "source": [
    "df = pd.read_csv(\"files\\\\pred_final.csv\")\n",
    "df"
   ],
   "metadata": {
    "collapsed": false
   }
  },
  {
   "cell_type": "code",
   "execution_count": null,
   "outputs": [],
   "source": [
    "test_df = df.sort_values(['obj_key', 'Кодзадачи', 'ПроцентЗавершенияЗадачи', 'date_report'])\n",
    "test_df"
   ],
   "metadata": {
    "collapsed": false
   }
  },
  {
   "cell_type": "code",
   "execution_count": null,
   "outputs": [],
   "source": [
    "codes = test_df['Кодзадачи'].unique()\n",
    "codes_d = {codes[i]: i for i in range(len(codes))}\n",
    "test_df['Кодзадачи'] =test_df['Кодзадачи'].map(codes_d)\n",
    "test_df"
   ],
   "metadata": {
    "collapsed": false
   }
  },
  {
   "cell_type": "code",
   "execution_count": null,
   "outputs": [],
   "source": [
    "test_df['ДатаНачалаЗадачи'] =  pd.to_datetime(test_df['ДатаНачалаЗадачи']).apply(lambda x: x.toordinal())\n",
    "test_df['ДатаОкончанияЗадачи'] =  pd.to_datetime(test_df['ДатаОкончанияЗадачи']).apply(lambda x: x.toordinal())\n",
    "test_df"
   ],
   "metadata": {
    "collapsed": false
   }
  },
  {
   "cell_type": "code",
   "execution_count": null,
   "outputs": [],
   "source": [
    "from tqdm import tqdm\n",
    "keys = test_df['obj_key'].unique()\n",
    "test_df2 = test_df.drop(['ДатаОкончанияЗадачи', 'Время на выполнение'], axis=1)\n",
    "keys.sort()\n",
    "mm = []\n",
    "for key in tqdm(keys):\n",
    "    tt =  test_df2[test_df['obj_key'] == key]\n",
    "    m_square = []\n",
    "    codes = tt['Кодзадачи'].unique()\n",
    "    t_square = []\n",
    "    for code in codes:\n",
    "        ttt = tt[(tt['obj_key'] == key) & (tt['Кодзадачи'] == code)]\n",
    "        code_square = []\n",
    "        for i, row in ttt.iterrows():\n",
    "            code_square.append(row.values.tolist())\n",
    "        t_square.append(code_square)\n",
    "    m_square.append(t_square)\n",
    "    mm.append(m_square)"
   ],
   "metadata": {
    "collapsed": false
   }
  },
  {
   "cell_type": "code",
   "execution_count": null,
   "outputs": [],
   "source": [],
   "metadata": {
    "collapsed": false
   }
  },
  {
   "cell_type": "code",
   "execution_count": null,
   "outputs": [],
   "source": [
    "import numpy as np\n",
    "mmmm = np.asarray(mm, dtype=object)\n",
    "mmmm[0]"
   ],
   "metadata": {
    "collapsed": false
   }
  },
  {
   "cell_type": "code",
   "execution_count": null,
   "outputs": [],
   "source": [
    "test_df.dtypes"
   ],
   "metadata": {
    "collapsed": false
   }
  },
  {
   "cell_type": "code",
   "execution_count": null,
   "outputs": [],
   "source": [
    "x = test_df.drop(['Время на выполнение','ДатаОкончанияЗадачи', 'date_report', 'Время на выполнение', 'obj_key'], axis=1)\n",
    "y = test_df['Время на выполнение']\n",
    "y"
   ],
   "metadata": {
    "collapsed": false
   }
  },
  {
   "cell_type": "code",
   "execution_count": null,
   "outputs": [],
   "source": [
    "split_index = int(len(test_df) * 0.8)\n",
    "x_train = x[:split_index]\n",
    "x_test = x[split_index:]\n",
    "y_train = y[:split_index]\n",
    "y_test = y[split_index:]"
   ],
   "metadata": {
    "collapsed": false
   }
  },
  {
   "cell_type": "code",
   "execution_count": null,
   "outputs": [],
   "source": [
    "x_train['Кодзадачи'].unique()"
   ],
   "metadata": {
    "collapsed": false
   }
  },
  {
   "cell_type": "code",
   "execution_count": null,
   "outputs": [],
   "source": [
    "cat_features = ['obj_prg', 'obj_subprg', 'Статуспоэкспертизе', 'season', 'Кодзадачи']"
   ],
   "metadata": {
    "collapsed": false
   }
  },
  {
   "cell_type": "code",
   "execution_count": null,
   "outputs": [],
   "source": [
    "model = CatBoostRegressor(iterations=2000, random_seed=18, loss_function='RMSE', learning_rate=0.05, max_depth=8, early_stopping_rounds=500, eval_metric=\"MAE\")\n",
    "\n",
    "model.fit(x_train, y_train, use_best_model=True, cat_features=cat_features, eval_set=(x_test, y_test))"
   ],
   "metadata": {
    "collapsed": false
   }
  },
  {
   "cell_type": "code",
   "execution_count": null,
   "outputs": [],
   "source": [
    "ans = model.predict(x_test)\n",
    "ans"
   ],
   "metadata": {
    "collapsed": false
   }
  },
  {
   "cell_type": "code",
   "execution_count": null,
   "outputs": [],
   "source": [
    "x_test"
   ],
   "metadata": {
    "collapsed": false
   }
  },
  {
   "cell_type": "code",
   "execution_count": null,
   "outputs": [],
   "source": [
    "test_df[split_index:]"
   ],
   "metadata": {
    "collapsed": false
   }
  },
  {
   "cell_type": "code",
   "execution_count": null,
   "outputs": [],
   "source": [
    "model.get_feature_importance(prettified=True)"
   ],
   "metadata": {
    "collapsed": false
   }
  },
  {
   "cell_type": "code",
   "execution_count": null,
   "outputs": [],
   "source": [
    "mean_absolute_error(y_test, ans)"
   ],
   "metadata": {
    "collapsed": false
   }
  }
 ],
 "metadata": {
  "kernelspec": {
   "display_name": "Python 3",
   "language": "python",
   "name": "python3"
  },
  "language_info": {
   "codemirror_mode": {
    "name": "ipython",
    "version": 2
   },
   "file_extension": ".py",
   "mimetype": "text/x-python",
   "name": "python",
   "nbconvert_exporter": "python",
   "pygments_lexer": "ipython2",
   "version": "2.7.6"
  }
 },
 "nbformat": 4,
 "nbformat_minor": 0
}